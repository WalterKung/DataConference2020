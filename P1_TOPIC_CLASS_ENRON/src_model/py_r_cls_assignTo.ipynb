{
 "cells": [
  {
   "cell_type": "code",
   "execution_count": 1,
   "metadata": {},
   "outputs": [],
   "source": [
    "#!/usr/bin/env python\n",
    "# coding: utf-8\n",
    "\n",
    "from fastai.text import *\n",
    "import fastai\n",
    "from pathlib import Path\n",
    "import numpy as np, pandas as pd\n",
    "import chardet\n",
    "import random\n",
    "import torch\n",
    "import logging\n",
    "\n",
    "class py_mincor_cls:\n",
    "    def __init__(self, path):\n",
    "        nm_dataset = 'Enron_emails'        \n",
    "        self.path = Path(path)\n",
    "        self.data_clas = load_data(self.path.joinpath(\"tmp\"), 'data_clas.pkl', bs=12)\n",
    "        self.learn = text_classifier_learner(self.data_clas, AWD_LSTM, drop_mult=0.5)\n",
    "        self.learn.load('fourth')\n",
    "        self.emailAddr = \"\"\n",
    "        self.lbl = ['Company Business', 'Purely Personal', 'Personal but in professional context', 'Logistic Arrangements', 'Employment arrangements', 'Document editing', 'Empty']\n",
    "        self.df_client = pd.read_csv(self.path.joinpath(nm_dataset).joinpath(\"emails.csv\"))\n",
    "        \n",
    "    def assignto_setEmailAddr(self, emailAddr):\n",
    "        self.emailAddr = emailAddr\n",
    "    def assignto_predict(self, txt):\n",
    "        return (self.learn.predict(self.assignto_preprocessTxt(txt)))\n",
    "    def assignto_preprocessTxt(self, text):       \n",
    "        return(text)\n",
    "    def assignto_getProbability(self, txt):\n",
    "        return (self.assignto_predict(txt)[2].numpy())\n",
    "    def assignto_getProbLab(self, txt):\n",
    "        return (pd.DataFrame({\"label\": self.lbl, \"prob\": self.assignto_getProbability(txt)}))\n",
    "    \n",
    "    def contacts_getEmailAddrFromText(self, text):\n",
    "        # @ for as in the Email \n",
    "        # + for Repeats a character one or more times \n",
    "        lst = re.findall('[a-zA-Z0-9_.+-]+@[a-zA-Z0-9-]+\\.[a-zA-Z0-9-.]+', text)      \n",
    "        # Printing of List \n",
    "        return([e.upper() for e in list(set(lst))])\n",
    "\n",
    "    def contacts_getFoundEmailList(self, text): \n",
    "        return(self.df_client[self.df_client['EMAIL'].str.match(pat = '|'.join(self.contacts_getEmailAddrFromText(text)))])\n",
    "\n",
    "    def contacts_getFoundEmailStr(self, text): \n",
    "        df = self.contacts_getFoundEmailList(text)\n",
    "        str_out = list(df['FNAME'] + \" | \" + df['LNAME'] + \" | \" + df['EMAIL'])\n",
    "        return(str_out)\n",
    "\n",
    "    def tools_delete_token_sent(self, s, token):\n",
    "        return(re.sub(r\".*\" + token + \":.*\", \"\\n\", s))\n",
    "\n",
    "    def extractEmailBody(self, text):\n",
    "        s = self.tools_delete_token_sent(text, \"From\")\n",
    "        s = self.tools_delete_token_sent(text, \"Sent\")\n",
    "        s = self.tools_delete_token_sent(s, \"To\")\n",
    "        s = self.tools_delete_token_sent(s, \"[Cc][Cc]\")\n",
    "        s = self.tools_delete_token_sent(s, \"Subject\")\n",
    "        return(s)        \n",
    "        \n",
    "# interface to the world    \n",
    "m1 = py_mincor_cls(\"/home/wk/myProjects/Correspondance/data\")\n"
   ]
  },
  {
   "cell_type": "code",
   "execution_count": 30,
   "metadata": {},
   "outputs": [
    {
     "data": {
      "text/plain": "['Pamela.J.Allison@dynegy.com',\n '20relations@caiso.com',\n 'IMCEANOTES-Pam+2EAllison+40dynegy+2Ecom+40ENRON@ENRON.com',\n 'Pam.Allison@dynegy.com']"
     },
     "execution_count": 30,
     "metadata": {},
     "output_type": "execute_result"
    }
   ],
   "source": [
    "\n",
    "# Python program to extract emails From  \n",
    "# the String By Regular Expression. \n",
    "  \n",
    "# Importing module required for regular \n",
    "# expressions \n",
    "import re  \n",
    "  \n",
    "# Example string  \n",
    "s = '''\n",
    "-----Original Message-----\n",
    "From: \tPam.Allison@dynegy.com@ENRON [mailto:IMCEANOTES-Pam+2EAllison+40dynegy+2Ecom+40ENRON@ENRON.com]  On Behalf Of Pamela.J.Allison@dynegy.com\n",
    "Sent:\tWednesday, August 15, 2001 5:39 PM\n",
    "To:\tLay, Kenneth\n",
    "Subject:\tJeff's Leaving\n",
    "\n",
    "20relations@caiso.com\n",
    "\n",
    "Mr. Lay:\n",
    "\n",
    "Mr. Lay, the I am not writing this in malice but in hopes that it helps get\n",
    "Enron back the way it used to treat their employees and makes it the number\n",
    "one employer of choice again.  I hope you can get back the feeling that I\n",
    "had when I first started there and get the stress level down in your\n",
    "organization for the sake of your employees.\n",
    "\n",
    "I am a former employee who worked at Enron for 10 years - my husband was,\n",
    "at one time, in charge of A/P.  My one big disappointment was that I never\n",
    "got to meet you.    During that time, I made a lot of friends who I\n",
    "continue to see from time to time.  I left last year and have missed the\n",
    "company since I left but would not contemplate coming back unless several\n",
    "people have been replaced.  (Joannie Williamson and Sheri Sera know my\n",
    "story.)\n",
    "\n",
    "I \"knew\" Jeff but I don't think he knew me by name, only by sight, even\n",
    "though I worked in ENA when it only had 400 employees with 3 of us in HR.\n",
    "He was NOT what I would call a people person!  Unless you were in an upper\n",
    "level position, he did not take the time to find out your name.  (Ron Burns\n",
    "is still one of my favorite people because of his talent with people - we\n",
    "need more like him in the business world!)\n",
    "\n",
    "As you can see, I am now working for a competitor and since I work in HR, I\n",
    "continually run into former Enron workers who have also left - most of\n",
    "their reasons are the same.\n",
    "\n",
    "It is not that they have lost faith in Enron as a company but because of\n",
    "they way they were treated by their managers.  During the last 5 years I\n",
    "was there, I noticed a change in direction in the way employees were\n",
    "treated by upper management - and upper management was getting away with\n",
    "it.  Not only were they getting away with it, these people were being\n",
    "rewarded for this behavior.  I have heard stories of lower level employees\n",
    "being screamed at and in one instance, one of the VP's who was brought down\n",
    "from Canada was heard in his office screaming and pounding his telephone on\n",
    "his desk.  Heaven only knows how he treats his subordinates.  Believe me,\n",
    "the way employees are treated at Enron is being talked about on the streets\n",
    "of Houston and on the different college campuses.  You might also at some\n",
    "point take the time to find out why so many good people have left the HR\n",
    "community at Enron and it is not because they wanted to.\n",
    "\n",
    "I don't know if you will see this, but I hope so.  Good luck on bringing\n",
    "Enron back to way it was - I still own stock!!\n",
    "\n",
    "Thanks for listening...\n",
    "\n",
    "Pam Allison \n",
    "\n",
    "'''\n",
    "# @ for as in the Email \n",
    "# + for Repeats a character one or more times \n",
    "lst = re.findall('[a-zA-Z0-9_.+-]+@[a-zA-Z0-9-]+\\.[a-zA-Z0-9-.]+', s)      \n",
    "  \n",
    "# Printing of List \n",
    "list(set(lst))\n"
   ]
  },
  {
   "cell_type": "code",
   "execution_count": 31,
   "metadata": {},
   "outputs": [
    {
     "data": {
      "text/plain": "'\\n-----Original Message-----\\nFrom: \\tPam.Allison@dynegy.com@ENRON [mailto:IMCEANOTES-Pam+2EAllison+40dynegy+2Ecom+40ENRON@ENRON.com]  On Behalf Of Pamela.J.Allison@dynegy.com\\n\\n\\n\\n\\n\\n\\n\\n20relations@caiso.com\\n\\nMr. Lay:\\n\\nMr. Lay, the I am not writing this in malice but in hopes that it helps get\\nEnron back the way it used to treat their employees and makes it the number\\none employer of choice again.  I hope you can get back the feeling that I\\nhad when I first started there and get the stress level down in your\\norganization for the sake of your employees.\\n\\nI am a former employee who worked at Enron for 10 years - my husband was,\\nat one time, in charge of A/P.  My one big disappointment was that I never\\ngot to meet you.    During that time, I made a lot of friends who I\\ncontinue to see from time to time.  I left last year and have missed the\\ncompany since I left but would not contemplate coming back unless several\\npeople have been replaced.  (Joannie Williamson and Sheri Sera know my\\nstory.)\\n\\nI \"knew\" Jeff but I don\\'t think he knew me by name, only by sight, even\\nthough I worked in ENA when it only had 400 employees with 3 of us in HR.\\nHe was NOT what I would call a people person!  Unless you were in an upper\\nlevel position, he did not take the time to find out your name.  (Ron Burns\\nis still one of my favorite people because of his talent with people - we\\nneed more like him in the business world!)\\n\\nAs you can see, I am now working for a competitor and since I work in HR, I\\ncontinually run into former Enron workers who have also left - most of\\ntheir reasons are the same.\\n\\nIt is not that they have lost faith in Enron as a company but because of\\nthey way they were treated by their managers.  During the last 5 years I\\nwas there, I noticed a change in direction in the way employees were\\ntreated by upper management - and upper management was getting away with\\nit.  Not only were they getting away with it, these people were being\\nrewarded for this behavior.  I have heard stories of lower level employees\\nbeing screamed at and in one instance, one of the VP\\'s who was brought down\\nfrom Canada was heard in his office screaming and pounding his telephone on\\nhis desk.  Heaven only knows how he treats his subordinates.  Believe me,\\nthe way employees are treated at Enron is being talked about on the streets\\nof Houston and on the different college campuses.  You might also at some\\npoint take the time to find out why so many good people have left the HR\\ncommunity at Enron and it is not because they wanted to.\\n\\nI don\\'t know if you will see this, but I hope so.  Good luck on bringing\\nEnron back to way it was - I still own stock!!\\n\\nThanks for listening...\\n\\nPam Allison \\n\\n'"
     },
     "execution_count": 31,
     "metadata": {},
     "output_type": "execute_result"
    }
   ],
   "source": [
    "m1.extractEmailBody(s)"
   ]
  },
  {
   "cell_type": "code",
   "execution_count": 32,
   "metadata": {},
   "outputs": [],
   "source": [
    "import re\n",
    "token =\"From\"\n",
    "line = re.sub(r\"^[\\s]*\" + token + \":.*\", \"______\", s)\n",
    "token =\"Sent\"\n",
    "line = re.sub(r\"^[ ]*\" + token + \":.*\", \"______\", line)\n",
    "token =\"To\"\n",
    "line = re.sub(r\"^[\\s]*\" + token + \":.*\", \"______\", line)\n",
    "token =\"Subject\"\n",
    "line = re.sub(r\"^[\\s]*\" + token + \":.*\", \"______\", line)"
   ]
  },
  {
   "cell_type": "code",
   "execution_count": 33,
   "metadata": {},
   "outputs": [
    {
     "data": {
      "text/plain": "'\\n-----Original Message-----\\n______\\n______\\n______\\n______\\n\\n20relations@caiso.com\\n\\nMr. Lay:\\n\\nMr. Lay, the I am not writing this in malice but in hopes that it helps get\\nEnron back the way it used to treat their employees and makes it the number\\none employer of choice again.  I hope you can get back the feeling that I\\nhad when I first started there and get the stress level down in your\\norganization for the sake of your employees.\\n\\nI am a former employee who worked at Enron for 10 years - my husband was,\\nat one time, in charge of A/P.  My one big disappointment was that I never\\ngot to meet you.    During that time, I made a lot of friends who I\\ncontinue to see from time to time.  I left last year and have missed the\\ncompany since I left but would not contemplate coming back unless several\\npeople have been replaced.  (Joannie Williamson and Sheri Sera know my\\nstory.)\\n\\nI \"knew\" Jeff but I don\\'t think he knew me by name, only by sight, even\\nthough I worked in ENA when it only had 400 employees with 3 of us in HR.\\nHe was NOT what I would call a people person!  Unless you were in an upper\\nlevel position, he did not take the time to find out your name.  (Ron Burns\\nis still one of my favorite people because of his talent with people - we\\nneed more like him in the business world!)\\n\\nAs you can see, I am now working for a competitor and since I work in HR, I\\ncontinually run into former Enron workers who have also left - most of\\ntheir reasons are the same.\\n\\nIt is not that they have lost faith in Enron as a company but because of\\nthey way they were treated by their managers.  During the last 5 years I\\nwas there, I noticed a change in direction in the way employees were\\ntreated by upper management - and upper management was getting away with\\nit.  Not only were they getting away with it, these people were being\\nrewarded for this behavior.  I have heard stories of lower level employees\\nbeing screamed at and in one instance, one of the VP\\'s who was brought down\\nfrom Canada was heard in his office screaming and pounding his telephone on\\nhis desk.  Heaven only knows how he treats his subordinates.  Believe me,\\nthe way employees are treated at Enron is being talked about on the streets\\nof Houston and on the different college campuses.  You might also at some\\npoint take the time to find out why so many good people have left the HR\\ncommunity at Enron and it is not because they wanted to.\\n\\nI don\\'t know if you will see this, but I hope so.  Good luck on bringing\\nEnron back to way it was - I still own stock!!\\n\\nThanks for listening...\\n\\nPam Allison \\n\\n'"
     },
     "execution_count": 33,
     "metadata": {},
     "output_type": "execute_result"
    }
   ],
   "source": [
    "token =\"From\"\n",
    "line = re.sub(r\".*\" + token + \":.*\", \"______\", s)\n",
    "token =\"Sent\"\n",
    "line = re.sub(r\".*\" + token + \":.*\", \"______\", line)\n",
    "token =\"To\"\n",
    "line = re.sub(r\".*\" + token + \":.*\", \"______\", line)\n",
    "token =\"[Cc][Cc]\"\n",
    "line = re.sub(r\".*\" + token + \":.*\", \"______\", line)\n",
    "token =\"Subject\"\n",
    "line = re.sub(r\".*\" + token + \":.*\", \"______\", line)\n",
    "line"
   ]
  },
  {
   "cell_type": "code",
   "execution_count": 9,
   "metadata": {},
   "outputs": [],
   "source": [
    "??load_data\n"
   ]
  },
  {
   "cell_type": "code",
   "execution_count": 34,
   "metadata": {},
   "outputs": [
    {
     "data": {
      "text/html": "<div>\n<style scoped>\n    .dataframe tbody tr th:only-of-type {\n        vertical-align: middle;\n    }\n\n    .dataframe tbody tr th {\n        vertical-align: top;\n    }\n\n    .dataframe thead th {\n        text-align: right;\n    }\n</style>\n<table border=\"1\" class=\"dataframe\">\n  <thead>\n    <tr style=\"text-align: right;\">\n      <th></th>\n      <th>Unnamed: 0</th>\n      <th>master_rootid</th>\n      <th>DOCKET</th>\n      <th>SUBJECT</th>\n      <th>LEAD</th>\n      <th>RECEIVED</th>\n      <th>PRIORITY</th>\n      <th>ASGNTO</th>\n      <th>FNAME</th>\n      <th>LNAME</th>\n      <th>...</th>\n      <th>EMAIL</th>\n      <th>TEL1</th>\n      <th>ADOC_REF</th>\n      <th>DESCRIPTION</th>\n      <th>FILESUFFIX</th>\n      <th>TRECS_Added_Date</th>\n      <th>filename</th>\n      <th>text</th>\n      <th>replyfname</th>\n      <th>reply</th>\n    </tr>\n  </thead>\n  <tbody>\n  </tbody>\n</table>\n<p>0 rows × 21 columns</p>\n</div>",
      "text/plain": "Empty DataFrame\nColumns: [Unnamed: 0, master_rootid, DOCKET, SUBJECT, LEAD, RECEIVED, PRIORITY, ASGNTO, FNAME, LNAME, PROV, EMAIL, TEL1, ADOC_REF, DESCRIPTION, FILESUFFIX, TRECS_Added_Date, filename, text, replyfname, reply]\nIndex: []\n\n[0 rows x 21 columns]"
     },
     "execution_count": 34,
     "metadata": {},
     "output_type": "execute_result"
    }
   ],
   "source": [
    "m1.contacts_getFoundEmailList(s)"
   ]
  },
  {
   "cell_type": "code",
   "execution_count": 10,
   "metadata": {},
   "outputs": [
    {
     "data": {
      "text/plain": "'(^[a-zA-Z0-9_.+-]+@[a-zA-Z0-9-]+\\\\.[a-zA-Z0-9-.]+$)'"
     },
     "execution_count": 10,
     "metadata": {},
     "output_type": "execute_result"
    }
   ],
   "source": [
    " \t\n",
    "r\"(^[a-zA-Z0-9_.+-]+@[a-zA-Z0-9-]+\\.[a-zA-Z0-9-.]+$)\""
   ]
  },
  {
   "cell_type": "code",
   "execution_count": 35,
   "metadata": {},
   "outputs": [
    {
     "data": {
      "text/plain": "['PAMELA.J.ALLISON@DYNEGY.COM',\n '20RELATIONS@CAISO.COM',\n 'IMCEANOTES-PAM+2EALLISON+40DYNEGY+2ECOM+40ENRON@ENRON.COM',\n 'PAM.ALLISON@DYNEGY.COM']"
     },
     "execution_count": 35,
     "metadata": {},
     "output_type": "execute_result"
    }
   ],
   "source": [
    "def getEmailAddrFromText(text):\n",
    "    # @ for as in the Email \n",
    "    # + for Repeats a character one or more times \n",
    "    lst = re.findall('[a-zA-Z0-9_.+-]+@[a-zA-Z0-9-]+\\.[a-zA-Z0-9-.]+', s)      \n",
    "    # Printing of List \n",
    "    return([e.upper() for e in list(set(lst))])\n",
    "\n",
    "getEmailAddrFromText(s)"
   ]
  },
  {
   "cell_type": "code",
   "execution_count": 37,
   "metadata": {},
   "outputs": [],
   "source": [
    "df = pd.read_csv(\"/home/wk/myProjects/Correspondance/data/Enron_emails/contacts.csv\")"
   ]
  },
  {
   "cell_type": "code",
   "execution_count": 38,
   "metadata": {},
   "outputs": [
    {
     "data": {
      "text/html": "<div>\n<style scoped>\n    .dataframe tbody tr th:only-of-type {\n        vertical-align: middle;\n    }\n\n    .dataframe tbody tr th {\n        vertical-align: top;\n    }\n\n    .dataframe thead th {\n        text-align: right;\n    }\n</style>\n<table border=\"1\" class=\"dataframe\">\n  <thead>\n    <tr style=\"text-align: right;\">\n      <th></th>\n      <th>DetailID</th>\n      <th>FNAME</th>\n      <th>LNAME</th>\n      <th>PROV</th>\n      <th>EMAIL</th>\n      <th>TEL1</th>\n      <th>ORGANIZATION</th>\n    </tr>\n  </thead>\n  <tbody>\n    <tr>\n      <th>87468</th>\n      <td>87470</td>\n      <td>NaN</td>\n      <td>NaN</td>\n      <td>NaN</td>\n      <td>MCCREEM@SCE.COM</td>\n      <td>NaN</td>\n      <td>SCE</td>\n    </tr>\n    <tr>\n      <th>87469</th>\n      <td>87471</td>\n      <td>RLUCK</td>\n      <td>DWP CI LA</td>\n      <td>NaN</td>\n      <td>RLUCK@DWP.CI.LA.CA.US</td>\n      <td>NaN</td>\n      <td>CA</td>\n    </tr>\n    <tr>\n      <th>87470</th>\n      <td>87472</td>\n      <td>NaN</td>\n      <td>NaN</td>\n      <td>NaN</td>\n      <td>SCE2@CAISO.COM</td>\n      <td>NaN</td>\n      <td>CAISO</td>\n    </tr>\n    <tr>\n      <th>87471</th>\n      <td>87473</td>\n      <td>NaN</td>\n      <td>NaN</td>\n      <td>NaN</td>\n      <td>BRAUN@BRAUNLEGAL.COM</td>\n      <td>NaN</td>\n      <td>BRAUNLEGAL</td>\n    </tr>\n    <tr>\n      <th>87472</th>\n      <td>87474</td>\n      <td>NaN</td>\n      <td>NaN</td>\n      <td>NaN</td>\n      <td>20RELATIONS@CAISO.COM</td>\n      <td>NaN</td>\n      <td>CAISO</td>\n    </tr>\n  </tbody>\n</table>\n</div>",
      "text/plain": "       DetailID  FNAME      LNAME  PROV                  EMAIL  TEL1  \\\n87468     87470    NaN        NaN   NaN        MCCREEM@SCE.COM   NaN   \n87469     87471  RLUCK  DWP CI LA   NaN  RLUCK@DWP.CI.LA.CA.US   NaN   \n87470     87472    NaN        NaN   NaN         SCE2@CAISO.COM   NaN   \n87471     87473    NaN        NaN   NaN   BRAUN@BRAUNLEGAL.COM   NaN   \n87472     87474    NaN        NaN   NaN  20RELATIONS@CAISO.COM   NaN   \n\n      ORGANIZATION  \n87468          SCE  \n87469           CA  \n87470        CAISO  \n87471   BRAUNLEGAL  \n87472        CAISO  "
     },
     "execution_count": 38,
     "metadata": {},
     "output_type": "execute_result"
    }
   ],
   "source": [
    "df.tail()"
   ]
  },
  {
   "cell_type": "code",
   "execution_count": 43,
   "metadata": {},
   "outputs": [
    {
     "data": {
      "text/plain": "0        False\n1        False\n2        False\n3        False\n4        False\n5        False\n6        False\n7        False\n8        False\n9        False\n10       False\n11       False\n12       False\n13       False\n14       False\n15       False\n16       False\n17       False\n18       False\n19       False\n20       False\n21       False\n22       False\n23       False\n24       False\n25       False\n26       False\n27       False\n28       False\n29       False\n         ...  \n87443    False\n87444    False\n87445    False\n87446    False\n87447    False\n87448    False\n87449    False\n87450    False\n87451    False\n87452    False\n87453    False\n87454    False\n87455    False\n87456    False\n87457    False\n87458    False\n87459    False\n87460    False\n87461    False\n87462    False\n87463    False\n87464    False\n87465    False\n87466    False\n87467    False\n87468    False\n87469    False\n87470    False\n87471    False\n87472     True\nName: EMAIL, Length: 87473, dtype: bool"
     },
     "execution_count": 43,
     "metadata": {},
     "output_type": "execute_result"
    }
   ],
   "source": [
    "result = df['EMAIL'].str.match(pat = '|'.join(getEmailAddrFromText(s)))\n",
    "result"
   ]
  },
  {
   "cell_type": "code",
   "execution_count": 42,
   "metadata": {},
   "outputs": [
    {
     "data": {
      "text/plain": "'PAMELA.J.ALLISON@DYNEGY.COM|20RELATIONS@CAISO.COM|IMCEANOTES-PAM+2EALLISON+40DYNEGY+2ECOM+40ENRON@ENRON.COM|PAM.ALLISON@DYNEGY.COM'"
     },
     "execution_count": 42,
     "metadata": {},
     "output_type": "execute_result"
    }
   ],
   "source": [
    "'|'.join(getEmailAddrFromText(s))"
   ]
  },
  {
   "cell_type": "code",
   "execution_count": 44,
   "metadata": {},
   "outputs": [
    {
     "data": {
      "text/html": "<div>\n<style scoped>\n    .dataframe tbody tr th:only-of-type {\n        vertical-align: middle;\n    }\n\n    .dataframe tbody tr th {\n        vertical-align: top;\n    }\n\n    .dataframe thead th {\n        text-align: right;\n    }\n</style>\n<table border=\"1\" class=\"dataframe\">\n  <thead>\n    <tr style=\"text-align: right;\">\n      <th></th>\n      <th>DetailID</th>\n      <th>FNAME</th>\n      <th>LNAME</th>\n      <th>PROV</th>\n      <th>EMAIL</th>\n      <th>TEL1</th>\n      <th>ORGANIZATION</th>\n    </tr>\n  </thead>\n  <tbody>\n    <tr>\n      <th>11156</th>\n      <td>11158</td>\n      <td>PAMELA</td>\n      <td>J ALLISON</td>\n      <td>NaN</td>\n      <td>PAMELA.J.ALLISON@DYNEGY.COM</td>\n      <td>NaN</td>\n      <td>DYNEGY</td>\n    </tr>\n    <tr>\n      <th>87472</th>\n      <td>87474</td>\n      <td>NaN</td>\n      <td>NaN</td>\n      <td>NaN</td>\n      <td>20RELATIONS@CAISO.COM</td>\n      <td>NaN</td>\n      <td>CAISO</td>\n    </tr>\n  </tbody>\n</table>\n</div>",
      "text/plain": "       DetailID   FNAME      LNAME  PROV                        EMAIL  TEL1  \\\n11156     11158  PAMELA  J ALLISON   NaN  PAMELA.J.ALLISON@DYNEGY.COM   NaN   \n87472     87474     NaN        NaN   NaN        20RELATIONS@CAISO.COM   NaN   \n\n      ORGANIZATION  \n11156       DYNEGY  \n87472        CAISO  "
     },
     "execution_count": 44,
     "metadata": {},
     "output_type": "execute_result"
    }
   ],
   "source": [
    "df[result]"
   ]
  },
  {
   "cell_type": "code",
   "execution_count": null,
   "metadata": {},
   "outputs": [],
   "source": []
  }
 ],
 "metadata": {
  "kernelspec": {
   "display_name": "Python (fastai)",
   "language": "python",
   "name": "wsfastai"
  },
  "language_info": {
   "codemirror_mode": {
    "name": "ipython",
    "version": 3
   },
   "file_extension": ".py",
   "mimetype": "text/x-python",
   "name": "python",
   "nbconvert_exporter": "python",
   "pygments_lexer": "ipython3",
   "version": "3.7.3-final"
  }
 },
 "nbformat": 4,
 "nbformat_minor": 2
}