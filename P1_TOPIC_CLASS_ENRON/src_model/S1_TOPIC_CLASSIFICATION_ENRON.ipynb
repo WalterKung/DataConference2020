{
 "cells": [
  {
   "cell_type": "markdown",
   "execution_count": null,
   "metadata": {},
   "outputs": [],
   "source": [
    "# Project: Email Processing \n",
    "## Citation\n",
    "\n",
    "### Packages and Algorithms  \n",
    "1. gensim Packages  \n",
    "* Summarizing is based on ranks of text sentences using a variation of the TextRank algorithm. Federico Barrios, Federico L´opez, Luis Argerich, Rosita Wachenchauzer (2016). Variations of the Similarity Function of TextRank for Automated Summarization, https://arxiv.org/abs/1602.03606\n",
    "\n",
    "2. fastai library\n",
    "* Universal Language Model Fine-tuning (ULMFiT) : Howard, Jeremy, and Sebastian Ruder. \"Universal language model fine-tuning for text classification.\" arXiv preprint arXiv:1801.06146 (2018). https://arxiv.org/abs/1801.06146 \n",
    "\n",
    "### Data source  \n",
    "1. Students in the ANLP course annotated a subset of about 1700 labeled email messages \n",
    "   http://bailando.sims.berkeley.edu/enron/enron_with_categories.tar.gz\n",
    "2. mysql dataset (219 MB compressed) of the Enron email collection, built by Andrew Fiore and Jeff Heer, containing the enron email messages.\n",
    "   http://bailando.sims.berkeley.edu/enron/enron.sql.gz\n",
    "\n",
    "\n",
    "## Dependencies  \n",
    "    python 3.6.7 +  \n",
    "    fastai\n",
    "    gensim\n",
    "\n",
    "## Business Problems\n",
    "* Use email content to do classification\n",
    "\n",
    "## Descriptions\n",
    "\n"
   ]
  },
  {
   "cell_type": "code",
   "execution_count": 1,
   "metadata": {},
   "outputs": [],
   "source": [
    "%reload_ext autoreload\n",
    "%autoreload 2\n",
    "%matplotlib inline"
   ]
  },
  {
   "cell_type": "code",
   "execution_count": 2,
   "metadata": {},
   "outputs": [],
   "source": [
    "from fastai.text import *"
   ]
  },
  {
   "cell_type": "markdown",
   "execution_count": null,
   "metadata": {},
   "outputs": [],
   "source": [
    "## Data Preparation"
   ]
  },
  {
   "cell_type": "code",
   "execution_count": 3,
   "metadata": {},
   "outputs": [],
   "source": [
    "from pathlib import Path\n",
    "import os"
   ]
  },
  {
   "cell_type": "code",
   "execution_count": 4,
   "metadata": {},
   "outputs": [],
   "source": [
    "nm_dataset = \"Enron_emails\"\n",
    "nm_content = \"email_rec_vec.csv\"\n",
    "nm_contact = \"contacts.csv\"\n",
    "path = Path(\"../data\")"
   ]
  },
  {
   "cell_type": "code",
   "execution_count": 5,
   "metadata": {},
   "outputs": [
    {
     "data": {
      "text/plain": "[PosixPath('../data/Enron_emails/contacts.csv'),\n PosixPath('../data/Enron_emails/emails.csv'),\n PosixPath('../data/Enron_emails/emails_1.csv'),\n PosixPath('../data/Enron_emails/email_rec_vec.csv')]"
     },
     "execution_count": 5,
     "metadata": {},
     "output_type": "execute_result"
    }
   ],
   "source": [
    "path.joinpath(nm_dataset).ls()"
   ]
  },
  {
   "cell_type": "code",
   "execution_count": 120,
   "metadata": {},
   "outputs": [
    {
     "data": {
      "text/html": "<div>\n<style scoped>\n    .dataframe tbody tr th:only-of-type {\n        vertical-align: middle;\n    }\n\n    .dataframe tbody tr th {\n        vertical-align: top;\n    }\n\n    .dataframe thead th {\n        text-align: right;\n    }\n</style>\n<table border=\"1\" class=\"dataframe\">\n  <thead>\n    <tr style=\"text-align: right;\">\n      <th></th>\n      <th>master_rootid</th>\n      <th>DOCKET</th>\n      <th>SUBJECT</th>\n      <th>LEAD</th>\n      <th>RECEIVED</th>\n      <th>PRIORITY</th>\n      <th>ASGNTO</th>\n      <th>FNAME</th>\n      <th>LNAME</th>\n      <th>PROV</th>\n      <th>...</th>\n      <th>193.1.1</th>\n      <th>194.1.1</th>\n      <th>195.1.1</th>\n      <th>196.1.1</th>\n      <th>197.1.1</th>\n      <th>198.1.1</th>\n      <th>199.1.1</th>\n      <th>200.1.1</th>\n      <th>201.1.1</th>\n      <th>202.1.1</th>\n    </tr>\n  </thead>\n  <tbody>\n    <tr>\n      <th>0</th>\n      <td>14452264</td>\n      <td>1075858883447</td>\n      <td>Re: EBS Article for eBiz</td>\n      <td></td>\n      <td>07/13/2001</td>\n      <td>GEN</td>\n      <td>['1_6']</td>\n      <td>steven</td>\n      <td>kean</td>\n      <td></td>\n      <td>...</td>\n      <td>-0.040236</td>\n      <td>-0.017470</td>\n      <td>-0.010608</td>\n      <td>0.012404</td>\n      <td>0.021194</td>\n      <td>0.066824</td>\n      <td>0.048412</td>\n      <td>0.037350</td>\n      <td>-0.040071</td>\n      <td>-0.026860</td>\n    </tr>\n    <tr>\n      <th>1</th>\n      <td>22747723</td>\n      <td>1075858707662</td>\n      <td>Bingaman Draft On Transparency -- Amendment I...</td>\n      <td></td>\n      <td>09/11/2001</td>\n      <td>GEN</td>\n      <td>['3_1', '1_6']</td>\n      <td>john</td>\n      <td>shelk</td>\n      <td></td>\n      <td>...</td>\n      <td>-0.034514</td>\n      <td>0.001341</td>\n      <td>0.001764</td>\n      <td>0.033844</td>\n      <td>0.007577</td>\n      <td>0.055819</td>\n      <td>0.068106</td>\n      <td>0.017514</td>\n      <td>-0.056034</td>\n      <td>-0.068647</td>\n    </tr>\n    <tr>\n      <th>2</th>\n      <td>10462332</td>\n      <td>1075863429489</td>\n      <td>RE: Greetings from London</td>\n      <td></td>\n      <td>06/29/2001</td>\n      <td>GEN</td>\n      <td>['1_6']</td>\n      <td>j</td>\n      <td>kaminski</td>\n      <td></td>\n      <td>...</td>\n      <td>-0.042059</td>\n      <td>0.000198</td>\n      <td>-0.018794</td>\n      <td>0.011612</td>\n      <td>0.016051</td>\n      <td>0.039815</td>\n      <td>0.054362</td>\n      <td>0.023967</td>\n      <td>-0.053165</td>\n      <td>-0.032937</td>\n    </tr>\n    <tr>\n      <th>3</th>\n      <td>31003117</td>\n      <td>1075863429910</td>\n      <td>RE: London, New York, Houston, Financial Math...</td>\n      <td></td>\n      <td>07/03/2001</td>\n      <td>GEN</td>\n      <td>['1_6']</td>\n      <td>j</td>\n      <td>kaminski</td>\n      <td></td>\n      <td>...</td>\n      <td>-0.051478</td>\n      <td>-0.009020</td>\n      <td>-0.023409</td>\n      <td>0.006384</td>\n      <td>0.015031</td>\n      <td>0.043426</td>\n      <td>0.053710</td>\n      <td>0.007815</td>\n      <td>-0.044894</td>\n      <td>-0.031132</td>\n    </tr>\n    <tr>\n      <th>4</th>\n      <td>16142741</td>\n      <td>1075849870380</td>\n      <td>UC-CSU-Enron press release</td>\n      <td></td>\n      <td>07/06/2001</td>\n      <td>GEN</td>\n      <td>['1_6']</td>\n      <td>steven</td>\n      <td>kean</td>\n      <td></td>\n      <td>...</td>\n      <td>-0.019960</td>\n      <td>-0.006133</td>\n      <td>-0.044903</td>\n      <td>0.025784</td>\n      <td>-0.009089</td>\n      <td>0.061070</td>\n      <td>0.044286</td>\n      <td>0.031267</td>\n      <td>-0.052956</td>\n      <td>-0.040431</td>\n    </tr>\n  </tbody>\n</table>\n<p>5 rows × 1023 columns</p>\n</div>",
      "text/plain": "   master_rootid         DOCKET  \\\n0       14452264  1075858883447   \n1       22747723  1075858707662   \n2       10462332  1075863429489   \n3       31003117  1075863429910   \n4       16142741  1075849870380   \n\n                                             SUBJECT LEAD    RECEIVED  \\\n0                          Re: EBS Article for eBiz        07/13/2001   \n1   Bingaman Draft On Transparency -- Amendment I...       09/11/2001   \n2                         RE: Greetings from London        06/29/2001   \n3   RE: London, New York, Houston, Financial Math...       07/03/2001   \n4                        UC-CSU-Enron press release        07/06/2001   \n\n  PRIORITY          ASGNTO    FNAME     LNAME PROV  ...   193.1.1   194.1.1  \\\n0      GEN         ['1_6']   steven      kean       ... -0.040236 -0.017470   \n1      GEN  ['3_1', '1_6']     john     shelk       ... -0.034514  0.001341   \n2      GEN         ['1_6']        j  kaminski       ... -0.042059  0.000198   \n3      GEN         ['1_6']        j  kaminski       ... -0.051478 -0.009020   \n4      GEN         ['1_6']   steven      kean       ... -0.019960 -0.006133   \n\n    195.1.1   196.1.1   197.1.1   198.1.1   199.1.1   200.1.1   201.1.1  \\\n0 -0.010608  0.012404  0.021194  0.066824  0.048412  0.037350 -0.040071   \n1  0.001764  0.033844  0.007577  0.055819  0.068106  0.017514 -0.056034   \n2 -0.018794  0.011612  0.016051  0.039815  0.054362  0.023967 -0.053165   \n3 -0.023409  0.006384  0.015031  0.043426  0.053710  0.007815 -0.044894   \n4 -0.044903  0.025784 -0.009089  0.061070  0.044286  0.031267 -0.052956   \n\n    202.1.1  \n0 -0.026860  \n1 -0.068647  \n2 -0.032937  \n3 -0.031132  \n4 -0.040431  \n\n[5 rows x 1023 columns]"
     },
     "execution_count": 120,
     "metadata": {},
     "output_type": "execute_result"
    }
   ],
   "source": [
    "import pandas as pd\n",
    "df_model = pd.read_csv(path.joinpath(nm_dataset).joinpath(nm_content))\n",
    "\n",
    "def extract_cls_1(txt):\n",
    "    li_1 = []\n",
    "    li_3 = []\n",
    "    for w in txt.replace('[', '').replace(']', '').replace(\"'\", '').replace(\" \", '').split(','):        \n",
    "        if w[0] == '1':\n",
    "            w = w.replace('1_8','1_7').replace('1_3','1_2')\n",
    "            li_1.append(w)            \n",
    "        if w[0] == '3':\n",
    "            if w in ['3_1', '3_2', '3_3', '3_4', '3_5', '3_6', '3_7', '3_8', '3_10']:\n",
    "                w = w.replace('3_4','3_3').replace('3_8','3_7')\n",
    "                li_3.append(w)\n",
    "    if len(li_3) > 0:\n",
    "        try:\n",
    "            li_1.remove('1_1') \n",
    "        except:\n",
    "            pass\n",
    "    li = li_1 + li_3\n",
    "    return str(list(set(li)))\n",
    "\n",
    "ASGNTO = [extract_cls_1(w) for w in df_model.ASGNTO]\n",
    "df_model.ASGNTO = ASGNTO\n",
    "df_model[df_model.text.str.len()>10].to_csv(path.joinpath('tmp').joinpath(\"df_model.csv\"))\n",
    "\n",
    "df_model.head()"
   ]
  },
  {
   "cell_type": "code",
   "execution_count": 148,
   "metadata": {},
   "outputs": [
    {
     "data": {
      "text/plain": "76"
     },
     "execution_count": 148,
     "metadata": {},
     "output_type": "execute_result"
    }
   ],
   "source": [
    "sum(df_model.ASGNTO.str.contains('3_10'))"
   ]
  },
  {
   "cell_type": "code",
   "execution_count": 7,
   "metadata": {},
   "outputs": [
    {
     "data": {
      "text/plain": "0"
     },
     "execution_count": 7,
     "metadata": {},
     "output_type": "execute_result"
    }
   ],
   "source": [
    "sum(['3_13' in w for w in df_model.ASGNTO])"
   ]
  },
  {
   "cell_type": "code",
   "execution_count": 8,
   "metadata": {},
   "outputs": [],
   "source": [
    "df_model[df_model.text.str.len()>10].to_csv(path.joinpath('tmp').joinpath(\"df_model.csv\"))"
   ]
  },
  {
   "cell_type": "code",
   "execution_count": 9,
   "metadata": {},
   "outputs": [
    {
     "data": {
      "text/html": "<div>\n<style scoped>\n    .dataframe tbody tr th:only-of-type {\n        vertical-align: middle;\n    }\n\n    .dataframe tbody tr th {\n        vertical-align: top;\n    }\n\n    .dataframe thead th {\n        text-align: right;\n    }\n</style>\n<table border=\"1\" class=\"dataframe\">\n  <thead>\n    <tr style=\"text-align: right;\">\n      <th></th>\n      <th>master_rootid</th>\n      <th>DOCKET</th>\n      <th>SUBJECT</th>\n      <th>LEAD</th>\n      <th>RECEIVED</th>\n      <th>PRIORITY</th>\n      <th>ASGNTO</th>\n      <th>FNAME</th>\n      <th>LNAME</th>\n      <th>PROV</th>\n      <th>...</th>\n      <th>193.1.1</th>\n      <th>194.1.1</th>\n      <th>195.1.1</th>\n      <th>196.1.1</th>\n      <th>197.1.1</th>\n      <th>198.1.1</th>\n      <th>199.1.1</th>\n      <th>200.1.1</th>\n      <th>201.1.1</th>\n      <th>202.1.1</th>\n    </tr>\n  </thead>\n  <tbody>\n    <tr>\n      <th>0</th>\n      <td>14452264</td>\n      <td>1075858883447</td>\n      <td>Re: EBS Article for eBiz</td>\n      <td></td>\n      <td>07/13/2001</td>\n      <td>GEN</td>\n      <td>['1_6']</td>\n      <td>steven</td>\n      <td>kean</td>\n      <td></td>\n      <td>...</td>\n      <td>-0.040236</td>\n      <td>-0.017470</td>\n      <td>-0.010608</td>\n      <td>0.012404</td>\n      <td>0.021194</td>\n      <td>0.066824</td>\n      <td>0.048412</td>\n      <td>0.037350</td>\n      <td>-0.040071</td>\n      <td>-0.026860</td>\n    </tr>\n    <tr>\n      <th>1</th>\n      <td>22747723</td>\n      <td>1075858707662</td>\n      <td>Bingaman Draft On Transparency -- Amendment I...</td>\n      <td></td>\n      <td>09/11/2001</td>\n      <td>GEN</td>\n      <td>['1_6']</td>\n      <td>john</td>\n      <td>shelk</td>\n      <td></td>\n      <td>...</td>\n      <td>-0.034514</td>\n      <td>0.001341</td>\n      <td>0.001764</td>\n      <td>0.033844</td>\n      <td>0.007577</td>\n      <td>0.055819</td>\n      <td>0.068106</td>\n      <td>0.017514</td>\n      <td>-0.056034</td>\n      <td>-0.068647</td>\n    </tr>\n    <tr>\n      <th>2</th>\n      <td>10462332</td>\n      <td>1075863429489</td>\n      <td>RE: Greetings from London</td>\n      <td></td>\n      <td>06/29/2001</td>\n      <td>GEN</td>\n      <td>['1_6']</td>\n      <td>j</td>\n      <td>kaminski</td>\n      <td></td>\n      <td>...</td>\n      <td>-0.042059</td>\n      <td>0.000198</td>\n      <td>-0.018794</td>\n      <td>0.011612</td>\n      <td>0.016051</td>\n      <td>0.039815</td>\n      <td>0.054362</td>\n      <td>0.023967</td>\n      <td>-0.053165</td>\n      <td>-0.032937</td>\n    </tr>\n    <tr>\n      <th>3</th>\n      <td>31003117</td>\n      <td>1075863429910</td>\n      <td>RE: London, New York, Houston, Financial Math...</td>\n      <td></td>\n      <td>07/03/2001</td>\n      <td>GEN</td>\n      <td>['1_6']</td>\n      <td>j</td>\n      <td>kaminski</td>\n      <td></td>\n      <td>...</td>\n      <td>-0.051478</td>\n      <td>-0.009020</td>\n      <td>-0.023409</td>\n      <td>0.006384</td>\n      <td>0.015031</td>\n      <td>0.043426</td>\n      <td>0.053710</td>\n      <td>0.007815</td>\n      <td>-0.044894</td>\n      <td>-0.031132</td>\n    </tr>\n    <tr>\n      <th>4</th>\n      <td>16142741</td>\n      <td>1075849870380</td>\n      <td>UC-CSU-Enron press release</td>\n      <td></td>\n      <td>07/06/2001</td>\n      <td>GEN</td>\n      <td>['1_6']</td>\n      <td>steven</td>\n      <td>kean</td>\n      <td></td>\n      <td>...</td>\n      <td>-0.019960</td>\n      <td>-0.006133</td>\n      <td>-0.044903</td>\n      <td>0.025784</td>\n      <td>-0.009089</td>\n      <td>0.061070</td>\n      <td>0.044286</td>\n      <td>0.031267</td>\n      <td>-0.052956</td>\n      <td>-0.040431</td>\n    </tr>\n  </tbody>\n</table>\n<p>5 rows × 1023 columns</p>\n</div>",
      "text/plain": "   master_rootid         DOCKET  \\\n0       14452264  1075858883447   \n1       22747723  1075858707662   \n2       10462332  1075863429489   \n3       31003117  1075863429910   \n4       16142741  1075849870380   \n\n                                             SUBJECT LEAD    RECEIVED  \\\n0                          Re: EBS Article for eBiz        07/13/2001   \n1   Bingaman Draft On Transparency -- Amendment I...       09/11/2001   \n2                         RE: Greetings from London        06/29/2001   \n3   RE: London, New York, Houston, Financial Math...       07/03/2001   \n4                        UC-CSU-Enron press release        07/06/2001   \n\n  PRIORITY   ASGNTO    FNAME     LNAME PROV  ...   193.1.1   194.1.1  \\\n0      GEN  ['1_6']   steven      kean       ... -0.040236 -0.017470   \n1      GEN  ['1_6']     john     shelk       ... -0.034514  0.001341   \n2      GEN  ['1_6']        j  kaminski       ... -0.042059  0.000198   \n3      GEN  ['1_6']        j  kaminski       ... -0.051478 -0.009020   \n4      GEN  ['1_6']   steven      kean       ... -0.019960 -0.006133   \n\n    195.1.1   196.1.1   197.1.1   198.1.1   199.1.1   200.1.1   201.1.1  \\\n0 -0.010608  0.012404  0.021194  0.066824  0.048412  0.037350 -0.040071   \n1  0.001764  0.033844  0.007577  0.055819  0.068106  0.017514 -0.056034   \n2 -0.018794  0.011612  0.016051  0.039815  0.054362  0.023967 -0.053165   \n3 -0.023409  0.006384  0.015031  0.043426  0.053710  0.007815 -0.044894   \n4 -0.044903  0.025784 -0.009089  0.061070  0.044286  0.031267 -0.052956   \n\n    202.1.1  \n0 -0.026860  \n1 -0.068647  \n2 -0.032937  \n3 -0.031132  \n4 -0.040431  \n\n[5 rows x 1023 columns]"
     },
     "execution_count": 9,
     "metadata": {},
     "output_type": "execute_result"
    }
   ],
   "source": [
    "df_model.head()"
   ]
  },
  {
   "cell_type": "code",
   "execution_count": 149,
   "metadata": {},
   "outputs": [
    {
     "data": {
      "text/html": "<div>\n<style scoped>\n    .dataframe tbody tr th:only-of-type {\n        vertical-align: middle;\n    }\n\n    .dataframe tbody tr th {\n        vertical-align: top;\n    }\n\n    .dataframe thead th {\n        text-align: right;\n    }\n</style>\n<table border=\"1\" class=\"dataframe\">\n  <thead>\n    <tr style=\"text-align: right;\">\n      <th></th>\n      <th>master_rootid</th>\n      <th>label</th>\n      <th>text</th>\n      <th>filename</th>\n    </tr>\n  </thead>\n  <tbody>\n    <tr>\n      <th>0</th>\n      <td>17141704</td>\n      <td>['3_2']</td>\n      <td>Ross Perot's EMS company  We can create signi...</td>\n      <td>NaN</td>\n    </tr>\n    <tr>\n      <th>1</th>\n      <td>14087976</td>\n      <td>['3_1']</td>\n      <td>Status of Discussions on Electricity Legislat...</td>\n      <td>NaN</td>\n    </tr>\n    <tr>\n      <th>2</th>\n      <td>32477848</td>\n      <td>['1_6']</td>\n      <td>Revised list of PRC Reps  Make sure this is c...</td>\n      <td>NaN</td>\n    </tr>\n    <tr>\n      <th>3</th>\n      <td>16674090</td>\n      <td>['3_3', '1_4']</td>\n      <td>Joe asked me to get in touch with you regar...</td>\n      <td>NaN</td>\n    </tr>\n    <tr>\n      <th>4</th>\n      <td>3524436</td>\n      <td>['3_2']</td>\n      <td>RE: Confidential Contact data and RFI  Any nu...</td>\n      <td>NaN</td>\n    </tr>\n    <tr>\n      <th>5</th>\n      <td>5667453</td>\n      <td>['1_2', '1_4']</td>\n      <td>RE:  Natasha, Thanks. I left my package and a...</td>\n      <td>NaN</td>\n    </tr>\n    <tr>\n      <th>6</th>\n      <td>24297292</td>\n      <td>['1_4']</td>\n      <td>&lt;&lt;Concur Expense Document&gt;&gt; - JB 003  -------...</td>\n      <td>NaN</td>\n    </tr>\n    <tr>\n      <th>7</th>\n      <td>8610006</td>\n      <td>['3_1']</td>\n      <td>RE: PG&amp;E PX Credit Calculation -- CONFIDENTIA...</td>\n      <td>NaN</td>\n    </tr>\n    <tr>\n      <th>8</th>\n      <td>33199186</td>\n      <td>['3_3', '3_6']</td>\n      <td>Red Herring Article  Hap -- could you provide...</td>\n      <td>NaN</td>\n    </tr>\n    <tr>\n      <th>9</th>\n      <td>26474922</td>\n      <td>['3_1', '3_7']</td>\n      <td>Reliability and Security Arguments (RTOs)  Th...</td>\n      <td>NaN</td>\n    </tr>\n  </tbody>\n</table>\n</div>",
      "text/plain": "   master_rootid           label  \\\n0       17141704         ['3_2']   \n1       14087976         ['3_1']   \n2       32477848         ['1_6']   \n3       16674090  ['3_3', '1_4']   \n4        3524436         ['3_2']   \n5        5667453  ['1_2', '1_4']   \n6       24297292         ['1_4']   \n7        8610006         ['3_1']   \n8       33199186  ['3_3', '3_6']   \n9       26474922  ['3_1', '3_7']   \n\n                                                text  filename  \n0   Ross Perot's EMS company  We can create signi...       NaN  \n1   Status of Discussions on Electricity Legislat...       NaN  \n2   Revised list of PRC Reps  Make sure this is c...       NaN  \n3     Joe asked me to get in touch with you regar...       NaN  \n4   RE: Confidential Contact data and RFI  Any nu...       NaN  \n5   RE:  Natasha, Thanks. I left my package and a...       NaN  \n6   <<Concur Expense Document>> - JB 003  -------...       NaN  \n7   RE: PG&E PX Credit Calculation -- CONFIDENTIA...       NaN  \n8   Red Herring Article  Hap -- could you provide...       NaN  \n9   Reliability and Security Arguments (RTOs)  Th...       NaN  "
     },
     "execution_count": 149,
     "metadata": {},
     "output_type": "execute_result"
    }
   ],
   "source": [
    "import random\n",
    "df_raw = pd.read_csv(path.joinpath('tmp').joinpath(\"df_model.csv\"))\n",
    "df_raw['text'] = [' '.join(e.split()[:400]) for e in df_raw.text] \n",
    "df_raw['text'] = df_raw['SUBJECT'] + \" \" + df_raw['text']\n",
    "#isQ = ['Q' if value % 2 == 0 else 'A' for value in df_raw.index]\n",
    "#df_raw['type'] = isQ\n",
    "\n",
    "df = df_raw[['master_rootid', 'ASGNTO', 'text', \"filename\"]]\n",
    "df.columns = ['master_rootid', 'label', 'text', \"filename\"]\n",
    "\n",
    "df = df.sample(frac=1).reset_index(drop=True)\n",
    "df.head(10)"
   ]
  },
  {
   "cell_type": "code",
   "execution_count": 150,
   "metadata": {},
   "outputs": [],
   "source": [
    "is_valid = [random.randint(1,101) > 80 for value in df.index]\n",
    "df['is_valid'] = is_valid"
   ]
  },
  {
   "cell_type": "code",
   "execution_count": 151,
   "metadata": {},
   "outputs": [
    {
     "name": "stdout",
     "output_type": "stream",
     "text": "255\n1693\n"
    }
   ],
   "source": [
    "print(sum(df.is_valid))\n",
    "print(len(df))"
   ]
  },
  {
   "cell_type": "code",
   "execution_count": 155,
   "metadata": {},
   "outputs": [
    {
     "data": {
      "text/html": "<div>\n<style scoped>\n    .dataframe tbody tr th:only-of-type {\n        vertical-align: middle;\n    }\n\n    .dataframe tbody tr th {\n        vertical-align: top;\n    }\n\n    .dataframe thead th {\n        text-align: right;\n    }\n</style>\n<table border=\"1\" class=\"dataframe\">\n  <thead>\n    <tr style=\"text-align: right;\">\n      <th></th>\n      <th>master_rootid</th>\n      <th>label</th>\n      <th>is_valid</th>\n    </tr>\n  </thead>\n  <tbody>\n    <tr>\n      <th>0</th>\n      <td>17141704</td>\n      <td>['3_2']</td>\n      <td>False</td>\n    </tr>\n    <tr>\n      <th>1</th>\n      <td>14087976</td>\n      <td>['3_1']</td>\n      <td>True</td>\n    </tr>\n    <tr>\n      <th>2</th>\n      <td>32477848</td>\n      <td>['1_6']</td>\n      <td>False</td>\n    </tr>\n  </tbody>\n</table>\n</div>",
      "text/plain": "   master_rootid    label  is_valid\n0       17141704  ['3_2']     False\n1       14087976  ['3_1']      True\n2       32477848  ['1_6']     False"
     },
     "execution_count": 155,
     "metadata": {},
     "output_type": "execute_result"
    }
   ],
   "source": [
    "df[['master_rootid', 'label', 'is_valid']].to_csv(path.joinpath('tmp').joinpath('isvalid.csv'), index=False)\n",
    "df[['master_rootid', 'label', 'is_valid']].head(3)"
   ]
  },
  {
   "cell_type": "code",
   "execution_count": 156,
   "metadata": {},
   "outputs": [
    {
     "data": {
      "text/html": "<div>\n<style scoped>\n    .dataframe tbody tr th:only-of-type {\n        vertical-align: middle;\n    }\n\n    .dataframe tbody tr th {\n        vertical-align: top;\n    }\n\n    .dataframe thead th {\n        text-align: right;\n    }\n</style>\n<table border=\"1\" class=\"dataframe\">\n  <thead>\n    <tr style=\"text-align: right;\">\n      <th></th>\n      <th>label</th>\n      <th>text</th>\n      <th>filename</th>\n      <th>is_valid</th>\n    </tr>\n  </thead>\n  <tbody>\n    <tr>\n      <th>0</th>\n      <td>['3_2']</td>\n      <td>Ross Perot's EMS company  We can create signi...</td>\n      <td>NaN</td>\n      <td>False</td>\n    </tr>\n    <tr>\n      <th>1</th>\n      <td>['3_1']</td>\n      <td>Status of Discussions on Electricity Legislat...</td>\n      <td>NaN</td>\n      <td>True</td>\n    </tr>\n    <tr>\n      <th>2</th>\n      <td>['1_6']</td>\n      <td>Revised list of PRC Reps  Make sure this is c...</td>\n      <td>NaN</td>\n      <td>False</td>\n    </tr>\n  </tbody>\n</table>\n</div>",
      "text/plain": "     label                                               text  filename  \\\n0  ['3_2']   Ross Perot's EMS company  We can create signi...       NaN   \n1  ['3_1']   Status of Discussions on Electricity Legislat...       NaN   \n2  ['1_6']   Revised list of PRC Reps  Make sure this is c...       NaN   \n\n   is_valid  \n0     False  \n1      True  \n2     False  "
     },
     "execution_count": 156,
     "metadata": {},
     "output_type": "execute_result"
    }
   ],
   "source": [
    "df[['label', 'text', \"filename\", 'is_valid']].to_csv(path.joinpath('tmp').joinpath('texts.csv'), index=False)\n",
    "df[['label', 'text', \"filename\", 'is_valid']].head(3)"
   ]
  },
  {
   "cell_type": "markdown",
   "execution_count": null,
   "metadata": {},
   "outputs": [],
   "source": [
    "## Language model"
   ]
  },
  {
   "cell_type": "markdown",
   "execution_count": null,
   "metadata": {},
   "outputs": [],
   "source": [
    "Note that language models can use a lot of GPU, so you may need to decrease batchsize here."
   ]
  },
  {
   "cell_type": "code",
   "execution_count": 15,
   "metadata": {},
   "outputs": [],
   "source": [
    "bs=8"
   ]
  },
  {
   "cell_type": "markdown",
   "execution_count": null,
   "metadata": {},
   "outputs": [],
   "source": [
    "Now let's grab the full dataset for what follows."
   ]
  },
  {
   "cell_type": "code",
   "execution_count": 16,
   "metadata": {},
   "outputs": [
    {
     "data": {
      "text/plain": "[PosixPath('../data/tmp/data_lm.pkl'),\n PosixPath('../data/tmp/df_model.csv'),\n PosixPath('../data/tmp/texts.csv'),\n PosixPath('../data/tmp/models'),\n PosixPath('../data/tmp/data_clas.pkl')]"
     },
     "execution_count": 16,
     "metadata": {},
     "output_type": "execute_result"
    }
   ],
   "source": [
    "path = Path(\"../data/tmp\")\n",
    "path.ls()"
   ]
  },
  {
   "cell_type": "markdown",
   "execution_count": null,
   "metadata": {},
   "outputs": [],
   "source": [
    "The reviews are in a training and test set following an imagenet structure. The only difference is that there is an `unsup` folder on top of `train` and `test` that contains the unlabelled data.\n",
    "\n",
    "We're not going to train a model that classifies the reviews from scratch. Like in computer vision, we'll use a model pretrained on a bigger dataset (a cleaned subset of wikipedia called [wikitext-103](https://einstein.ai/research/blog/the-wikitext-long-term-dependency-language-modeling-dataset)). That model has been trained to guess what the next word is, its input being all the previous words. It has a recurrent structure and a hidden state that is updated each time it sees a new word. This hidden state thus contains information about the sentence up to that point.\n",
    "\n",
    "We are going to use that 'knowledge' of the English language to build our classifier, but first, like for computer vision, we need to fine-tune the pretrained model to our particular dataset. Because the English of the reviews left by people on IMDB isn't the same as the English of wikipedia, we'll need to adjust the parameters of our model by a little bit. Plus there might be some words that would be extremely common in the reviews dataset but would be barely present in wikipedia, and therefore might not be part of the vocabulary the model was trained on."
   ]
  },
  {
   "cell_type": "markdown",
   "execution_count": null,
   "metadata": {},
   "outputs": [],
   "source": [
    "This is where the unlabelled data is going to be useful to us, as we can use it to fine-tune our model. Let's create our data object with the data block API (next line takes a few minutes)."
   ]
  },
  {
   "cell_type": "code",
   "execution_count": 17,
   "metadata": {},
   "outputs": [],
   "source": [
    "data_lm = (TextList.from_csv(path, 'texts.csv', cols='text')\n",
    "                .split_from_df(col=3)\n",
    "                .label_for_lm() \n",
    "                #We want to do a language model so we label accordingly\n",
    "                .databunch(bs=bs))\n",
    "data_lm.save('data_lm.pkl')"
   ]
  },
  {
   "cell_type": "markdown",
   "execution_count": null,
   "metadata": {},
   "outputs": [],
   "source": [
    "We have to use a special kind of `TextDataBunch` for the language model, that ignores the labels (that's why we put 0 everywhere), will shuffle the texts at each epoch before concatenating them all together (only for training, we don't shuffle for the validation set) and will send batches that read that text in order with targets that are the next word in the sentence.\n",
    "\n",
    "The line before being a bit long, we want to load quickly the final ids by using the following cell."
   ]
  },
  {
   "cell_type": "code",
   "execution_count": 18,
   "metadata": {},
   "outputs": [],
   "source": [
    "data_lm = load_data(path, 'data_lm.pkl', bs=bs)"
   ]
  },
  {
   "cell_type": "code",
   "execution_count": 19,
   "metadata": {},
   "outputs": [
    {
     "data": {
      "text/html": "<table border=\"1\" class=\"dataframe\">\n  <thead>\n    <tr style=\"text-align: right;\">\n      <th>idx</th>\n      <th>text</th>\n    </tr>\n  </thead>\n  <tbody>\n    <tr>\n      <td>0</td>\n      <td>, xxmaj leslie xxmaj sent : xxmaj friday , xxmaj december 22 , 2000 xxunk xxup pm xxmaj to : xxmaj knight , xxmaj robert ; xxmaj xxunk , xxmaj darren xxup p. ; xxmaj cummings , xxmaj david xxup a. ; xxmaj hill , xxmaj ben xxmaj subject : xxup fw : xxmaj sempra et al . v. xxup ena et al . xxup privileged xxup and xxup confidential</td>\n    </tr>\n    <tr>\n      <td>1</td>\n      <td>modest relief to xxmaj san xxmaj diego residents xxunk with high electricity bills and set the groundwork for faster construction of badly needed power plants . xxmaj they stopped short , however , of passing legislation that would roll back retail power rates to levels seen prior to deregulation . xxmaj late xxmaj wednesday , lawmakers sent a bill to xxmaj gov. xxmaj gray xxmaj davis that limits to 6.5</td>\n    </tr>\n    <tr>\n      <td>2</td>\n      <td>xxmaj dasovich / xxup na / enron@enron cc : xxmaj subject : xxup new xxup draft xxup of xxup enron xxup statement xxup here xxup is xxup the xxup most xxup recent xxup statement xxup with xxup steve xxup 's xxup comments . xxmaj jim xxbos xxup fw : xxmaj committee on xxmaj energy and xxmaj commerce xxmaj hearing xxmaj notices xxup fyi -- see hearing notices below for two</td>\n    </tr>\n    <tr>\n      <td>3</td>\n      <td>available on my web xxunk xxunk at : xxunk xxrep 8 ? xxup on xxup the xxup exercise xxup of xxup market xxup power xxup through xxup strategic xxup withholding xxup in xxup california xxmaj scott xxmaj harvey and xxmaj william xxup w. xxmaj hogan xxmaj april 24 , 2001 xxup executive xxup summary xxmaj beginning in xxmaj june of 2000 , the xxunk of xxunk high prices in the=20</td>\n    </tr>\n    <tr>\n      <td>4</td>\n      <td>. xxmaj sharer wants the same information as mcnealy and he and mcnealy both indicated their willingness to call a meeting of other xxmaj california ceos . xxmaj sharer will also be having breakfast with xxmaj hertzberg one week from today . xxmaj robert xxmaj day ( xxmaj trust xxmaj co of the xxmaj west ) : said that he is very close to the mayor of xxmaj los xxmaj</td>\n    </tr>\n  </tbody>\n</table>",
      "text/plain": "<IPython.core.display.HTML object>"
     },
     "metadata": {},
     "output_type": "display_data"
    }
   ],
   "source": [
    "data_lm.show_batch()"
   ]
  },
  {
   "cell_type": "markdown",
   "execution_count": null,
   "metadata": {},
   "outputs": [],
   "source": [
    "We can then put this in a learner object very easily with a model loaded with the pretrained weights. They'll be downloaded the first time you'll execute the following line and stored in `~/.fastai/models/` (or elsewhere if you specified different paths in your config file)."
   ]
  },
  {
   "cell_type": "code",
   "execution_count": 20,
   "metadata": {},
   "outputs": [],
   "source": [
    "learn = language_model_learner(data_lm, AWD_LSTM, drop_mult=0.3)"
   ]
  },
  {
   "cell_type": "code",
   "execution_count": 21,
   "metadata": {},
   "outputs": [
    {
     "data": {
      "text/html": "",
      "text/plain": "<IPython.core.display.HTML object>"
     },
     "metadata": {},
     "output_type": "display_data"
    },
    {
     "name": "stdout",
     "output_type": "stream",
     "text": "LR Finder is complete, type {learner_name}.recorder.plot() to see the graph.\n"
    }
   ],
   "source": [
    "learn.lr_find()"
   ]
  },
  {
   "cell_type": "code",
   "execution_count": 22,
   "metadata": {},
   "outputs": [
    {
     "data": {
      "image/png": "[encoded data removed]",
      "image/svg+xml": "<?xml version=\"1.0\" encoding=\"utf-8\" standalone=\"no\"?>\n<!DOCTYPE svg PUBLIC \"-//W3C//DTD SVG 1.1//EN\"\n  \"http://www.w3.org/Graphics/SVG/1.1/DTD/svg11.dtd\">\n<!-- Created with matplotlib (https://matplotlib.org/) -->\n<svg height=\"265.69625pt\" version=\"1.1\" viewBox=\"0 0 401.768802 265.69625\" width=\"401.768802pt\" xmlns=\"http://www.w3.org/2000/svg\" xmlns:xlink=\"http://www.w3.org/1999/xlink\">\n <defs>\n  <style type=\"text/css\">\n*{stroke-linecap:butt;stroke-linejoin:round;}\n  </style>\n </defs>\n <g id=\"figure_1\">\n  <g id=\"patch_1\">\n   <path d=\"M 0 265.69625 \nL 401.768802 265.69625 \nL 401.768802 0 \nL 0 0 \nz\n\" style=\"fill:none;\"/>\n  </g>\n  <g id=\"axes_1\">\n   <g id=\"patch_2\">\n    <path d=\"M 43.78125 228.14 \nL 378.58125 228.14 \nL 378.58125 10.7 \nL 43.78125 10.7 \nz\n\" style=\"fill:#ffffff;\"/>\n   </g>\n   <g id=\"matplotlib.axis_1\">\n    <g id=\"xtick_1\">\n     <g id=\"line2d_1\">\n      <defs>\n       <path d=\"M 0 0 \nL 0 3.5 \n\" id=\"m823d9db2a9\" style=\"stroke:#000000;stroke-width:0.8;\"/>\n      </defs>\n      <g>\n       <use style=\"stroke:#000000;stroke-width:0.8;\" x=\"69.281987\" xlink:href=\"#m823d9db2a9\" y=\"228.14\"/>\n      </g>\n     </g>\n     <g id=\"text_1\">\n      <!-- 1e-06 -->\n      <defs>\n       <path d=\"M 12.40625 8.296875 \nL 28.515625 8.296875 \nL 28.515625 63.921875 \nL 10.984375 60.40625 \nL 10.984375 69.390625 \nL 28.421875 72.90625 \nL 38.28125 72.90625 \nL 38.28125 8.296875 \nL 54.390625 8.296875 \nL 54.390625 0 \nL 12.40625 0 \nz\n\" id=\"DejaVuSans-49\"/>\n       <path d=\"M 56.203125 29.59375 \nL 56.203125 25.203125 \nL 14.890625 25.203125 \nQ 15.484375 15.921875 20.484375 11.0625 \nQ 25.484375 6.203125 34.421875 6.203125 \nQ 39.59375 6.203125 44.453125 7.46875 \nQ 49.3125 8.734375 54.109375 11.28125 \nL 54.109375 2.78125 \nQ 49.265625 0.734375 44.1875 -0.34375 \nQ 39.109375 -1.421875 33.890625 -1.421875 \nQ 20.796875 -1.421875 13.15625 6.1875 \nQ 5.515625 13.8125 5.515625 26.8125 \nQ 5.515625 40.234375 12.765625 48.109375 \nQ 20.015625 56 32.328125 56 \nQ 43.359375 56 49.78125 48.890625 \nQ 56.203125 41.796875 56.203125 29.59375 \nz\nM 47.21875 32.234375 \nQ 47.125 39.59375 43.09375 43.984375 \nQ 39.0625 48.390625 32.421875 48.390625 \nQ 24.90625 48.390625 20.390625 44.140625 \nQ 15.875 39.890625 15.1875 32.171875 \nz\n\" id=\"DejaVuSans-101\"/>\n       <path d=\"M 4.890625 31.390625 \nL 31.203125 31.390625 \nL 31.203125 23.390625 \nL 4.890625 23.390625 \nz\n\" id=\"DejaVuSans-45\"/>\n       <path d=\"M 31.78125 66.40625 \nQ 24.171875 66.40625 20.328125 58.90625 \nQ 16.5 51.421875 16.5 36.375 \nQ 16.5 21.390625 20.328125 13.890625 \nQ 24.171875 6.390625 31.78125 6.390625 \nQ 39.453125 6.390625 43.28125 13.890625 \nQ 47.125 21.390625 47.125 36.375 \nQ 47.125 51.421875 43.28125 58.90625 \nQ 39.453125 66.40625 31.78125 66.40625 \nz\nM 31.78125 74.21875 \nQ 44.046875 74.21875 50.515625 64.515625 \nQ 56.984375 54.828125 56.984375 36.375 \nQ 56.984375 17.96875 50.515625 8.265625 \nQ 44.046875 -1.421875 31.78125 -1.421875 \nQ 19.53125 -1.421875 13.0625 8.265625 \nQ 6.59375 17.96875 6.59375 36.375 \nQ 6.59375 54.828125 13.0625 64.515625 \nQ 19.53125 74.21875 31.78125 74.21875 \nz\n\" id=\"DejaVuSans-48\"/>\n       <path d=\"M 33.015625 40.375 \nQ 26.375 40.375 22.484375 35.828125 \nQ 18.609375 31.296875 18.609375 23.390625 \nQ 18.609375 15.53125 22.484375 10.953125 \nQ 26.375 6.390625 33.015625 6.390625 \nQ 39.65625 6.390625 43.53125 10.953125 \nQ 47.40625 15.53125 47.40625 23.390625 \nQ 47.40625 31.296875 43.53125 35.828125 \nQ 39.65625 40.375 33.015625 40.375 \nz\nM 52.59375 71.296875 \nL 52.59375 62.3125 \nQ 48.875 64.0625 45.09375 64.984375 \nQ 41.3125 65.921875 37.59375 65.921875 \nQ 27.828125 65.921875 22.671875 59.328125 \nQ 17.53125 52.734375 16.796875 39.40625 \nQ 19.671875 43.65625 24.015625 45.921875 \nQ 28.375 48.1875 33.59375 48.1875 \nQ 44.578125 48.1875 50.953125 41.515625 \nQ 57.328125 34.859375 57.328125 23.390625 \nQ 57.328125 12.15625 50.6875 5.359375 \nQ 44.046875 -1.421875 33.015625 -1.421875 \nQ 20.359375 -1.421875 13.671875 8.265625 \nQ 6.984375 17.96875 6.984375 36.375 \nQ 6.984375 53.65625 15.1875 63.9375 \nQ 23.390625 74.21875 37.203125 74.21875 \nQ 40.921875 74.21875 44.703125 73.484375 \nQ 48.484375 72.75 52.59375 71.296875 \nz\n\" id=\"DejaVuSans-54\"/>\n      </defs>\n      <g transform=\"translate(54.857768 242.738437)scale(0.1 -0.1)\">\n       <use xlink:href=\"#DejaVuSans-49\"/>\n       <use x=\"63.623047\" xlink:href=\"#DejaVuSans-101\"/>\n       <use x=\"125.146484\" xlink:href=\"#DejaVuSans-45\"/>\n       <use x=\"161.230469\" xlink:href=\"#DejaVuSans-48\"/>\n       <use x=\"224.853516\" xlink:href=\"#DejaVuSans-54\"/>\n      </g>\n     </g>\n    </g>\n    <g id=\"xtick_2\">\n     <g id=\"line2d_2\">\n      <g>\n       <use style=\"stroke:#000000;stroke-width:0.8;\" x=\"120.694764\" xlink:href=\"#m823d9db2a9\" y=\"228.14\"/>\n      </g>\n     </g>\n     <g id=\"text_2\">\n      <!-- 1e-05 -->\n      <defs>\n       <path d=\"M 10.796875 72.90625 \nL 49.515625 72.90625 \nL 49.515625 64.59375 \nL 19.828125 64.59375 \nL 19.828125 46.734375 \nQ 21.96875 47.46875 24.109375 47.828125 \nQ 26.265625 48.1875 28.421875 48.1875 \nQ 40.625 48.1875 47.75 41.5 \nQ 54.890625 34.8125 54.890625 23.390625 \nQ 54.890625 11.625 47.5625 5.09375 \nQ 40.234375 -1.421875 26.90625 -1.421875 \nQ 22.3125 -1.421875 17.546875 -0.640625 \nQ 12.796875 0.140625 7.71875 1.703125 \nL 7.71875 11.625 \nQ 12.109375 9.234375 16.796875 8.0625 \nQ 21.484375 6.890625 26.703125 6.890625 \nQ 35.15625 6.890625 40.078125 11.328125 \nQ 45.015625 15.765625 45.015625 23.390625 \nQ 45.015625 31 40.078125 35.4375 \nQ 35.15625 39.890625 26.703125 39.890625 \nQ 22.75 39.890625 18.8125 39.015625 \nQ 14.890625 38.140625 10.796875 36.28125 \nz\n\" id=\"DejaVuSans-53\"/>\n      </defs>\n      <g transform=\"translate(106.270545 242.738437)scale(0.1 -0.1)\">\n       <use xlink:href=\"#DejaVuSans-49\"/>\n       <use x=\"63.623047\" xlink:href=\"#DejaVuSans-101\"/>\n       <use x=\"125.146484\" xlink:href=\"#DejaVuSans-45\"/>\n       <use x=\"161.230469\" xlink:href=\"#DejaVuSans-48\"/>\n       <use x=\"224.853516\" xlink:href=\"#DejaVuSans-53\"/>\n      </g>\n     </g>\n    </g>\n    <g id=\"xtick_3\">\n     <g id=\"line2d_3\">\n      <g>\n       <use style=\"stroke:#000000;stroke-width:0.8;\" x=\"172.10754\" xlink:href=\"#m823d9db2a9\" y=\"228.14\"/>\n      </g>\n     </g>\n     <g id=\"text_3\">\n      <!-- 1e-04 -->\n      <defs>\n       <path d=\"M 37.796875 64.3125 \nL 12.890625 25.390625 \nL 37.796875 25.390625 \nz\nM 35.203125 72.90625 \nL 47.609375 72.90625 \nL 47.609375 25.390625 \nL 58.015625 25.390625 \nL 58.015625 17.1875 \nL 47.609375 17.1875 \nL 47.609375 0 \nL 37.796875 0 \nL 37.796875 17.1875 \nL 4.890625 17.1875 \nL 4.890625 26.703125 \nz\n\" id=\"DejaVuSans-52\"/>\n      </defs>\n      <g transform=\"translate(157.683321 242.738437)scale(0.1 -0.1)\">\n       <use xlink:href=\"#DejaVuSans-49\"/>\n       <use x=\"63.623047\" xlink:href=\"#DejaVuSans-101\"/>\n       <use x=\"125.146484\" xlink:href=\"#DejaVuSans-45\"/>\n       <use x=\"161.230469\" xlink:href=\"#DejaVuSans-48\"/>\n       <use x=\"224.853516\" xlink:href=\"#DejaVuSans-52\"/>\n      </g>\n     </g>\n    </g>\n    <g id=\"xtick_4\">\n     <g id=\"line2d_4\">\n      <g>\n       <use style=\"stroke:#000000;stroke-width:0.8;\" x=\"223.520316\" xlink:href=\"#m823d9db2a9\" y=\"228.14\"/>\n      </g>\n     </g>\n     <g id=\"text_4\">\n      <!-- 1e-03 -->\n      <defs>\n       <path d=\"M 40.578125 39.3125 \nQ 47.65625 37.796875 51.625 33 \nQ 55.609375 28.21875 55.609375 21.1875 \nQ 55.609375 10.40625 48.1875 4.484375 \nQ 40.765625 -1.421875 27.09375 -1.421875 \nQ 22.515625 -1.421875 17.65625 -0.515625 \nQ 12.796875 0.390625 7.625 2.203125 \nL 7.625 11.71875 \nQ 11.71875 9.328125 16.59375 8.109375 \nQ 21.484375 6.890625 26.8125 6.890625 \nQ 36.078125 6.890625 40.9375 10.546875 \nQ 45.796875 14.203125 45.796875 21.1875 \nQ 45.796875 27.640625 41.28125 31.265625 \nQ 36.765625 34.90625 28.71875 34.90625 \nL 20.21875 34.90625 \nL 20.21875 43.015625 \nL 29.109375 43.015625 \nQ 36.375 43.015625 40.234375 45.921875 \nQ 44.09375 48.828125 44.09375 54.296875 \nQ 44.09375 59.90625 40.109375 62.90625 \nQ 36.140625 65.921875 28.71875 65.921875 \nQ 24.65625 65.921875 20.015625 65.03125 \nQ 15.375 64.15625 9.8125 62.3125 \nL 9.8125 71.09375 \nQ 15.4375 72.65625 20.34375 73.4375 \nQ 25.25 74.21875 29.59375 74.21875 \nQ 40.828125 74.21875 47.359375 69.109375 \nQ 53.90625 64.015625 53.90625 55.328125 \nQ 53.90625 49.265625 50.4375 45.09375 \nQ 46.96875 40.921875 40.578125 39.3125 \nz\n\" id=\"DejaVuSans-51\"/>\n      </defs>\n      <g transform=\"translate(209.096098 242.738437)scale(0.1 -0.1)\">\n       <use xlink:href=\"#DejaVuSans-49\"/>\n       <use x=\"63.623047\" xlink:href=\"#DejaVuSans-101\"/>\n       <use x=\"125.146484\" xlink:href=\"#DejaVuSans-45\"/>\n       <use x=\"161.230469\" xlink:href=\"#DejaVuSans-48\"/>\n       <use x=\"224.853516\" xlink:href=\"#DejaVuSans-51\"/>\n      </g>\n     </g>\n    </g>\n    <g id=\"xtick_5\">\n     <g id=\"line2d_5\">\n      <g>\n       <use style=\"stroke:#000000;stroke-width:0.8;\" x=\"274.933093\" xlink:href=\"#m823d9db2a9\" y=\"228.14\"/>\n      </g>\n     </g>\n     <g id=\"text_5\">\n      <!-- 1e-02 -->\n      <defs>\n       <path d=\"M 19.1875 8.296875 \nL 53.609375 8.296875 \nL 53.609375 0 \nL 7.328125 0 \nL 7.328125 8.296875 \nQ 12.9375 14.109375 22.625 23.890625 \nQ 32.328125 33.6875 34.8125 36.53125 \nQ 39.546875 41.84375 41.421875 45.53125 \nQ 43.3125 49.21875 43.3125 52.78125 \nQ 43.3125 58.59375 39.234375 62.25 \nQ 35.15625 65.921875 28.609375 65.921875 \nQ 23.96875 65.921875 18.8125 64.3125 \nQ 13.671875 62.703125 7.8125 59.421875 \nL 7.8125 69.390625 \nQ 13.765625 71.78125 18.9375 73 \nQ 24.125 74.21875 28.421875 74.21875 \nQ 39.75 74.21875 46.484375 68.546875 \nQ 53.21875 62.890625 53.21875 53.421875 \nQ 53.21875 48.921875 51.53125 44.890625 \nQ 49.859375 40.875 45.40625 35.40625 \nQ 44.1875 33.984375 37.640625 27.21875 \nQ 31.109375 20.453125 19.1875 8.296875 \nz\n\" id=\"DejaVuSans-50\"/>\n      </defs>\n      <g transform=\"translate(260.508874 242.738437)scale(0.1 -0.1)\">\n       <use xlink:href=\"#DejaVuSans-49\"/>\n       <use x=\"63.623047\" xlink:href=\"#DejaVuSans-101\"/>\n       <use x=\"125.146484\" xlink:href=\"#DejaVuSans-45\"/>\n       <use x=\"161.230469\" xlink:href=\"#DejaVuSans-48\"/>\n       <use x=\"224.853516\" xlink:href=\"#DejaVuSans-50\"/>\n      </g>\n     </g>\n    </g>\n    <g id=\"xtick_6\">\n     <g id=\"line2d_6\">\n      <g>\n       <use style=\"stroke:#000000;stroke-width:0.8;\" x=\"326.345869\" xlink:href=\"#m823d9db2a9\" y=\"228.14\"/>\n      </g>\n     </g>\n     <g id=\"text_6\">\n      <!-- 1e-01 -->\n      <g transform=\"translate(311.92165 242.738437)scale(0.1 -0.1)\">\n       <use xlink:href=\"#DejaVuSans-49\"/>\n       <use x=\"63.623047\" xlink:href=\"#DejaVuSans-101\"/>\n       <use x=\"125.146484\" xlink:href=\"#DejaVuSans-45\"/>\n       <use x=\"161.230469\" xlink:href=\"#DejaVuSans-48\"/>\n       <use x=\"224.853516\" xlink:href=\"#DejaVuSans-49\"/>\n      </g>\n     </g>\n    </g>\n    <g id=\"xtick_7\">\n     <g id=\"line2d_7\">\n      <g>\n       <use style=\"stroke:#000000;stroke-width:0.8;\" x=\"377.758646\" xlink:href=\"#m823d9db2a9\" y=\"228.14\"/>\n      </g>\n     </g>\n     <g id=\"text_7\">\n      <!-- 1e+00 -->\n      <defs>\n       <path d=\"M 46 62.703125 \nL 46 35.5 \nL 73.1875 35.5 \nL 73.1875 27.203125 \nL 46 27.203125 \nL 46 0 \nL 37.796875 0 \nL 37.796875 27.203125 \nL 10.59375 27.203125 \nL 10.59375 35.5 \nL 37.796875 35.5 \nL 37.796875 62.703125 \nz\n\" id=\"DejaVuSans-43\"/>\n      </defs>\n      <g transform=\"translate(360.948489 242.738437)scale(0.1 -0.1)\">\n       <use xlink:href=\"#DejaVuSans-49\"/>\n       <use x=\"63.623047\" xlink:href=\"#DejaVuSans-101\"/>\n       <use x=\"125.146484\" xlink:href=\"#DejaVuSans-43\"/>\n       <use x=\"208.935547\" xlink:href=\"#DejaVuSans-48\"/>\n       <use x=\"272.558594\" xlink:href=\"#DejaVuSans-48\"/>\n      </g>\n     </g>\n    </g>\n    <g id=\"xtick_8\">\n     <g id=\"line2d_8\">\n      <defs>\n       <path d=\"M 0 0 \nL 0 2 \n\" id=\"md689b694b3\" style=\"stroke:#000000;stroke-width:0.6;\"/>\n      </defs>\n      <g>\n       <use style=\"stroke:#000000;stroke-width:0.6;\" x=\"48.822786\" xlink:href=\"#md689b694b3\" y=\"228.14\"/>\n      </g>\n     </g>\n    </g>\n    <g id=\"xtick_9\">\n     <g id=\"line2d_9\">\n      <g>\n       <use style=\"stroke:#000000;stroke-width:0.6;\" x=\"53.805199\" xlink:href=\"#md689b694b3\" y=\"228.14\"/>\n      </g>\n     </g>\n    </g>\n    <g id=\"xtick_10\">\n     <g id=\"line2d_10\">\n      <g>\n       <use style=\"stroke:#000000;stroke-width:0.6;\" x=\"57.876127\" xlink:href=\"#md689b694b3\" y=\"228.14\"/>\n      </g>\n     </g>\n    </g>\n    <g id=\"xtick_11\">\n     <g id=\"line2d_11\">\n      <g>\n       <use style=\"stroke:#000000;stroke-width:0.6;\" x=\"61.318047\" xlink:href=\"#md689b694b3\" y=\"228.14\"/>\n      </g>\n     </g>\n    </g>\n    <g id=\"xtick_12\">\n     <g id=\"line2d_12\">\n      <g>\n       <use style=\"stroke:#000000;stroke-width:0.6;\" x=\"64.299574\" xlink:href=\"#md689b694b3\" y=\"228.14\"/>\n      </g>\n     </g>\n    </g>\n    <g id=\"xtick_13\">\n     <g id=\"line2d_13\">\n      <g>\n       <use style=\"stroke:#000000;stroke-width:0.6;\" x=\"66.929467\" xlink:href=\"#md689b694b3\" y=\"228.14\"/>\n      </g>\n     </g>\n    </g>\n    <g id=\"xtick_14\">\n     <g id=\"line2d_14\">\n      <g>\n       <use style=\"stroke:#000000;stroke-width:0.6;\" x=\"84.758775\" xlink:href=\"#md689b694b3\" y=\"228.14\"/>\n      </g>\n     </g>\n    </g>\n    <g id=\"xtick_15\">\n     <g id=\"line2d_15\">\n      <g>\n       <use style=\"stroke:#000000;stroke-width:0.6;\" x=\"93.812115\" xlink:href=\"#md689b694b3\" y=\"228.14\"/>\n      </g>\n     </g>\n    </g>\n    <g id=\"xtick_16\">\n     <g id=\"line2d_16\">\n      <g>\n       <use style=\"stroke:#000000;stroke-width:0.6;\" x=\"100.235563\" xlink:href=\"#md689b694b3\" y=\"228.14\"/>\n      </g>\n     </g>\n    </g>\n    <g id=\"xtick_17\">\n     <g id=\"line2d_17\">\n      <g>\n       <use style=\"stroke:#000000;stroke-width:0.6;\" x=\"105.217976\" xlink:href=\"#md689b694b3\" y=\"228.14\"/>\n      </g>\n     </g>\n    </g>\n    <g id=\"xtick_18\">\n     <g id=\"line2d_18\">\n      <g>\n       <use style=\"stroke:#000000;stroke-width:0.6;\" x=\"109.288903\" xlink:href=\"#md689b694b3\" y=\"228.14\"/>\n      </g>\n     </g>\n    </g>\n    <g id=\"xtick_19\">\n     <g id=\"line2d_19\">\n      <g>\n       <use style=\"stroke:#000000;stroke-width:0.6;\" x=\"112.730824\" xlink:href=\"#md689b694b3\" y=\"228.14\"/>\n      </g>\n     </g>\n    </g>\n    <g id=\"xtick_20\">\n     <g id=\"line2d_20\">\n      <g>\n       <use style=\"stroke:#000000;stroke-width:0.6;\" x=\"115.712351\" xlink:href=\"#md689b694b3\" y=\"228.14\"/>\n      </g>\n     </g>\n    </g>\n    <g id=\"xtick_21\">\n     <g id=\"line2d_21\">\n      <g>\n       <use style=\"stroke:#000000;stroke-width:0.6;\" x=\"118.342244\" xlink:href=\"#md689b694b3\" y=\"228.14\"/>\n      </g>\n     </g>\n    </g>\n    <g id=\"xtick_22\">\n     <g id=\"line2d_22\">\n      <g>\n       <use style=\"stroke:#000000;stroke-width:0.6;\" x=\"136.171551\" xlink:href=\"#md689b694b3\" y=\"228.14\"/>\n      </g>\n     </g>\n    </g>\n    <g id=\"xtick_23\">\n     <g id=\"line2d_23\">\n      <g>\n       <use style=\"stroke:#000000;stroke-width:0.6;\" x=\"145.224892\" xlink:href=\"#md689b694b3\" y=\"228.14\"/>\n      </g>\n     </g>\n    </g>\n    <g id=\"xtick_24\">\n     <g id=\"line2d_24\">\n      <g>\n       <use style=\"stroke:#000000;stroke-width:0.6;\" x=\"151.648339\" xlink:href=\"#md689b694b3\" y=\"228.14\"/>\n      </g>\n     </g>\n    </g>\n    <g id=\"xtick_25\">\n     <g id=\"line2d_25\">\n      <g>\n       <use style=\"stroke:#000000;stroke-width:0.6;\" x=\"156.630752\" xlink:href=\"#md689b694b3\" y=\"228.14\"/>\n      </g>\n     </g>\n    </g>\n    <g id=\"xtick_26\">\n     <g id=\"line2d_26\">\n      <g>\n       <use style=\"stroke:#000000;stroke-width:0.6;\" x=\"160.70168\" xlink:href=\"#md689b694b3\" y=\"228.14\"/>\n      </g>\n     </g>\n    </g>\n    <g id=\"xtick_27\">\n     <g id=\"line2d_27\">\n      <g>\n       <use style=\"stroke:#000000;stroke-width:0.6;\" x=\"164.1436\" xlink:href=\"#md689b694b3\" y=\"228.14\"/>\n      </g>\n     </g>\n    </g>\n    <g id=\"xtick_28\">\n     <g id=\"line2d_28\">\n      <g>\n       <use style=\"stroke:#000000;stroke-width:0.6;\" x=\"167.125127\" xlink:href=\"#md689b694b3\" y=\"228.14\"/>\n      </g>\n     </g>\n    </g>\n    <g id=\"xtick_29\">\n     <g id=\"line2d_29\">\n      <g>\n       <use style=\"stroke:#000000;stroke-width:0.6;\" x=\"169.75502\" xlink:href=\"#md689b694b3\" y=\"228.14\"/>\n      </g>\n     </g>\n    </g>\n    <g id=\"xtick_30\">\n     <g id=\"line2d_30\">\n      <g>\n       <use style=\"stroke:#000000;stroke-width:0.6;\" x=\"187.584328\" xlink:href=\"#md689b694b3\" y=\"228.14\"/>\n      </g>\n     </g>\n    </g>\n    <g id=\"xtick_31\">\n     <g id=\"line2d_31\">\n      <g>\n       <use style=\"stroke:#000000;stroke-width:0.6;\" x=\"196.637668\" xlink:href=\"#md689b694b3\" y=\"228.14\"/>\n      </g>\n     </g>\n    </g>\n    <g id=\"xtick_32\">\n     <g id=\"line2d_32\">\n      <g>\n       <use style=\"stroke:#000000;stroke-width:0.6;\" x=\"203.061116\" xlink:href=\"#md689b694b3\" y=\"228.14\"/>\n      </g>\n     </g>\n    </g>\n    <g id=\"xtick_33\">\n     <g id=\"line2d_33\">\n      <g>\n       <use style=\"stroke:#000000;stroke-width:0.6;\" x=\"208.043528\" xlink:href=\"#md689b694b3\" y=\"228.14\"/>\n      </g>\n     </g>\n    </g>\n    <g id=\"xtick_34\">\n     <g id=\"line2d_34\">\n      <g>\n       <use style=\"stroke:#000000;stroke-width:0.6;\" x=\"212.114456\" xlink:href=\"#md689b694b3\" y=\"228.14\"/>\n      </g>\n     </g>\n    </g>\n    <g id=\"xtick_35\">\n     <g id=\"line2d_35\">\n      <g>\n       <use style=\"stroke:#000000;stroke-width:0.6;\" x=\"215.556377\" xlink:href=\"#md689b694b3\" y=\"228.14\"/>\n      </g>\n     </g>\n    </g>\n    <g id=\"xtick_36\">\n     <g id=\"line2d_36\">\n      <g>\n       <use style=\"stroke:#000000;stroke-width:0.6;\" x=\"218.537904\" xlink:href=\"#md689b694b3\" y=\"228.14\"/>\n      </g>\n     </g>\n    </g>\n    <g id=\"xtick_37\">\n     <g id=\"line2d_37\">\n      <g>\n       <use style=\"stroke:#000000;stroke-width:0.6;\" x=\"221.167797\" xlink:href=\"#md689b694b3\" y=\"228.14\"/>\n      </g>\n     </g>\n    </g>\n    <g id=\"xtick_38\">\n     <g id=\"line2d_38\">\n      <g>\n       <use style=\"stroke:#000000;stroke-width:0.6;\" x=\"238.997104\" xlink:href=\"#md689b694b3\" y=\"228.14\"/>\n      </g>\n     </g>\n    </g>\n    <g id=\"xtick_39\">\n     <g id=\"line2d_39\">\n      <g>\n       <use style=\"stroke:#000000;stroke-width:0.6;\" x=\"248.050445\" xlink:href=\"#md689b694b3\" y=\"228.14\"/>\n      </g>\n     </g>\n    </g>\n    <g id=\"xtick_40\">\n     <g id=\"line2d_40\">\n      <g>\n       <use style=\"stroke:#000000;stroke-width:0.6;\" x=\"254.473892\" xlink:href=\"#md689b694b3\" y=\"228.14\"/>\n      </g>\n     </g>\n    </g>\n    <g id=\"xtick_41\">\n     <g id=\"line2d_41\">\n      <g>\n       <use style=\"stroke:#000000;stroke-width:0.6;\" x=\"259.456305\" xlink:href=\"#md689b694b3\" y=\"228.14\"/>\n      </g>\n     </g>\n    </g>\n    <g id=\"xtick_42\">\n     <g id=\"line2d_42\">\n      <g>\n       <use style=\"stroke:#000000;stroke-width:0.6;\" x=\"263.527233\" xlink:href=\"#md689b694b3\" y=\"228.14\"/>\n      </g>\n     </g>\n    </g>\n    <g id=\"xtick_43\">\n     <g id=\"line2d_43\">\n      <g>\n       <use style=\"stroke:#000000;stroke-width:0.6;\" x=\"266.969153\" xlink:href=\"#md689b694b3\" y=\"228.14\"/>\n      </g>\n     </g>\n    </g>\n    <g id=\"xtick_44\">\n     <g id=\"line2d_44\">\n      <g>\n       <use style=\"stroke:#000000;stroke-width:0.6;\" x=\"269.95068\" xlink:href=\"#md689b694b3\" y=\"228.14\"/>\n      </g>\n     </g>\n    </g>\n    <g id=\"xtick_45\">\n     <g id=\"line2d_45\">\n      <g>\n       <use style=\"stroke:#000000;stroke-width:0.6;\" x=\"272.580573\" xlink:href=\"#md689b694b3\" y=\"228.14\"/>\n      </g>\n     </g>\n    </g>\n    <g id=\"xtick_46\">\n     <g id=\"line2d_46\">\n      <g>\n       <use style=\"stroke:#000000;stroke-width:0.6;\" x=\"290.409881\" xlink:href=\"#md689b694b3\" y=\"228.14\"/>\n      </g>\n     </g>\n    </g>\n    <g id=\"xtick_47\">\n     <g id=\"line2d_47\">\n      <g>\n       <use style=\"stroke:#000000;stroke-width:0.6;\" x=\"299.463221\" xlink:href=\"#md689b694b3\" y=\"228.14\"/>\n      </g>\n     </g>\n    </g>\n    <g id=\"xtick_48\">\n     <g id=\"line2d_48\">\n      <g>\n       <use style=\"stroke:#000000;stroke-width:0.6;\" x=\"305.886668\" xlink:href=\"#md689b694b3\" y=\"228.14\"/>\n      </g>\n     </g>\n    </g>\n    <g id=\"xtick_49\">\n     <g id=\"line2d_49\">\n      <g>\n       <use style=\"stroke:#000000;stroke-width:0.6;\" x=\"310.869081\" xlink:href=\"#md689b694b3\" y=\"228.14\"/>\n      </g>\n     </g>\n    </g>\n    <g id=\"xtick_50\">\n     <g id=\"line2d_50\">\n      <g>\n       <use style=\"stroke:#000000;stroke-width:0.6;\" x=\"314.940009\" xlink:href=\"#md689b694b3\" y=\"228.14\"/>\n      </g>\n     </g>\n    </g>\n    <g id=\"xtick_51\">\n     <g id=\"line2d_51\">\n      <g>\n       <use style=\"stroke:#000000;stroke-width:0.6;\" x=\"318.381929\" xlink:href=\"#md689b694b3\" y=\"228.14\"/>\n      </g>\n     </g>\n    </g>\n    <g id=\"xtick_52\">\n     <g id=\"line2d_52\">\n      <g>\n       <use style=\"stroke:#000000;stroke-width:0.6;\" x=\"321.363456\" xlink:href=\"#md689b694b3\" y=\"228.14\"/>\n      </g>\n     </g>\n    </g>\n    <g id=\"xtick_53\">\n     <g id=\"line2d_53\">\n      <g>\n       <use style=\"stroke:#000000;stroke-width:0.6;\" x=\"323.99335\" xlink:href=\"#md689b694b3\" y=\"228.14\"/>\n      </g>\n     </g>\n    </g>\n    <g id=\"xtick_54\">\n     <g id=\"line2d_54\">\n      <g>\n       <use style=\"stroke:#000000;stroke-width:0.6;\" x=\"341.822657\" xlink:href=\"#md689b694b3\" y=\"228.14\"/>\n      </g>\n     </g>\n    </g>\n    <g id=\"xtick_55\">\n     <g id=\"line2d_55\">\n      <g>\n       <use style=\"stroke:#000000;stroke-width:0.6;\" x=\"350.875998\" xlink:href=\"#md689b694b3\" y=\"228.14\"/>\n      </g>\n     </g>\n    </g>\n    <g id=\"xtick_56\">\n     <g id=\"line2d_56\">\n      <g>\n       <use style=\"stroke:#000000;stroke-width:0.6;\" x=\"357.299445\" xlink:href=\"#md689b694b3\" y=\"228.14\"/>\n      </g>\n     </g>\n    </g>\n    <g id=\"xtick_57\">\n     <g id=\"line2d_57\">\n      <g>\n       <use style=\"stroke:#000000;stroke-width:0.6;\" x=\"362.281858\" xlink:href=\"#md689b694b3\" y=\"228.14\"/>\n      </g>\n     </g>\n    </g>\n    <g id=\"xtick_58\">\n     <g id=\"line2d_58\">\n      <g>\n       <use style=\"stroke:#000000;stroke-width:0.6;\" x=\"366.352785\" xlink:href=\"#md689b694b3\" y=\"228.14\"/>\n      </g>\n     </g>\n    </g>\n    <g id=\"xtick_59\">\n     <g id=\"line2d_59\">\n      <g>\n       <use style=\"stroke:#000000;stroke-width:0.6;\" x=\"369.794706\" xlink:href=\"#md689b694b3\" y=\"228.14\"/>\n      </g>\n     </g>\n    </g>\n    <g id=\"xtick_60\">\n     <g id=\"line2d_60\">\n      <g>\n       <use style=\"stroke:#000000;stroke-width:0.6;\" x=\"372.776233\" xlink:href=\"#md689b694b3\" y=\"228.14\"/>\n      </g>\n     </g>\n    </g>\n    <g id=\"xtick_61\">\n     <g id=\"line2d_61\">\n      <g>\n       <use style=\"stroke:#000000;stroke-width:0.6;\" x=\"375.406126\" xlink:href=\"#md689b694b3\" y=\"228.14\"/>\n      </g>\n     </g>\n    </g>\n    <g id=\"text_8\">\n     <!-- Learning Rate -->\n     <defs>\n      <path d=\"M 9.8125 72.90625 \nL 19.671875 72.90625 \nL 19.671875 8.296875 \nL 55.171875 8.296875 \nL 55.171875 0 \nL 9.8125 0 \nz\n\" id=\"DejaVuSans-76\"/>\n      <path d=\"M 34.28125 27.484375 \nQ 23.390625 27.484375 19.1875 25 \nQ 14.984375 22.515625 14.984375 16.5 \nQ 14.984375 11.71875 18.140625 8.90625 \nQ 21.296875 6.109375 26.703125 6.109375 \nQ 34.1875 6.109375 38.703125 11.40625 \nQ 43.21875 16.703125 43.21875 25.484375 \nL 43.21875 27.484375 \nz\nM 52.203125 31.203125 \nL 52.203125 0 \nL 43.21875 0 \nL 43.21875 8.296875 \nQ 40.140625 3.328125 35.546875 0.953125 \nQ 30.953125 -1.421875 24.3125 -1.421875 \nQ 15.921875 -1.421875 10.953125 3.296875 \nQ 6 8.015625 6 15.921875 \nQ 6 25.140625 12.171875 29.828125 \nQ 18.359375 34.515625 30.609375 34.515625 \nL 43.21875 34.515625 \nL 43.21875 35.40625 \nQ 43.21875 41.609375 39.140625 45 \nQ 35.0625 48.390625 27.6875 48.390625 \nQ 23 48.390625 18.546875 47.265625 \nQ 14.109375 46.140625 10.015625 43.890625 \nL 10.015625 52.203125 \nQ 14.9375 54.109375 19.578125 55.046875 \nQ 24.21875 56 28.609375 56 \nQ 40.484375 56 46.34375 49.84375 \nQ 52.203125 43.703125 52.203125 31.203125 \nz\n\" id=\"DejaVuSans-97\"/>\n      <path d=\"M 41.109375 46.296875 \nQ 39.59375 47.171875 37.8125 47.578125 \nQ 36.03125 48 33.890625 48 \nQ 26.265625 48 22.1875 43.046875 \nQ 18.109375 38.09375 18.109375 28.8125 \nL 18.109375 0 \nL 9.078125 0 \nL 9.078125 54.6875 \nL 18.109375 54.6875 \nL 18.109375 46.1875 \nQ 20.953125 51.171875 25.484375 53.578125 \nQ 30.03125 56 36.53125 56 \nQ 37.453125 56 38.578125 55.875 \nQ 39.703125 55.765625 41.0625 55.515625 \nz\n\" id=\"DejaVuSans-114\"/>\n      <path d=\"M 54.890625 33.015625 \nL 54.890625 0 \nL 45.90625 0 \nL 45.90625 32.71875 \nQ 45.90625 40.484375 42.875 44.328125 \nQ 39.84375 48.1875 33.796875 48.1875 \nQ 26.515625 48.1875 22.3125 43.546875 \nQ 18.109375 38.921875 18.109375 30.90625 \nL 18.109375 0 \nL 9.078125 0 \nL 9.078125 54.6875 \nL 18.109375 54.6875 \nL 18.109375 46.1875 \nQ 21.34375 51.125 25.703125 53.5625 \nQ 30.078125 56 35.796875 56 \nQ 45.21875 56 50.046875 50.171875 \nQ 54.890625 44.34375 54.890625 33.015625 \nz\n\" id=\"DejaVuSans-110\"/>\n      <path d=\"M 9.421875 54.6875 \nL 18.40625 54.6875 \nL 18.40625 0 \nL 9.421875 0 \nz\nM 9.421875 75.984375 \nL 18.40625 75.984375 \nL 18.40625 64.59375 \nL 9.421875 64.59375 \nz\n\" id=\"DejaVuSans-105\"/>\n      <path d=\"M 45.40625 27.984375 \nQ 45.40625 37.75 41.375 43.109375 \nQ 37.359375 48.484375 30.078125 48.484375 \nQ 22.859375 48.484375 18.828125 43.109375 \nQ 14.796875 37.75 14.796875 27.984375 \nQ 14.796875 18.265625 18.828125 12.890625 \nQ 22.859375 7.515625 30.078125 7.515625 \nQ 37.359375 7.515625 41.375 12.890625 \nQ 45.40625 18.265625 45.40625 27.984375 \nz\nM 54.390625 6.78125 \nQ 54.390625 -7.171875 48.1875 -13.984375 \nQ 42 -20.796875 29.203125 -20.796875 \nQ 24.46875 -20.796875 20.265625 -20.09375 \nQ 16.0625 -19.390625 12.109375 -17.921875 \nL 12.109375 -9.1875 \nQ 16.0625 -11.328125 19.921875 -12.34375 \nQ 23.78125 -13.375 27.78125 -13.375 \nQ 36.625 -13.375 41.015625 -8.765625 \nQ 45.40625 -4.15625 45.40625 5.171875 \nL 45.40625 9.625 \nQ 42.625 4.78125 38.28125 2.390625 \nQ 33.9375 0 27.875 0 \nQ 17.828125 0 11.671875 7.65625 \nQ 5.515625 15.328125 5.515625 27.984375 \nQ 5.515625 40.671875 11.671875 48.328125 \nQ 17.828125 56 27.875 56 \nQ 33.9375 56 38.28125 53.609375 \nQ 42.625 51.21875 45.40625 46.390625 \nL 45.40625 54.6875 \nL 54.390625 54.6875 \nz\n\" id=\"DejaVuSans-103\"/>\n      <path id=\"DejaVuSans-32\"/>\n      <path d=\"M 44.390625 34.1875 \nQ 47.5625 33.109375 50.5625 29.59375 \nQ 53.5625 26.078125 56.59375 19.921875 \nL 66.609375 0 \nL 56 0 \nL 46.6875 18.703125 \nQ 43.0625 26.03125 39.671875 28.421875 \nQ 36.28125 30.8125 30.421875 30.8125 \nL 19.671875 30.8125 \nL 19.671875 0 \nL 9.8125 0 \nL 9.8125 72.90625 \nL 32.078125 72.90625 \nQ 44.578125 72.90625 50.734375 67.671875 \nQ 56.890625 62.453125 56.890625 51.90625 \nQ 56.890625 45.015625 53.6875 40.46875 \nQ 50.484375 35.9375 44.390625 34.1875 \nz\nM 19.671875 64.796875 \nL 19.671875 38.921875 \nL 32.078125 38.921875 \nQ 39.203125 38.921875 42.84375 42.21875 \nQ 46.484375 45.515625 46.484375 51.90625 \nQ 46.484375 58.296875 42.84375 61.546875 \nQ 39.203125 64.796875 32.078125 64.796875 \nz\n\" id=\"DejaVuSans-82\"/>\n      <path d=\"M 18.3125 70.21875 \nL 18.3125 54.6875 \nL 36.8125 54.6875 \nL 36.8125 47.703125 \nL 18.3125 47.703125 \nL 18.3125 18.015625 \nQ 18.3125 11.328125 20.140625 9.421875 \nQ 21.96875 7.515625 27.59375 7.515625 \nL 36.8125 7.515625 \nL 36.8125 0 \nL 27.59375 0 \nQ 17.1875 0 13.234375 3.875 \nQ 9.28125 7.765625 9.28125 18.015625 \nL 9.28125 47.703125 \nL 2.6875 47.703125 \nL 2.6875 54.6875 \nL 9.28125 54.6875 \nL 9.28125 70.21875 \nz\n\" id=\"DejaVuSans-116\"/>\n     </defs>\n     <g transform=\"translate(176.1375 256.416562)scale(0.1 -0.1)\">\n      <use xlink:href=\"#DejaVuSans-76\"/>\n      <use x=\"55.697266\" xlink:href=\"#DejaVuSans-101\"/>\n      <use x=\"117.220703\" xlink:href=\"#DejaVuSans-97\"/>\n      <use x=\"178.5\" xlink:href=\"#DejaVuSans-114\"/>\n      <use x=\"219.597656\" xlink:href=\"#DejaVuSans-110\"/>\n      <use x=\"282.976562\" xlink:href=\"#DejaVuSans-105\"/>\n      <use x=\"310.759766\" xlink:href=\"#DejaVuSans-110\"/>\n      <use x=\"374.138672\" xlink:href=\"#DejaVuSans-103\"/>\n      <use x=\"437.615234\" xlink:href=\"#DejaVuSans-32\"/>\n      <use x=\"469.402344\" xlink:href=\"#DejaVuSans-82\"/>\n      <use x=\"538.853516\" xlink:href=\"#DejaVuSans-97\"/>\n      <use x=\"600.132812\" xlink:href=\"#DejaVuSans-116\"/>\n      <use x=\"639.341797\" xlink:href=\"#DejaVuSans-101\"/>\n     </g>\n    </g>\n   </g>\n   <g id=\"matplotlib.axis_2\">\n    <g id=\"ytick_1\">\n     <g id=\"line2d_62\">\n      <defs>\n       <path d=\"M 0 0 \nL -3.5 0 \n\" id=\"mb32fd1f4bd\" style=\"stroke:#000000;stroke-width:0.8;\"/>\n      </defs>\n      <g>\n       <use style=\"stroke:#000000;stroke-width:0.8;\" x=\"43.78125\" xlink:href=\"#mb32fd1f4bd\" y=\"206.105719\"/>\n      </g>\n     </g>\n     <g id=\"text_9\">\n      <!-- 4.6 -->\n      <defs>\n       <path d=\"M 10.6875 12.40625 \nL 21 12.40625 \nL 21 0 \nL 10.6875 0 \nz\n\" id=\"DejaVuSans-46\"/>\n      </defs>\n      <g transform=\"translate(20.878125 209.904938)scale(0.1 -0.1)\">\n       <use xlink:href=\"#DejaVuSans-52\"/>\n       <use x=\"63.623047\" xlink:href=\"#DejaVuSans-46\"/>\n       <use x=\"95.410156\" xlink:href=\"#DejaVuSans-54\"/>\n      </g>\n     </g>\n    </g>\n    <g id=\"ytick_2\">\n     <g id=\"line2d_63\">\n      <g>\n       <use style=\"stroke:#000000;stroke-width:0.8;\" x=\"43.78125\" xlink:href=\"#mb32fd1f4bd\" y=\"158.216878\"/>\n      </g>\n     </g>\n     <g id=\"text_10\">\n      <!-- 4.7 -->\n      <defs>\n       <path d=\"M 8.203125 72.90625 \nL 55.078125 72.90625 \nL 55.078125 68.703125 \nL 28.609375 0 \nL 18.3125 0 \nL 43.21875 64.59375 \nL 8.203125 64.59375 \nz\n\" id=\"DejaVuSans-55\"/>\n      </defs>\n      <g transform=\"translate(20.878125 162.016097)scale(0.1 -0.1)\">\n       <use xlink:href=\"#DejaVuSans-52\"/>\n       <use x=\"63.623047\" xlink:href=\"#DejaVuSans-46\"/>\n       <use x=\"95.410156\" xlink:href=\"#DejaVuSans-55\"/>\n      </g>\n     </g>\n    </g>\n    <g id=\"ytick_3\">\n     <g id=\"line2d_64\">\n      <g>\n       <use style=\"stroke:#000000;stroke-width:0.8;\" x=\"43.78125\" xlink:href=\"#mb32fd1f4bd\" y=\"110.328036\"/>\n      </g>\n     </g>\n     <g id=\"text_11\">\n      <!-- 4.8 -->\n      <defs>\n       <path d=\"M 31.78125 34.625 \nQ 24.75 34.625 20.71875 30.859375 \nQ 16.703125 27.09375 16.703125 20.515625 \nQ 16.703125 13.921875 20.71875 10.15625 \nQ 24.75 6.390625 31.78125 6.390625 \nQ 38.8125 6.390625 42.859375 10.171875 \nQ 46.921875 13.96875 46.921875 20.515625 \nQ 46.921875 27.09375 42.890625 30.859375 \nQ 38.875 34.625 31.78125 34.625 \nz\nM 21.921875 38.8125 \nQ 15.578125 40.375 12.03125 44.71875 \nQ 8.5 49.078125 8.5 55.328125 \nQ 8.5 64.0625 14.71875 69.140625 \nQ 20.953125 74.21875 31.78125 74.21875 \nQ 42.671875 74.21875 48.875 69.140625 \nQ 55.078125 64.0625 55.078125 55.328125 \nQ 55.078125 49.078125 51.53125 44.71875 \nQ 48 40.375 41.703125 38.8125 \nQ 48.828125 37.15625 52.796875 32.3125 \nQ 56.78125 27.484375 56.78125 20.515625 \nQ 56.78125 9.90625 50.3125 4.234375 \nQ 43.84375 -1.421875 31.78125 -1.421875 \nQ 19.734375 -1.421875 13.25 4.234375 \nQ 6.78125 9.90625 6.78125 20.515625 \nQ 6.78125 27.484375 10.78125 32.3125 \nQ 14.796875 37.15625 21.921875 38.8125 \nz\nM 18.3125 54.390625 \nQ 18.3125 48.734375 21.84375 45.5625 \nQ 25.390625 42.390625 31.78125 42.390625 \nQ 38.140625 42.390625 41.71875 45.5625 \nQ 45.3125 48.734375 45.3125 54.390625 \nQ 45.3125 60.0625 41.71875 63.234375 \nQ 38.140625 66.40625 31.78125 66.40625 \nQ 25.390625 66.40625 21.84375 63.234375 \nQ 18.3125 60.0625 18.3125 54.390625 \nz\n\" id=\"DejaVuSans-56\"/>\n      </defs>\n      <g transform=\"translate(20.878125 114.127255)scale(0.1 -0.1)\">\n       <use xlink:href=\"#DejaVuSans-52\"/>\n       <use x=\"63.623047\" xlink:href=\"#DejaVuSans-46\"/>\n       <use x=\"95.410156\" xlink:href=\"#DejaVuSans-56\"/>\n      </g>\n     </g>\n    </g>\n    <g id=\"ytick_4\">\n     <g id=\"line2d_65\">\n      <g>\n       <use style=\"stroke:#000000;stroke-width:0.8;\" x=\"43.78125\" xlink:href=\"#mb32fd1f4bd\" y=\"62.439195\"/>\n      </g>\n     </g>\n     <g id=\"text_12\">\n      <!-- 4.9 -->\n      <defs>\n       <path d=\"M 10.984375 1.515625 \nL 10.984375 10.5 \nQ 14.703125 8.734375 18.5 7.8125 \nQ 22.3125 6.890625 25.984375 6.890625 \nQ 35.75 6.890625 40.890625 13.453125 \nQ 46.046875 20.015625 46.78125 33.40625 \nQ 43.953125 29.203125 39.59375 26.953125 \nQ 35.25 24.703125 29.984375 24.703125 \nQ 19.046875 24.703125 12.671875 31.3125 \nQ 6.296875 37.9375 6.296875 49.421875 \nQ 6.296875 60.640625 12.9375 67.421875 \nQ 19.578125 74.21875 30.609375 74.21875 \nQ 43.265625 74.21875 49.921875 64.515625 \nQ 56.59375 54.828125 56.59375 36.375 \nQ 56.59375 19.140625 48.40625 8.859375 \nQ 40.234375 -1.421875 26.421875 -1.421875 \nQ 22.703125 -1.421875 18.890625 -0.6875 \nQ 15.09375 0.046875 10.984375 1.515625 \nz\nM 30.609375 32.421875 \nQ 37.25 32.421875 41.125 36.953125 \nQ 45.015625 41.5 45.015625 49.421875 \nQ 45.015625 57.28125 41.125 61.84375 \nQ 37.25 66.40625 30.609375 66.40625 \nQ 23.96875 66.40625 20.09375 61.84375 \nQ 16.21875 57.28125 16.21875 49.421875 \nQ 16.21875 41.5 20.09375 36.953125 \nQ 23.96875 32.421875 30.609375 32.421875 \nz\n\" id=\"DejaVuSans-57\"/>\n      </defs>\n      <g transform=\"translate(20.878125 66.238414)scale(0.1 -0.1)\">\n       <use xlink:href=\"#DejaVuSans-52\"/>\n       <use x=\"63.623047\" xlink:href=\"#DejaVuSans-46\"/>\n       <use x=\"95.410156\" xlink:href=\"#DejaVuSans-57\"/>\n      </g>\n     </g>\n    </g>\n    <g id=\"ytick_5\">\n     <g id=\"line2d_66\">\n      <g>\n       <use style=\"stroke:#000000;stroke-width:0.8;\" x=\"43.78125\" xlink:href=\"#mb32fd1f4bd\" y=\"14.550354\"/>\n      </g>\n     </g>\n     <g id=\"text_13\">\n      <!-- 5.0 -->\n      <g transform=\"translate(20.878125 18.349572)scale(0.1 -0.1)\">\n       <use xlink:href=\"#DejaVuSans-53\"/>\n       <use x=\"63.623047\" xlink:href=\"#DejaVuSans-46\"/>\n       <use x=\"95.410156\" xlink:href=\"#DejaVuSans-48\"/>\n      </g>\n     </g>\n    </g>\n    <g id=\"text_14\">\n     <!-- Loss -->\n     <defs>\n      <path d=\"M 30.609375 48.390625 \nQ 23.390625 48.390625 19.1875 42.75 \nQ 14.984375 37.109375 14.984375 27.296875 \nQ 14.984375 17.484375 19.15625 11.84375 \nQ 23.34375 6.203125 30.609375 6.203125 \nQ 37.796875 6.203125 41.984375 11.859375 \nQ 46.1875 17.53125 46.1875 27.296875 \nQ 46.1875 37.015625 41.984375 42.703125 \nQ 37.796875 48.390625 30.609375 48.390625 \nz\nM 30.609375 56 \nQ 42.328125 56 49.015625 48.375 \nQ 55.71875 40.765625 55.71875 27.296875 \nQ 55.71875 13.875 49.015625 6.21875 \nQ 42.328125 -1.421875 30.609375 -1.421875 \nQ 18.84375 -1.421875 12.171875 6.21875 \nQ 5.515625 13.875 5.515625 27.296875 \nQ 5.515625 40.765625 12.171875 48.375 \nQ 18.84375 56 30.609375 56 \nz\n\" id=\"DejaVuSans-111\"/>\n      <path d=\"M 44.28125 53.078125 \nL 44.28125 44.578125 \nQ 40.484375 46.53125 36.375 47.5 \nQ 32.28125 48.484375 27.875 48.484375 \nQ 21.1875 48.484375 17.84375 46.4375 \nQ 14.5 44.390625 14.5 40.28125 \nQ 14.5 37.15625 16.890625 35.375 \nQ 19.28125 33.59375 26.515625 31.984375 \nL 29.59375 31.296875 \nQ 39.15625 29.25 43.1875 25.515625 \nQ 47.21875 21.78125 47.21875 15.09375 \nQ 47.21875 7.46875 41.1875 3.015625 \nQ 35.15625 -1.421875 24.609375 -1.421875 \nQ 20.21875 -1.421875 15.453125 -0.5625 \nQ 10.6875 0.296875 5.421875 2 \nL 5.421875 11.28125 \nQ 10.40625 8.6875 15.234375 7.390625 \nQ 20.0625 6.109375 24.8125 6.109375 \nQ 31.15625 6.109375 34.5625 8.28125 \nQ 37.984375 10.453125 37.984375 14.40625 \nQ 37.984375 18.0625 35.515625 20.015625 \nQ 33.0625 21.96875 24.703125 23.78125 \nL 21.578125 24.515625 \nQ 13.234375 26.265625 9.515625 29.90625 \nQ 5.8125 33.546875 5.8125 39.890625 \nQ 5.8125 47.609375 11.28125 51.796875 \nQ 16.75 56 26.8125 56 \nQ 31.78125 56 36.171875 55.265625 \nQ 40.578125 54.546875 44.28125 53.078125 \nz\n\" id=\"DejaVuSans-115\"/>\n     </defs>\n     <g transform=\"translate(14.798438 130.473906)rotate(-90)scale(0.1 -0.1)\">\n      <use xlink:href=\"#DejaVuSans-76\"/>\n      <use x=\"55.697266\" xlink:href=\"#DejaVuSans-111\"/>\n      <use x=\"116.878906\" xlink:href=\"#DejaVuSans-115\"/>\n      <use x=\"168.978516\" xlink:href=\"#DejaVuSans-115\"/>\n     </g>\n    </g>\n   </g>\n   <g id=\"line2d_67\">\n    <path clip-path=\"url(#p8e364332ad)\" d=\"M 58.999432 42.359948 \nL 63.112454 28.155782 \nL 67.225476 24.828239 \nL 71.338498 20.583636 \nL 75.45152 27.275486 \nL 79.564542 24.44575 \nL 83.677564 31.254972 \nL 87.790587 28.024708 \nL 91.903609 28.48164 \nL 96.016631 36.190339 \nL 100.129653 47.383231 \nL 104.242675 58.221949 \nL 108.355697 59.638415 \nL 112.468719 56.291463 \nL 116.581741 50.407979 \nL 120.694764 58.085851 \nL 124.807786 50.009961 \nL 128.920808 52.143452 \nL 133.03383 44.22033 \nL 137.146852 42.116525 \nL 141.259874 36.761219 \nL 145.372896 39.208693 \nL 149.485918 41.763265 \nL 153.59894 50.204289 \nL 157.711963 58.181759 \nL 161.824985 65.289893 \nL 165.938007 69.487912 \nL 170.051029 71.247591 \nL 174.164051 76.810698 \nL 178.277073 80.531005 \nL 182.390095 84.201988 \nL 186.503117 85.72852 \nL 190.616139 86.308762 \nL 194.729162 91.299619 \nL 198.842184 92.788016 \nL 202.955206 98.755761 \nL 207.068228 98.979546 \nL 211.18125 96.161228 \nL 215.294272 90.913704 \nL 219.407294 87.710157 \nL 223.520316 90.436906 \nL 227.633338 92.358029 \nL 231.746361 96.710186 \nL 235.859383 101.431131 \nL 239.972405 101.385461 \nL 244.085427 105.598323 \nL 248.198449 105.756571 \nL 252.311471 108.835438 \nL 256.424493 114.330039 \nL 260.537515 120.335919 \nL 264.650537 126.133086 \nL 268.76356 132.677648 \nL 272.876582 140.053183 \nL 276.989604 147.870121 \nL 281.102626 153.584625 \nL 285.215648 162.61708 \nL 289.32867 172.187075 \nL 293.441692 179.453229 \nL 297.554714 193.24248 \nL 301.667736 200.391718 \nL 305.780759 208.988935 \nL 309.893781 212.735046 \nL 314.006803 210.234365 \nL 318.119825 212.742125 \nL 322.232847 217.556922 \nL 326.345869 216.312862 \nL 330.458891 218.256364 \nL 334.571913 212.605114 \nL 338.684936 206.511089 \nL 342.797958 199.449995 \nL 346.91098 186.724178 \nL 351.024002 175.15816 \nL 355.137024 158.274971 \nL 359.250046 137.897999 \nL 363.363068 101.468352 \n\" style=\"fill:none;stroke:#1f77b4;stroke-linecap:square;stroke-width:1.5;\"/>\n   </g>\n   <g id=\"patch_3\">\n    <path d=\"M 43.78125 228.14 \nL 43.78125 10.7 \n\" style=\"fill:none;stroke:#000000;stroke-linecap:square;stroke-linejoin:miter;stroke-width:0.8;\"/>\n   </g>\n   <g id=\"patch_4\">\n    <path d=\"M 378.58125 228.14 \nL 378.58125 10.7 \n\" style=\"fill:none;stroke:#000000;stroke-linecap:square;stroke-linejoin:miter;stroke-width:0.8;\"/>\n   </g>\n   <g id=\"patch_5\">\n    <path d=\"M 43.78125 228.14 \nL 378.58125 228.14 \n\" style=\"fill:none;stroke:#000000;stroke-linecap:square;stroke-linejoin:miter;stroke-width:0.8;\"/>\n   </g>\n   <g id=\"patch_6\">\n    <path d=\"M 43.78125 10.7 \nL 378.58125 10.7 \n\" style=\"fill:none;stroke:#000000;stroke-linecap:square;stroke-linejoin:miter;stroke-width:0.8;\"/>\n   </g>\n  </g>\n </g>\n <defs>\n  <clipPath id=\"p8e364332ad\">\n   <rect height=\"217.44\" width=\"334.8\" x=\"43.78125\" y=\"10.7\"/>\n  </clipPath>\n </defs>\n</svg>\n",
      "text/plain": "<Figure size 432x288 with 1 Axes>"
     },
     "metadata": {
      "needs_background": "light"
     },
     "output_type": "display_data"
    }
   ],
   "source": [
    "learn.recorder.plot(skip_end=15)"
   ]
  },
  {
   "cell_type": "code",
   "execution_count": 23,
   "metadata": {},
   "outputs": [
    {
     "data": {
      "text/html": "Total time: 03:07 <p><table border=\"1\" class=\"dataframe\">\n  <thead>\n    <tr style=\"text-align: left;\">\n      <th>epoch</th>\n      <th>train_loss</th>\n      <th>valid_loss</th>\n      <th>accuracy</th>\n      <th>time</th>\n    </tr>\n  </thead>\n  <tbody>\n    <tr>\n      <td>0</td>\n      <td>3.152664</td>\n      <td>2.802306</td>\n      <td>0.477986</td>\n      <td>01:33</td>\n    </tr>\n    <tr>\n      <td>1</td>\n      <td>2.470355</td>\n      <td>2.585152</td>\n      <td>0.511546</td>\n      <td>01:34</td>\n    </tr>\n  </tbody>\n</table>",
      "text/plain": "<IPython.core.display.HTML object>"
     },
     "metadata": {},
     "output_type": "display_data"
    }
   ],
   "source": [
    "learn.fit_one_cycle(2, 1e-2)"
   ]
  },
  {
   "cell_type": "code",
   "execution_count": 24,
   "metadata": {},
   "outputs": [],
   "source": [
    "learn.save('fit_head')"
   ]
  },
  {
   "cell_type": "code",
   "execution_count": 25,
   "metadata": {},
   "outputs": [],
   "source": [
    "learn.load('fit_head');"
   ]
  },
  {
   "cell_type": "markdown",
   "execution_count": null,
   "metadata": {},
   "outputs": [],
   "source": [
    "To complete the fine-tuning, we can then unfeeze and launch a new training."
   ]
  },
  {
   "cell_type": "code",
   "execution_count": 26,
   "metadata": {},
   "outputs": [],
   "source": [
    "learn.unfreeze()"
   ]
  },
  {
   "cell_type": "code",
   "execution_count": 27,
   "metadata": {},
   "outputs": [
    {
     "data": {
      "text/html": "Total time: 10:04 <p><table border=\"1\" class=\"dataframe\">\n  <thead>\n    <tr style=\"text-align: left;\">\n      <th>epoch</th>\n      <th>train_loss</th>\n      <th>valid_loss</th>\n      <th>accuracy</th>\n      <th>time</th>\n    </tr>\n  </thead>\n  <tbody>\n    <tr>\n      <td>0</td>\n      <td>2.225122</td>\n      <td>2.485965</td>\n      <td>0.529233</td>\n      <td>01:55</td>\n    </tr>\n    <tr>\n      <td>1</td>\n      <td>1.844594</td>\n      <td>2.328868</td>\n      <td>0.560752</td>\n      <td>01:54</td>\n    </tr>\n    <tr>\n      <td>2</td>\n      <td>1.597974</td>\n      <td>2.242075</td>\n      <td>0.586206</td>\n      <td>02:01</td>\n    </tr>\n    <tr>\n      <td>3</td>\n      <td>1.132154</td>\n      <td>2.190568</td>\n      <td>0.612377</td>\n      <td>02:06</td>\n    </tr>\n    <tr>\n      <td>4</td>\n      <td>0.795386</td>\n      <td>2.214958</td>\n      <td>0.616223</td>\n      <td>02:06</td>\n    </tr>\n  </tbody>\n</table>",
      "text/plain": "<IPython.core.display.HTML object>"
     },
     "metadata": {},
     "output_type": "display_data"
    }
   ],
   "source": [
    "learn.fit_one_cycle(5, 1e-3)"
   ]
  },
  {
   "cell_type": "code",
   "execution_count": 28,
   "metadata": {},
   "outputs": [],
   "source": [
    "learn.save('fine_tuned')"
   ]
  },
  {
   "cell_type": "markdown",
   "execution_count": null,
   "metadata": {},
   "outputs": [],
   "source": [
    "How good is our model? Well let's try to see what it predicts after a few given words."
   ]
  },
  {
   "cell_type": "code",
   "execution_count": 29,
   "metadata": {},
   "outputs": [],
   "source": [
    "learn.load('fine_tuned');"
   ]
  },
  {
   "cell_type": "code",
   "execution_count": 30,
   "metadata": {},
   "outputs": [],
   "source": [
    "TEXT = \"animal is our friend \"\n",
    "N_WORDS = 40\n",
    "N_SENTENCES = 2"
   ]
  },
  {
   "cell_type": "code",
   "execution_count": 31,
   "metadata": {},
   "outputs": [
    {
     "name": "stdout",
     "output_type": "stream",
     "text": "animal is our friend  who may be interested in a job with the Enron Corporation . He is an Analyst and Associate . Steven J. Kean , President and CEO of the Analyst\nanimal is our friend  who is interested in a job with Enron . He is an WATKISS highly senior and has published about every economists around us . My friend , Bill Moore , is a former\n"
    }
   ],
   "source": [
    "print(\"\\n\".join(learn.predict(TEXT, N_WORDS, temperature=0.75) for _ in range(N_SENTENCES)))"
   ]
  },
  {
   "cell_type": "markdown",
   "execution_count": null,
   "metadata": {},
   "outputs": [],
   "source": [
    "We have to save not only the model, but also its encoder, the part that's responsible for creating and updating the hidden state. For the next part, we don't care about the part that tries to guess the next word."
   ]
  },
  {
   "cell_type": "code",
   "execution_count": 32,
   "metadata": {},
   "outputs": [],
   "source": [
    "learn.save_encoder('fine_tuned_enc')"
   ]
  },
  {
   "cell_type": "markdown",
   "execution_count": null,
   "metadata": {},
   "outputs": [],
   "source": [
    "## Classifier"
   ]
  },
  {
   "cell_type": "markdown",
   "execution_count": null,
   "metadata": {},
   "outputs": [],
   "source": [
    "Now, we'll create a new data object that only grabs the labelled data and keeps those labels. Again, this line takes a bit of time."
   ]
  },
  {
   "cell_type": "markdown",
   "execution_count": null,
   "metadata": {},
   "outputs": [],
   "source": [
    "#### Need to modified the labels"
   ]
  },
  {
   "cell_type": "code",
   "execution_count": 33,
   "metadata": {},
   "outputs": [],
   "source": [
    "df_tmp = pd.read_csv(path.joinpath('texts.csv'))"
   ]
  },
  {
   "cell_type": "code",
   "execution_count": 34,
   "metadata": {},
   "outputs": [],
   "source": [
    "#lbl = \"['1_1', '1_2', '1_3', '1_4', '1_5', '1_6', '1_7', '1_8']\"\n",
    "def castStr2List(lbl_str):\n",
    "    return ([w.replace(\"'\",'').replace(\"[\",'').replace(\"]\",\"\").replace(\" \",\"\") for w in lbl_str.split(\",\")])\n",
    "\n",
    "# get the set of department used in the samples\n",
    "def findDistinctList(label):\n",
    "    li = []\n",
    "    for e in label:\n",
    "        li = li + list(set(castStr2List(e)))\n",
    "    df_li = DataFrame()\n",
    "    df_li['dept'] = li\n",
    "\n",
    "    return(df_li.groupby(['dept']).size().reset_index(name='counts'))\n",
    "    \n",
    "df_lbl_unique = findDistinctList(df_tmp.label)\n",
    "df_lbl_unique = df_lbl_unique[df_lbl_unique.counts > 10]\n",
    "lbl_unique = list(df_lbl_unique['dept'])\n",
    ""
   ]
  },
  {
   "cell_type": "code",
   "execution_count": 35,
   "metadata": {},
   "outputs": [
    {
     "data": {
      "text/plain": "6"
     },
     "execution_count": 35,
     "metadata": {},
     "output_type": "execute_result"
    }
   ],
   "source": [
    "len(lbl_unique)"
   ]
  },
  {
   "cell_type": "code",
   "execution_count": 36,
   "metadata": {},
   "outputs": [
    {
     "data": {
      "text/html": "<div>\n<style scoped>\n    .dataframe tbody tr th:only-of-type {\n        vertical-align: middle;\n    }\n\n    .dataframe tbody tr th {\n        vertical-align: top;\n    }\n\n    .dataframe thead th {\n        text-align: right;\n    }\n</style>\n<table border=\"1\" class=\"dataframe\">\n  <thead>\n    <tr style=\"text-align: right;\">\n      <th></th>\n      <th>1_1</th>\n      <th>1_2</th>\n      <th>1_4</th>\n      <th>1_5</th>\n      <th>1_6</th>\n      <th>1_7</th>\n    </tr>\n  </thead>\n  <tbody>\n    <tr>\n      <th>0</th>\n      <td>1</td>\n      <td>0</td>\n      <td>0</td>\n      <td>0</td>\n      <td>0</td>\n      <td>0</td>\n    </tr>\n    <tr>\n      <th>1</th>\n      <td>1</td>\n      <td>0</td>\n      <td>0</td>\n      <td>0</td>\n      <td>0</td>\n      <td>0</td>\n    </tr>\n    <tr>\n      <th>2</th>\n      <td>1</td>\n      <td>0</td>\n      <td>0</td>\n      <td>0</td>\n      <td>0</td>\n      <td>0</td>\n    </tr>\n    <tr>\n      <th>3</th>\n      <td>1</td>\n      <td>0</td>\n      <td>0</td>\n      <td>0</td>\n      <td>0</td>\n      <td>0</td>\n    </tr>\n    <tr>\n      <th>4</th>\n      <td>1</td>\n      <td>0</td>\n      <td>0</td>\n      <td>0</td>\n      <td>0</td>\n      <td>0</td>\n    </tr>\n  </tbody>\n</table>\n</div>",
      "text/plain": "   1_1  1_2  1_4  1_5  1_6  1_7\n0    1    0    0    0    0    0\n1    1    0    0    0    0    0\n2    1    0    0    0    0    0\n3    1    0    0    0    0    0\n4    1    0    0    0    0    0"
     },
     "execution_count": 36,
     "metadata": {},
     "output_type": "execute_result"
    }
   ],
   "source": [
    "rows = np.array([])\n",
    "cols = np.array([])\n",
    "\n",
    "for e in df_tmp.label:        \n",
    "    li = castStr2List(e)\n",
    "    cols = []\n",
    "    for ee in lbl_unique:\n",
    "        if ee in li:\n",
    "            cols = cols + [1]\n",
    "        else:\n",
    "            cols = cols + [0]\n",
    "    if len(rows) == 0:\n",
    "        rows = [cols]\n",
    "    else:\n",
    "        rows = np.vstack([rows,cols])\n",
    "\n",
    "df_labels = pd.DataFrame(rows)\n",
    "df_labels.columns = lbl_unique\n",
    "df_labels.head(5)"
   ]
  },
  {
   "cell_type": "code",
   "execution_count": 37,
   "metadata": {},
   "outputs": [
    {
     "data": {
      "text/html": "<div>\n<style scoped>\n    .dataframe tbody tr th:only-of-type {\n        vertical-align: middle;\n    }\n\n    .dataframe tbody tr th {\n        vertical-align: top;\n    }\n\n    .dataframe thead th {\n        text-align: right;\n    }\n</style>\n<table border=\"1\" class=\"dataframe\">\n  <thead>\n    <tr style=\"text-align: right;\">\n      <th></th>\n      <th>1_1</th>\n      <th>1_2</th>\n      <th>1_4</th>\n      <th>1_5</th>\n      <th>1_6</th>\n      <th>1_7</th>\n    </tr>\n  </thead>\n  <tbody>\n    <tr>\n      <th>0</th>\n      <td>1</td>\n      <td>0</td>\n      <td>0</td>\n      <td>0</td>\n      <td>0</td>\n      <td>0</td>\n    </tr>\n    <tr>\n      <th>1</th>\n      <td>1</td>\n      <td>0</td>\n      <td>0</td>\n      <td>0</td>\n      <td>0</td>\n      <td>0</td>\n    </tr>\n    <tr>\n      <th>2</th>\n      <td>1</td>\n      <td>0</td>\n      <td>0</td>\n      <td>0</td>\n      <td>0</td>\n      <td>0</td>\n    </tr>\n    <tr>\n      <th>3</th>\n      <td>1</td>\n      <td>0</td>\n      <td>0</td>\n      <td>0</td>\n      <td>0</td>\n      <td>0</td>\n    </tr>\n    <tr>\n      <th>4</th>\n      <td>1</td>\n      <td>0</td>\n      <td>0</td>\n      <td>0</td>\n      <td>0</td>\n      <td>0</td>\n    </tr>\n    <tr>\n      <th>5</th>\n      <td>0</td>\n      <td>1</td>\n      <td>0</td>\n      <td>0</td>\n      <td>0</td>\n      <td>0</td>\n    </tr>\n    <tr>\n      <th>6</th>\n      <td>0</td>\n      <td>0</td>\n      <td>1</td>\n      <td>0</td>\n      <td>0</td>\n      <td>0</td>\n    </tr>\n    <tr>\n      <th>7</th>\n      <td>1</td>\n      <td>0</td>\n      <td>0</td>\n      <td>0</td>\n      <td>0</td>\n      <td>0</td>\n    </tr>\n    <tr>\n      <th>8</th>\n      <td>0</td>\n      <td>0</td>\n      <td>1</td>\n      <td>0</td>\n      <td>0</td>\n      <td>0</td>\n    </tr>\n    <tr>\n      <th>9</th>\n      <td>0</td>\n      <td>0</td>\n      <td>1</td>\n      <td>0</td>\n      <td>0</td>\n      <td>0</td>\n    </tr>\n    <tr>\n      <th>10</th>\n      <td>1</td>\n      <td>1</td>\n      <td>1</td>\n      <td>0</td>\n      <td>0</td>\n      <td>0</td>\n    </tr>\n    <tr>\n      <th>11</th>\n      <td>1</td>\n      <td>0</td>\n      <td>0</td>\n      <td>0</td>\n      <td>0</td>\n      <td>0</td>\n    </tr>\n    <tr>\n      <th>12</th>\n      <td>0</td>\n      <td>0</td>\n      <td>1</td>\n      <td>0</td>\n      <td>0</td>\n      <td>0</td>\n    </tr>\n    <tr>\n      <th>13</th>\n      <td>0</td>\n      <td>0</td>\n      <td>1</td>\n      <td>0</td>\n      <td>0</td>\n      <td>0</td>\n    </tr>\n    <tr>\n      <th>14</th>\n      <td>1</td>\n      <td>0</td>\n      <td>0</td>\n      <td>0</td>\n      <td>0</td>\n      <td>0</td>\n    </tr>\n    <tr>\n      <th>15</th>\n      <td>0</td>\n      <td>0</td>\n      <td>0</td>\n      <td>0</td>\n      <td>1</td>\n      <td>0</td>\n    </tr>\n    <tr>\n      <th>16</th>\n      <td>0</td>\n      <td>0</td>\n      <td>1</td>\n      <td>0</td>\n      <td>0</td>\n      <td>0</td>\n    </tr>\n    <tr>\n      <th>17</th>\n      <td>1</td>\n      <td>0</td>\n      <td>0</td>\n      <td>0</td>\n      <td>0</td>\n      <td>0</td>\n    </tr>\n    <tr>\n      <th>18</th>\n      <td>0</td>\n      <td>0</td>\n      <td>0</td>\n      <td>0</td>\n      <td>1</td>\n      <td>0</td>\n    </tr>\n    <tr>\n      <th>19</th>\n      <td>1</td>\n      <td>0</td>\n      <td>0</td>\n      <td>0</td>\n      <td>0</td>\n      <td>0</td>\n    </tr>\n    <tr>\n      <th>20</th>\n      <td>0</td>\n      <td>0</td>\n      <td>0</td>\n      <td>1</td>\n      <td>0</td>\n      <td>0</td>\n    </tr>\n    <tr>\n      <th>21</th>\n      <td>0</td>\n      <td>0</td>\n      <td>1</td>\n      <td>0</td>\n      <td>0</td>\n      <td>0</td>\n    </tr>\n    <tr>\n      <th>22</th>\n      <td>1</td>\n      <td>0</td>\n      <td>0</td>\n      <td>0</td>\n      <td>0</td>\n      <td>0</td>\n    </tr>\n    <tr>\n      <th>23</th>\n      <td>1</td>\n      <td>0</td>\n      <td>1</td>\n      <td>0</td>\n      <td>0</td>\n      <td>0</td>\n    </tr>\n    <tr>\n      <th>24</th>\n      <td>1</td>\n      <td>0</td>\n      <td>0</td>\n      <td>0</td>\n      <td>0</td>\n      <td>0</td>\n    </tr>\n  </tbody>\n</table>\n</div>",
      "text/plain": "    1_1  1_2  1_4  1_5  1_6  1_7\n0     1    0    0    0    0    0\n1     1    0    0    0    0    0\n2     1    0    0    0    0    0\n3     1    0    0    0    0    0\n4     1    0    0    0    0    0\n5     0    1    0    0    0    0\n6     0    0    1    0    0    0\n7     1    0    0    0    0    0\n8     0    0    1    0    0    0\n9     0    0    1    0    0    0\n10    1    1    1    0    0    0\n11    1    0    0    0    0    0\n12    0    0    1    0    0    0\n13    0    0    1    0    0    0\n14    1    0    0    0    0    0\n15    0    0    0    0    1    0\n16    0    0    1    0    0    0\n17    1    0    0    0    0    0\n18    0    0    0    0    1    0\n19    1    0    0    0    0    0\n20    0    0    0    1    0    0\n21    0    0    1    0    0    0\n22    1    0    0    0    0    0\n23    1    0    1    0    0    0\n24    1    0    0    0    0    0"
     },
     "execution_count": 37,
     "metadata": {},
     "output_type": "execute_result"
    }
   ],
   "source": [
    "sum(df_labels['1_1'])\n",
    "df_labels.head(25)"
   ]
  },
  {
   "cell_type": "code",
   "execution_count": 38,
   "metadata": {},
   "outputs": [
    {
     "data": {
      "text/plain": "\" Re: Confidential - Don Black  I'm fine with it. m\""
     },
     "execution_count": 38,
     "metadata": {},
     "output_type": "execute_result"
    }
   ],
   "source": [
    "df_out = pd.merge(df_tmp, df_labels, left_index=True, right_index=True)\n",
    "df_out.text.iloc[22]\n",
    ""
   ]
  },
  {
   "cell_type": "code",
   "execution_count": 39,
   "metadata": {},
   "outputs": [
    {
     "data": {
      "text/html": "<div>\n<style scoped>\n    .dataframe tbody tr th:only-of-type {\n        vertical-align: middle;\n    }\n\n    .dataframe tbody tr th {\n        vertical-align: top;\n    }\n\n    .dataframe thead th {\n        text-align: right;\n    }\n</style>\n<table border=\"1\" class=\"dataframe\">\n  <thead>\n    <tr style=\"text-align: right;\">\n      <th></th>\n      <th>label</th>\n      <th>text</th>\n      <th>filename</th>\n      <th>is_valid</th>\n      <th>1_1</th>\n      <th>1_2</th>\n      <th>1_4</th>\n      <th>1_5</th>\n      <th>1_6</th>\n      <th>1_7</th>\n    </tr>\n  </thead>\n  <tbody>\n    <tr>\n      <th>0</th>\n      <td>['1_1']</td>\n      <td>RE: IHI Arbitration: PRIVILEGED AND CONFIDENT...</td>\n      <td>NaN</td>\n      <td>False</td>\n      <td>1</td>\n      <td>0</td>\n      <td>0</td>\n      <td>0</td>\n      <td>0</td>\n      <td>0</td>\n    </tr>\n    <tr>\n      <th>1</th>\n      <td>['1_1']</td>\n      <td>FW: Sempra et al. v. ENA et al. PRIVILEGED AN...</td>\n      <td>NaN</td>\n      <td>False</td>\n      <td>1</td>\n      <td>0</td>\n      <td>0</td>\n      <td>0</td>\n      <td>0</td>\n      <td>0</td>\n    </tr>\n    <tr>\n      <th>2</th>\n      <td>['1_1']</td>\n      <td>California Power Crisis Update (No. 10)  We h...</td>\n      <td>NaN</td>\n      <td>False</td>\n      <td>1</td>\n      <td>0</td>\n      <td>0</td>\n      <td>0</td>\n      <td>0</td>\n      <td>0</td>\n    </tr>\n    <tr>\n      <th>3</th>\n      <td>['1_1']</td>\n      <td>Re: Data responses in SDG&amp;E -- confidential t...</td>\n      <td>NaN</td>\n      <td>False</td>\n      <td>1</td>\n      <td>0</td>\n      <td>0</td>\n      <td>0</td>\n      <td>0</td>\n      <td>0</td>\n    </tr>\n    <tr>\n      <th>4</th>\n      <td>['1_1']</td>\n      <td>Re: Privileged and Confidential Communication...</td>\n      <td>NaN</td>\n      <td>True</td>\n      <td>1</td>\n      <td>0</td>\n      <td>0</td>\n      <td>0</td>\n      <td>0</td>\n      <td>0</td>\n    </tr>\n    <tr>\n      <th>5</th>\n      <td>['1_2']</td>\n      <td>slashing price caps  Hey -- you're talking ab...</td>\n      <td>NaN</td>\n      <td>True</td>\n      <td>0</td>\n      <td>1</td>\n      <td>0</td>\n      <td>0</td>\n      <td>0</td>\n      <td>0</td>\n    </tr>\n    <tr>\n      <th>6</th>\n      <td>['1_4']</td>\n      <td>How about lunch?  A typical utility luncheon....</td>\n      <td>NaN</td>\n      <td>False</td>\n      <td>0</td>\n      <td>0</td>\n      <td>1</td>\n      <td>0</td>\n      <td>0</td>\n      <td>0</td>\n    </tr>\n    <tr>\n      <th>7</th>\n      <td>['1_1']</td>\n      <td>Energy Issues  Please see the following artic...</td>\n      <td>NaN</td>\n      <td>False</td>\n      <td>1</td>\n      <td>0</td>\n      <td>0</td>\n      <td>0</td>\n      <td>0</td>\n      <td>0</td>\n    </tr>\n    <tr>\n      <th>8</th>\n      <td>['1_4']</td>\n      <td>Depart 1:05/Arrive 2:41  Meet with Commissio...</td>\n      <td>NaN</td>\n      <td>False</td>\n      <td>0</td>\n      <td>0</td>\n      <td>1</td>\n      <td>0</td>\n      <td>0</td>\n      <td>0</td>\n    </tr>\n    <tr>\n      <th>9</th>\n      <td>['1_4']</td>\n      <td>Regulatory Roundtable, in 49C2  KRTH? 9:10 -...</td>\n      <td>NaN</td>\n      <td>False</td>\n      <td>0</td>\n      <td>0</td>\n      <td>1</td>\n      <td>0</td>\n      <td>0</td>\n      <td>0</td>\n    </tr>\n    <tr>\n      <th>10</th>\n      <td>['1_2', '1_1', '1_4']</td>\n      <td>RE:  Aruna, I shall be in London this week. P...</td>\n      <td>NaN</td>\n      <td>False</td>\n      <td>1</td>\n      <td>1</td>\n      <td>1</td>\n      <td>0</td>\n      <td>0</td>\n      <td>0</td>\n    </tr>\n    <tr>\n      <th>11</th>\n      <td>['1_1']</td>\n      <td>Re: Interview Request  Thanks for the referra...</td>\n      <td>NaN</td>\n      <td>False</td>\n      <td>1</td>\n      <td>0</td>\n      <td>0</td>\n      <td>0</td>\n      <td>0</td>\n      <td>0</td>\n    </tr>\n    <tr>\n      <th>12</th>\n      <td>['1_4']</td>\n      <td>Re: Monday's follow-up meeting on cost contro...</td>\n      <td>NaN</td>\n      <td>False</td>\n      <td>0</td>\n      <td>0</td>\n      <td>1</td>\n      <td>0</td>\n      <td>0</td>\n      <td>0</td>\n    </tr>\n    <tr>\n      <th>13</th>\n      <td>['1_4']</td>\n      <td>Conference Call to discuss E-Trans Roll-Out  ...</td>\n      <td>NaN</td>\n      <td>True</td>\n      <td>0</td>\n      <td>0</td>\n      <td>1</td>\n      <td>0</td>\n      <td>0</td>\n      <td>0</td>\n    </tr>\n    <tr>\n      <th>14</th>\n      <td>['1_1']</td>\n      <td>Observations on the Hearings this Week  We're...</td>\n      <td>NaN</td>\n      <td>False</td>\n      <td>1</td>\n      <td>0</td>\n      <td>0</td>\n      <td>0</td>\n      <td>0</td>\n      <td>0</td>\n    </tr>\n    <tr>\n      <th>15</th>\n      <td>['1_6']</td>\n      <td>Re:  I would just say Jeff is pres and ceo, n...</td>\n      <td>NaN</td>\n      <td>False</td>\n      <td>0</td>\n      <td>0</td>\n      <td>0</td>\n      <td>0</td>\n      <td>1</td>\n      <td>0</td>\n    </tr>\n    <tr>\n      <th>16</th>\n      <td>['1_4']</td>\n      <td>Re: EBR - Public Affairs - Nov. 6  I may need...</td>\n      <td>NaN</td>\n      <td>False</td>\n      <td>0</td>\n      <td>0</td>\n      <td>1</td>\n      <td>0</td>\n      <td>0</td>\n      <td>0</td>\n    </tr>\n    <tr>\n      <th>17</th>\n      <td>['1_1']</td>\n      <td>Confidential Information and Securities Tradi...</td>\n      <td>NaN</td>\n      <td>False</td>\n      <td>1</td>\n      <td>0</td>\n      <td>0</td>\n      <td>0</td>\n      <td>0</td>\n      <td>0</td>\n    </tr>\n    <tr>\n      <th>18</th>\n      <td>['1_6']</td>\n      <td>Re: Job Description  I do too, but I think yo...</td>\n      <td>NaN</td>\n      <td>False</td>\n      <td>0</td>\n      <td>0</td>\n      <td>0</td>\n      <td>0</td>\n      <td>1</td>\n      <td>0</td>\n    </tr>\n    <tr>\n      <th>19</th>\n      <td>['1_1']</td>\n      <td>You probably saw the announcement that Mike...</td>\n      <td>NaN</td>\n      <td>False</td>\n      <td>1</td>\n      <td>0</td>\n      <td>0</td>\n      <td>0</td>\n      <td>0</td>\n      <td>0</td>\n    </tr>\n    <tr>\n      <th>20</th>\n      <td>['1_5']</td>\n      <td>COMPENSATION  could you look into this for me...</td>\n      <td>NaN</td>\n      <td>False</td>\n      <td>0</td>\n      <td>0</td>\n      <td>0</td>\n      <td>1</td>\n      <td>0</td>\n      <td>0</td>\n    </tr>\n    <tr>\n      <th>21</th>\n      <td>['1_4']</td>\n      <td>&lt;&lt;Concur Expense Document&gt;&gt; - JS5/8/2001  ---...</td>\n      <td>NaN</td>\n      <td>False</td>\n      <td>0</td>\n      <td>0</td>\n      <td>1</td>\n      <td>0</td>\n      <td>0</td>\n      <td>0</td>\n    </tr>\n    <tr>\n      <th>22</th>\n      <td>['1_1']</td>\n      <td>Re: Confidential - Don Black  I'm fine with i...</td>\n      <td>NaN</td>\n      <td>False</td>\n      <td>1</td>\n      <td>0</td>\n      <td>0</td>\n      <td>0</td>\n      <td>0</td>\n      <td>0</td>\n    </tr>\n    <tr>\n      <th>23</th>\n      <td>['1_1', '1_4']</td>\n      <td>Message Points on Higher Gas Prices  Please p...</td>\n      <td>NaN</td>\n      <td>False</td>\n      <td>1</td>\n      <td>0</td>\n      <td>1</td>\n      <td>0</td>\n      <td>0</td>\n      <td>0</td>\n    </tr>\n    <tr>\n      <th>24</th>\n      <td>['1_1']</td>\n      <td>Demand buy-down proposal  The e-copy. -------...</td>\n      <td>NaN</td>\n      <td>False</td>\n      <td>1</td>\n      <td>0</td>\n      <td>0</td>\n      <td>0</td>\n      <td>0</td>\n      <td>0</td>\n    </tr>\n    <tr>\n      <th>25</th>\n      <td>['1_2']</td>\n      <td>Confidential (sic)...chew immediately after r...</td>\n      <td>NaN</td>\n      <td>False</td>\n      <td>0</td>\n      <td>1</td>\n      <td>0</td>\n      <td>0</td>\n      <td>0</td>\n      <td>0</td>\n    </tr>\n    <tr>\n      <th>26</th>\n      <td>['1_5']</td>\n      <td>Re:  Frank, I am definitely interested in the...</td>\n      <td>NaN</td>\n      <td>False</td>\n      <td>0</td>\n      <td>0</td>\n      <td>0</td>\n      <td>1</td>\n      <td>0</td>\n      <td>0</td>\n    </tr>\n    <tr>\n      <th>27</th>\n      <td>['1_1']</td>\n      <td>Re: PLEASE READ &amp; RESPOND  Yes. Contact eithe...</td>\n      <td>NaN</td>\n      <td>False</td>\n      <td>1</td>\n      <td>0</td>\n      <td>0</td>\n      <td>0</td>\n      <td>0</td>\n      <td>0</td>\n    </tr>\n    <tr>\n      <th>28</th>\n      <td>['1_2']</td>\n      <td>Alberta PPA  ditto -- nice work Rob. Your ins...</td>\n      <td>NaN</td>\n      <td>True</td>\n      <td>0</td>\n      <td>1</td>\n      <td>0</td>\n      <td>0</td>\n      <td>0</td>\n      <td>0</td>\n    </tr>\n    <tr>\n      <th>29</th>\n      <td>['1_6']</td>\n      <td>Short Biography for Highlands Forum XVII Meet...</td>\n      <td>NaN</td>\n      <td>False</td>\n      <td>0</td>\n      <td>0</td>\n      <td>0</td>\n      <td>0</td>\n      <td>1</td>\n      <td>0</td>\n    </tr>\n    <tr>\n      <th>...</th>\n      <td>...</td>\n      <td>...</td>\n      <td>...</td>\n      <td>...</td>\n      <td>...</td>\n      <td>...</td>\n      <td>...</td>\n      <td>...</td>\n      <td>...</td>\n      <td>...</td>\n    </tr>\n    <tr>\n      <th>1663</th>\n      <td>['1_2', '1_4']</td>\n      <td>FW: SMS conference  Shirley, I shall pay for ...</td>\n      <td>NaN</td>\n      <td>False</td>\n      <td>0</td>\n      <td>1</td>\n      <td>1</td>\n      <td>0</td>\n      <td>0</td>\n      <td>0</td>\n    </tr>\n    <tr>\n      <th>1664</th>\n      <td>['1_4']</td>\n      <td>RE: Thu evening  Thanks. Confirmed. Vince ---...</td>\n      <td>NaN</td>\n      <td>False</td>\n      <td>0</td>\n      <td>0</td>\n      <td>1</td>\n      <td>0</td>\n      <td>0</td>\n      <td>0</td>\n    </tr>\n    <tr>\n      <th>1665</th>\n      <td>['1_4']</td>\n      <td>Andy Fastow  Response to Tarpey on Schnitzer...</td>\n      <td>NaN</td>\n      <td>True</td>\n      <td>0</td>\n      <td>0</td>\n      <td>1</td>\n      <td>0</td>\n      <td>0</td>\n      <td>0</td>\n    </tr>\n    <tr>\n      <th>1666</th>\n      <td>['1_1']</td>\n      <td>Re: Confidential --CFTC Chair  Hi Steve, Folk...</td>\n      <td>NaN</td>\n      <td>False</td>\n      <td>1</td>\n      <td>0</td>\n      <td>0</td>\n      <td>0</td>\n      <td>0</td>\n      <td>0</td>\n    </tr>\n    <tr>\n      <th>1667</th>\n      <td>['1_4']</td>\n      <td>&lt;&lt;Concur Expense Document&gt;&gt; - AMEX - 02/02/01...</td>\n      <td>NaN</td>\n      <td>True</td>\n      <td>0</td>\n      <td>0</td>\n      <td>1</td>\n      <td>0</td>\n      <td>0</td>\n      <td>0</td>\n    </tr>\n    <tr>\n      <th>1668</th>\n      <td>['1_1']</td>\n      <td>Re: Daily Research reports  I would like to s...</td>\n      <td>NaN</td>\n      <td>False</td>\n      <td>1</td>\n      <td>0</td>\n      <td>0</td>\n      <td>0</td>\n      <td>0</td>\n      <td>0</td>\n    </tr>\n    <tr>\n      <th>1669</th>\n      <td>['1_1']</td>\n      <td>RED Index shows Texas, NY, and Maine advance ...</td>\n      <td>NaN</td>\n      <td>False</td>\n      <td>1</td>\n      <td>0</td>\n      <td>0</td>\n      <td>0</td>\n      <td>0</td>\n      <td>0</td>\n    </tr>\n    <tr>\n      <th>1670</th>\n      <td>['1_1']</td>\n      <td>Enron Advertising  do we have a mechanism to ...</td>\n      <td>NaN</td>\n      <td>False</td>\n      <td>1</td>\n      <td>0</td>\n      <td>0</td>\n      <td>0</td>\n      <td>0</td>\n      <td>0</td>\n    </tr>\n    <tr>\n      <th>1671</th>\n      <td>['1_6']</td>\n      <td>Re: Price Cap Media--DRAFT  I agree that we n...</td>\n      <td>NaN</td>\n      <td>False</td>\n      <td>0</td>\n      <td>0</td>\n      <td>0</td>\n      <td>0</td>\n      <td>1</td>\n      <td>0</td>\n    </tr>\n    <tr>\n      <th>1672</th>\n      <td>['1_1']</td>\n      <td>Re: Hendricks  I think we should let people i...</td>\n      <td>NaN</td>\n      <td>False</td>\n      <td>1</td>\n      <td>0</td>\n      <td>0</td>\n      <td>0</td>\n      <td>0</td>\n      <td>0</td>\n    </tr>\n    <tr>\n      <th>1673</th>\n      <td>['1_4']</td>\n      <td>RE: Dates for Emerson Meeting  I'm suggesting...</td>\n      <td>NaN</td>\n      <td>True</td>\n      <td>0</td>\n      <td>0</td>\n      <td>1</td>\n      <td>0</td>\n      <td>0</td>\n      <td>0</td>\n    </tr>\n    <tr>\n      <th>1674</th>\n      <td>['1_6']</td>\n      <td>Re: Political Contributions  Please add Linda...</td>\n      <td>NaN</td>\n      <td>False</td>\n      <td>0</td>\n      <td>0</td>\n      <td>0</td>\n      <td>0</td>\n      <td>1</td>\n      <td>0</td>\n    </tr>\n    <tr>\n      <th>1675</th>\n      <td>['1_2', '1_4']</td>\n      <td>RE: Moving foward at a good clip  Call at 5:0...</td>\n      <td>NaN</td>\n      <td>True</td>\n      <td>0</td>\n      <td>1</td>\n      <td>1</td>\n      <td>0</td>\n      <td>0</td>\n      <td>0</td>\n    </tr>\n    <tr>\n      <th>1676</th>\n      <td>['1_1']</td>\n      <td>FW: Confidential Contact data and RFI  Update...</td>\n      <td>NaN</td>\n      <td>False</td>\n      <td>1</td>\n      <td>0</td>\n      <td>0</td>\n      <td>0</td>\n      <td>0</td>\n      <td>0</td>\n    </tr>\n    <tr>\n      <th>1677</th>\n      <td>['1_1']</td>\n      <td>Reliability and Security Arguments (RTOs)  Th...</td>\n      <td>NaN</td>\n      <td>False</td>\n      <td>1</td>\n      <td>0</td>\n      <td>0</td>\n      <td>0</td>\n      <td>0</td>\n      <td>0</td>\n    </tr>\n    <tr>\n      <th>1678</th>\n      <td>['1_1']</td>\n      <td>Fwd: Portland Consultant's Investigation Find...</td>\n      <td>NaN</td>\n      <td>False</td>\n      <td>1</td>\n      <td>0</td>\n      <td>0</td>\n      <td>0</td>\n      <td>0</td>\n      <td>0</td>\n    </tr>\n    <tr>\n      <th>1679</th>\n      <td>['1_1']</td>\n      <td>Comprehensive Solution  Fax the attached word...</td>\n      <td>NaN</td>\n      <td>False</td>\n      <td>1</td>\n      <td>0</td>\n      <td>0</td>\n      <td>0</td>\n      <td>0</td>\n      <td>0</td>\n    </tr>\n    <tr>\n      <th>1680</th>\n      <td>['1_1', '1_4']</td>\n      <td>RE: Friday?  Dale, I shall be in your part of...</td>\n      <td>NaN</td>\n      <td>False</td>\n      <td>1</td>\n      <td>0</td>\n      <td>1</td>\n      <td>0</td>\n      <td>0</td>\n      <td>0</td>\n    </tr>\n    <tr>\n      <th>1681</th>\n      <td>['1_6']</td>\n      <td>Latest Documents  ---------------------- Forw...</td>\n      <td>NaN</td>\n      <td>False</td>\n      <td>0</td>\n      <td>0</td>\n      <td>0</td>\n      <td>0</td>\n      <td>1</td>\n      <td>0</td>\n    </tr>\n    <tr>\n      <th>1682</th>\n      <td>['1_2']</td>\n      <td>A Supportive Note  Dear Mr. Lay: I'm writing ...</td>\n      <td>NaN</td>\n      <td>False</td>\n      <td>0</td>\n      <td>1</td>\n      <td>0</td>\n      <td>0</td>\n      <td>0</td>\n      <td>0</td>\n    </tr>\n    <tr>\n      <th>1683</th>\n      <td>['1_4']</td>\n      <td>Board presentations  ----- Forwarded by Steve...</td>\n      <td>NaN</td>\n      <td>False</td>\n      <td>0</td>\n      <td>0</td>\n      <td>1</td>\n      <td>0</td>\n      <td>0</td>\n      <td>0</td>\n    </tr>\n    <tr>\n      <th>1684</th>\n      <td>['1_1']</td>\n      <td>Request Confidential Information by FERC  We ...</td>\n      <td>NaN</td>\n      <td>False</td>\n      <td>1</td>\n      <td>0</td>\n      <td>0</td>\n      <td>0</td>\n      <td>0</td>\n      <td>0</td>\n    </tr>\n    <tr>\n      <th>1685</th>\n      <td>['1_1']</td>\n      <td>Re: Enron Mentions  It looks like we are play...</td>\n      <td>NaN</td>\n      <td>False</td>\n      <td>1</td>\n      <td>0</td>\n      <td>0</td>\n      <td>0</td>\n      <td>0</td>\n      <td>0</td>\n    </tr>\n    <tr>\n      <th>1686</th>\n      <td>['1_1']</td>\n      <td>Enron Mentions  See first item below ----- Fo...</td>\n      <td>NaN</td>\n      <td>False</td>\n      <td>1</td>\n      <td>0</td>\n      <td>0</td>\n      <td>0</td>\n      <td>0</td>\n      <td>0</td>\n    </tr>\n    <tr>\n      <th>1687</th>\n      <td>['1_6']</td>\n      <td>Re: Last FINAL version  Has this gone to Ken ...</td>\n      <td>NaN</td>\n      <td>False</td>\n      <td>0</td>\n      <td>0</td>\n      <td>0</td>\n      <td>0</td>\n      <td>1</td>\n      <td>0</td>\n    </tr>\n    <tr>\n      <th>1688</th>\n      <td>['1_4']</td>\n      <td>Gary von Fischer  10:45 meet with Cliff Baxter</td>\n      <td>NaN</td>\n      <td>False</td>\n      <td>0</td>\n      <td>0</td>\n      <td>1</td>\n      <td>0</td>\n      <td>0</td>\n      <td>0</td>\n    </tr>\n    <tr>\n      <th>1689</th>\n      <td>['1_1']</td>\n      <td>NXE Energy CNRS (French Agency) Confidential ...</td>\n      <td>NaN</td>\n      <td>False</td>\n      <td>1</td>\n      <td>0</td>\n      <td>0</td>\n      <td>0</td>\n      <td>0</td>\n      <td>0</td>\n    </tr>\n    <tr>\n      <th>1690</th>\n      <td>['1_6']</td>\n      <td>Re: Draft Organizational Announcement about J...</td>\n      <td>NaN</td>\n      <td>False</td>\n      <td>0</td>\n      <td>0</td>\n      <td>0</td>\n      <td>0</td>\n      <td>1</td>\n      <td>0</td>\n    </tr>\n    <tr>\n      <th>1691</th>\n      <td>['1_6']</td>\n      <td>RE: Luntz Focus Groups (1 of 4)  We don't hav...</td>\n      <td>NaN</td>\n      <td>True</td>\n      <td>0</td>\n      <td>0</td>\n      <td>0</td>\n      <td>0</td>\n      <td>1</td>\n      <td>0</td>\n    </tr>\n    <tr>\n      <th>1692</th>\n      <td>['1_2', '1_5']</td>\n      <td>RE: Schoenemann Resume  Molly, Thanks. I am i...</td>\n      <td>NaN</td>\n      <td>False</td>\n      <td>0</td>\n      <td>1</td>\n      <td>0</td>\n      <td>1</td>\n      <td>0</td>\n      <td>0</td>\n    </tr>\n  </tbody>\n</table>\n<p>1693 rows × 10 columns</p>\n</div>",
      "text/plain": "                      label  \\\n0                   ['1_1']   \n1                   ['1_1']   \n2                   ['1_1']   \n3                   ['1_1']   \n4                   ['1_1']   \n5                   ['1_2']   \n6                   ['1_4']   \n7                   ['1_1']   \n8                   ['1_4']   \n9                   ['1_4']   \n10    ['1_2', '1_1', '1_4']   \n11                  ['1_1']   \n12                  ['1_4']   \n13                  ['1_4']   \n14                  ['1_1']   \n15                  ['1_6']   \n16                  ['1_4']   \n17                  ['1_1']   \n18                  ['1_6']   \n19                  ['1_1']   \n20                  ['1_5']   \n21                  ['1_4']   \n22                  ['1_1']   \n23           ['1_1', '1_4']   \n24                  ['1_1']   \n25                  ['1_2']   \n26                  ['1_5']   \n27                  ['1_1']   \n28                  ['1_2']   \n29                  ['1_6']   \n...                     ...   \n1663         ['1_2', '1_4']   \n1664                ['1_4']   \n1665                ['1_4']   \n1666                ['1_1']   \n1667                ['1_4']   \n1668                ['1_1']   \n1669                ['1_1']   \n1670                ['1_1']   \n1671                ['1_6']   \n1672                ['1_1']   \n1673                ['1_4']   \n1674                ['1_6']   \n1675         ['1_2', '1_4']   \n1676                ['1_1']   \n1677                ['1_1']   \n1678                ['1_1']   \n1679                ['1_1']   \n1680         ['1_1', '1_4']   \n1681                ['1_6']   \n1682                ['1_2']   \n1683                ['1_4']   \n1684                ['1_1']   \n1685                ['1_1']   \n1686                ['1_1']   \n1687                ['1_6']   \n1688                ['1_4']   \n1689                ['1_1']   \n1690                ['1_6']   \n1691                ['1_6']   \n1692         ['1_2', '1_5']   \n\n                                                   text  filename  is_valid  \\\n0      RE: IHI Arbitration: PRIVILEGED AND CONFIDENT...       NaN     False   \n1      FW: Sempra et al. v. ENA et al. PRIVILEGED AN...       NaN     False   \n2      California Power Crisis Update (No. 10)  We h...       NaN     False   \n3      Re: Data responses in SDG&E -- confidential t...       NaN     False   \n4      Re: Privileged and Confidential Communication...       NaN      True   \n5      slashing price caps  Hey -- you're talking ab...       NaN      True   \n6      How about lunch?  A typical utility luncheon....       NaN     False   \n7      Energy Issues  Please see the following artic...       NaN     False   \n8       Depart 1:05/Arrive 2:41  Meet with Commissio...       NaN     False   \n9       Regulatory Roundtable, in 49C2  KRTH? 9:10 -...       NaN     False   \n10     RE:  Aruna, I shall be in London this week. P...       NaN     False   \n11     Re: Interview Request  Thanks for the referra...       NaN     False   \n12     Re: Monday's follow-up meeting on cost contro...       NaN     False   \n13     Conference Call to discuss E-Trans Roll-Out  ...       NaN      True   \n14     Observations on the Hearings this Week  We're...       NaN     False   \n15     Re:  I would just say Jeff is pres and ceo, n...       NaN     False   \n16     Re: EBR - Public Affairs - Nov. 6  I may need...       NaN     False   \n17     Confidential Information and Securities Tradi...       NaN     False   \n18     Re: Job Description  I do too, but I think yo...       NaN     False   \n19       You probably saw the announcement that Mike...       NaN     False   \n20     COMPENSATION  could you look into this for me...       NaN     False   \n21     <<Concur Expense Document>> - JS5/8/2001  ---...       NaN     False   \n22     Re: Confidential - Don Black  I'm fine with i...       NaN     False   \n23     Message Points on Higher Gas Prices  Please p...       NaN     False   \n24     Demand buy-down proposal  The e-copy. -------...       NaN     False   \n25     Confidential (sic)...chew immediately after r...       NaN     False   \n26     Re:  Frank, I am definitely interested in the...       NaN     False   \n27     Re: PLEASE READ & RESPOND  Yes. Contact eithe...       NaN     False   \n28     Alberta PPA  ditto -- nice work Rob. Your ins...       NaN      True   \n29     Short Biography for Highlands Forum XVII Meet...       NaN     False   \n...                                                 ...       ...       ...   \n1663   FW: SMS conference  Shirley, I shall pay for ...       NaN     False   \n1664   RE: Thu evening  Thanks. Confirmed. Vince ---...       NaN     False   \n1665    Andy Fastow  Response to Tarpey on Schnitzer...       NaN      True   \n1666   Re: Confidential --CFTC Chair  Hi Steve, Folk...       NaN     False   \n1667   <<Concur Expense Document>> - AMEX - 02/02/01...       NaN      True   \n1668   Re: Daily Research reports  I would like to s...       NaN     False   \n1669   RED Index shows Texas, NY, and Maine advance ...       NaN     False   \n1670   Enron Advertising  do we have a mechanism to ...       NaN     False   \n1671   Re: Price Cap Media--DRAFT  I agree that we n...       NaN     False   \n1672   Re: Hendricks  I think we should let people i...       NaN     False   \n1673   RE: Dates for Emerson Meeting  I'm suggesting...       NaN      True   \n1674   Re: Political Contributions  Please add Linda...       NaN     False   \n1675   RE: Moving foward at a good clip  Call at 5:0...       NaN      True   \n1676   FW: Confidential Contact data and RFI  Update...       NaN     False   \n1677   Reliability and Security Arguments (RTOs)  Th...       NaN     False   \n1678   Fwd: Portland Consultant's Investigation Find...       NaN     False   \n1679   Comprehensive Solution  Fax the attached word...       NaN     False   \n1680   RE: Friday?  Dale, I shall be in your part of...       NaN     False   \n1681   Latest Documents  ---------------------- Forw...       NaN     False   \n1682   A Supportive Note  Dear Mr. Lay: I'm writing ...       NaN     False   \n1683   Board presentations  ----- Forwarded by Steve...       NaN     False   \n1684   Request Confidential Information by FERC  We ...       NaN     False   \n1685   Re: Enron Mentions  It looks like we are play...       NaN     False   \n1686   Enron Mentions  See first item below ----- Fo...       NaN     False   \n1687   Re: Last FINAL version  Has this gone to Ken ...       NaN     False   \n1688     Gary von Fischer  10:45 meet with Cliff Baxter       NaN     False   \n1689   NXE Energy CNRS (French Agency) Confidential ...       NaN     False   \n1690   Re: Draft Organizational Announcement about J...       NaN     False   \n1691   RE: Luntz Focus Groups (1 of 4)  We don't hav...       NaN      True   \n1692   RE: Schoenemann Resume  Molly, Thanks. I am i...       NaN     False   \n\n      1_1  1_2  1_4  1_5  1_6  1_7  \n0       1    0    0    0    0    0  \n1       1    0    0    0    0    0  \n2       1    0    0    0    0    0  \n3       1    0    0    0    0    0  \n4       1    0    0    0    0    0  \n5       0    1    0    0    0    0  \n6       0    0    1    0    0    0  \n7       1    0    0    0    0    0  \n8       0    0    1    0    0    0  \n9       0    0    1    0    0    0  \n10      1    1    1    0    0    0  \n11      1    0    0    0    0    0  \n12      0    0    1    0    0    0  \n13      0    0    1    0    0    0  \n14      1    0    0    0    0    0  \n15      0    0    0    0    1    0  \n16      0    0    1    0    0    0  \n17      1    0    0    0    0    0  \n18      0    0    0    0    1    0  \n19      1    0    0    0    0    0  \n20      0    0    0    1    0    0  \n21      0    0    1    0    0    0  \n22      1    0    0    0    0    0  \n23      1    0    1    0    0    0  \n24      1    0    0    0    0    0  \n25      0    1    0    0    0    0  \n26      0    0    0    1    0    0  \n27      1    0    0    0    0    0  \n28      0    1    0    0    0    0  \n29      0    0    0    0    1    0  \n...   ...  ...  ...  ...  ...  ...  \n1663    0    1    1    0    0    0  \n1664    0    0    1    0    0    0  \n1665    0    0    1    0    0    0  \n1666    1    0    0    0    0    0  \n1667    0    0    1    0    0    0  \n1668    1    0    0    0    0    0  \n1669    1    0    0    0    0    0  \n1670    1    0    0    0    0    0  \n1671    0    0    0    0    1    0  \n1672    1    0    0    0    0    0  \n1673    0    0    1    0    0    0  \n1674    0    0    0    0    1    0  \n1675    0    1    1    0    0    0  \n1676    1    0    0    0    0    0  \n1677    1    0    0    0    0    0  \n1678    1    0    0    0    0    0  \n1679    1    0    0    0    0    0  \n1680    1    0    1    0    0    0  \n1681    0    0    0    0    1    0  \n1682    0    1    0    0    0    0  \n1683    0    0    1    0    0    0  \n1684    1    0    0    0    0    0  \n1685    1    0    0    0    0    0  \n1686    1    0    0    0    0    0  \n1687    0    0    0    0    1    0  \n1688    0    0    1    0    0    0  \n1689    1    0    0    0    0    0  \n1690    0    0    0    0    1    0  \n1691    0    0    0    0    1    0  \n1692    0    1    0    1    0    0  \n\n[1693 rows x 10 columns]"
     },
     "execution_count": 39,
     "metadata": {},
     "output_type": "execute_result"
    }
   ],
   "source": [
    "df_out.head(3000)\n",
    ""
   ]
  },
  {
   "cell_type": "code",
   "execution_count": 40,
   "metadata": {},
   "outputs": [
    {
     "data": {
      "text/plain": "\" Re: Political Contributions  Please add Linda Robertson (Head of our DC office) to this list if that's ok. Sally Keepers 05/04/2001 03:04 PM To: Steven J Kean/NA/Enron@Enron, Elizabeth Labanowski/EPSC/HOU/ECT, Carolyn Cooney/Corp/Enron@ENRON cc: Subject: Political Contributions Attached is final list for 2000\""
     },
     "execution_count": 40,
     "metadata": {},
     "output_type": "execute_result"
    }
   ],
   "source": [
    "df_out.text.iloc[1674]"
   ]
  },
  {
   "cell_type": "code",
   "execution_count": 41,
   "metadata": {},
   "outputs": [],
   "source": [
    "data_clas = (TextList.from_df(df_out, cols='text', vocab=data_lm.vocab)\n",
    "             .split_from_df(col=3)\n",
    "             .label_from_df(cols=lbl_unique , classes=lbl_unique)\n",
    "             .databunch(bs=bs))\n",
    "data_clas.save(path.joinpath('data_clas.pkl'))"
   ]
  },
  {
   "cell_type": "code",
   "execution_count": 42,
   "metadata": {},
   "outputs": [],
   "source": [
    "data_clas = load_data(path, 'data_clas.pkl', bs=bs)"
   ]
  },
  {
   "cell_type": "code",
   "execution_count": 43,
   "metadata": {},
   "outputs": [
    {
     "data": {
      "text/html": "<table border=\"1\" class=\"dataframe\">\n  <thead>\n    <tr style=\"text-align: right;\">\n      <th>text</th>\n      <th>target</th>\n    </tr>\n  </thead>\n  <tbody>\n    <tr>\n      <td>xxbos xxmaj legislative xxmaj status xxmaj report xxmaj week xxmaj ending 2 / 23 xxrep 5 - xxmaj forwarded by xxmaj steven j xxmaj kean / xxup na / xxmaj enron on 02 / 28 / 2001 02:40 xxup pm xxrep 5 - = xxunk xxmaj dasovich = 09sent by : xxmaj jeff xxmaj dasovich = 0902 / 23 / 2001 xxunk xxup pm = 09=09=20 = 09=09 xxmaj to</td>\n      <td>1_1</td>\n    </tr>\n    <tr>\n      <td>xxbos xxmaj most of xxmaj west in the xxmaj same xxmaj power xxmaj jam as xxmaj california xxrep 5 - xxmaj forwarded by xxmaj steven j xxmaj kean / xxup na / xxmaj enron on 02 / 28 / 2001 02:15 xxup pm xxrep 5 - xxmaj alan xxunk 02 / 26 / 2001 12:08 xxup pm xxmaj to : xxmaj jeff xxmaj dasovich / xxmaj na / enron@enron ,</td>\n      <td>1_1</td>\n    </tr>\n    <tr>\n      <td>xxbos xxmaj re : xxmaj two xxmaj governor 's xxmaj press xxmaj releases -- xxmaj more xxmaj courage from the xxmaj capitol xxmaj xxunk me , please ! xxmaj jeff dasovich@ees 09 / 13 / 2000 06:22 xxup pm xxmaj to : xxmaj mary xxmaj hain / xxup hou / xxup ect@ect , xxmaj joe xxmaj hartsoe / xxmaj corp / enron@enron , xxmaj cynthia xxmaj sandherr / xxmaj corp</td>\n      <td>1_2</td>\n    </tr>\n    <tr>\n      <td>xxbos xxmaj re : xxmaj energy xxmaj issues xxmaj miyung , xxmaj you seem to be finding these okay by yourself so i guess i do n't need to be= = 20 forwarding the articles i find to you anymore ? i do n't mind doing it , but i ca n't see xxunk effort , either ! : -- ) xxmaj either way ... let me xxunk xxmaj thanks</td>\n      <td>1_1</td>\n    </tr>\n    <tr>\n      <td>xxbos xxmaj board of xxmaj directors xxmaj meeting - xxmaj august 14 , 2001 calendar and meeting file xxrep 22 - xxmaj forwarded by xxmaj steven j xxmaj kean / xxup na / xxmaj enron on 07 / 18 / 2001 07= : 32 xxup am xxrep 27 - xxunk xxmaj johnson / enron@enronxgate on 07 / 16 / 2001 03:22 xxup pm xxunk xxmaj blachman / xxup hou /</td>\n      <td>1_7</td>\n    </tr>\n  </tbody>\n</table>",
      "text/plain": "<IPython.core.display.HTML object>"
     },
     "metadata": {},
     "output_type": "display_data"
    }
   ],
   "source": [
    "data_clas.show_batch()"
   ]
  },
  {
   "cell_type": "markdown",
   "execution_count": null,
   "metadata": {},
   "outputs": [],
   "source": [
    "We can then create a model to classify those reviews and load the encoder we saved before."
   ]
  },
  {
   "cell_type": "code",
   "execution_count": 44,
   "metadata": {},
   "outputs": [],
   "source": [
    "learn = text_classifier_learner(data_clas, AWD_LSTM, drop_mult=0.5)\n",
    "learn.load_encoder('fine_tuned_enc')"
   ]
  },
  {
   "cell_type": "code",
   "execution_count": 45,
   "metadata": {},
   "outputs": [
    {
     "data": {
      "text/html": "",
      "text/plain": "<IPython.core.display.HTML object>"
     },
     "metadata": {},
     "output_type": "display_data"
    },
    {
     "name": "stdout",
     "output_type": "stream",
     "text": "LR Finder is complete, type {learner_name}.recorder.plot() to see the graph.\n"
    }
   ],
   "source": [
    "learn.lr_find()"
   ]
  },
  {
   "cell_type": "code",
   "execution_count": 46,
   "metadata": {},
   "outputs": [
    {
     "data": {
      "image/png": "[encoded data removed]",
      "image/svg+xml": "<?xml version=\"1.0\" encoding=\"utf-8\" standalone=\"no\"?>\n<!DOCTYPE svg PUBLIC \"-//W3C//DTD SVG 1.1//EN\"\n  \"http://www.w3.org/Graphics/SVG/1.1/DTD/svg11.dtd\">\n<!-- Created with matplotlib (https://matplotlib.org/) -->\n<svg height=\"265.69625pt\" version=\"1.1\" viewBox=\"0 0 395.64375 265.69625\" width=\"395.64375pt\" xmlns=\"http://www.w3.org/2000/svg\" xmlns:xlink=\"http://www.w3.org/1999/xlink\">\n <defs>\n  <style type=\"text/css\">\n*{stroke-linecap:butt;stroke-linejoin:round;}\n  </style>\n </defs>\n <g id=\"figure_1\">\n  <g id=\"patch_1\">\n   <path d=\"M 0 265.69625 \nL 395.64375 265.69625 \nL 395.64375 0 \nL 0 0 \nz\n\" style=\"fill:none;\"/>\n  </g>\n  <g id=\"axes_1\">\n   <g id=\"patch_2\">\n    <path d=\"M 50.14375 228.14 \nL 384.94375 228.14 \nL 384.94375 10.7 \nL 50.14375 10.7 \nz\n\" style=\"fill:#ffffff;\"/>\n   </g>\n   <g id=\"matplotlib.axis_1\">\n    <g id=\"xtick_1\">\n     <g id=\"line2d_1\">\n      <defs>\n       <path d=\"M 0 0 \nL 0 3.5 \n\" id=\"m8ca8198eac\" style=\"stroke:#000000;stroke-width:0.8;\"/>\n      </defs>\n      <g>\n       <use style=\"stroke:#000000;stroke-width:0.8;\" x=\"74.641311\" xlink:href=\"#m8ca8198eac\" y=\"228.14\"/>\n      </g>\n     </g>\n     <g id=\"text_1\">\n      <!-- 1e-06 -->\n      <defs>\n       <path d=\"M 12.40625 8.296875 \nL 28.515625 8.296875 \nL 28.515625 63.921875 \nL 10.984375 60.40625 \nL 10.984375 69.390625 \nL 28.421875 72.90625 \nL 38.28125 72.90625 \nL 38.28125 8.296875 \nL 54.390625 8.296875 \nL 54.390625 0 \nL 12.40625 0 \nz\n\" id=\"DejaVuSans-49\"/>\n       <path d=\"M 56.203125 29.59375 \nL 56.203125 25.203125 \nL 14.890625 25.203125 \nQ 15.484375 15.921875 20.484375 11.0625 \nQ 25.484375 6.203125 34.421875 6.203125 \nQ 39.59375 6.203125 44.453125 7.46875 \nQ 49.3125 8.734375 54.109375 11.28125 \nL 54.109375 2.78125 \nQ 49.265625 0.734375 44.1875 -0.34375 \nQ 39.109375 -1.421875 33.890625 -1.421875 \nQ 20.796875 -1.421875 13.15625 6.1875 \nQ 5.515625 13.8125 5.515625 26.8125 \nQ 5.515625 40.234375 12.765625 48.109375 \nQ 20.015625 56 32.328125 56 \nQ 43.359375 56 49.78125 48.890625 \nQ 56.203125 41.796875 56.203125 29.59375 \nz\nM 47.21875 32.234375 \nQ 47.125 39.59375 43.09375 43.984375 \nQ 39.0625 48.390625 32.421875 48.390625 \nQ 24.90625 48.390625 20.390625 44.140625 \nQ 15.875 39.890625 15.1875 32.171875 \nz\n\" id=\"DejaVuSans-101\"/>\n       <path d=\"M 4.890625 31.390625 \nL 31.203125 31.390625 \nL 31.203125 23.390625 \nL 4.890625 23.390625 \nz\n\" id=\"DejaVuSans-45\"/>\n       <path d=\"M 31.78125 66.40625 \nQ 24.171875 66.40625 20.328125 58.90625 \nQ 16.5 51.421875 16.5 36.375 \nQ 16.5 21.390625 20.328125 13.890625 \nQ 24.171875 6.390625 31.78125 6.390625 \nQ 39.453125 6.390625 43.28125 13.890625 \nQ 47.125 21.390625 47.125 36.375 \nQ 47.125 51.421875 43.28125 58.90625 \nQ 39.453125 66.40625 31.78125 66.40625 \nz\nM 31.78125 74.21875 \nQ 44.046875 74.21875 50.515625 64.515625 \nQ 56.984375 54.828125 56.984375 36.375 \nQ 56.984375 17.96875 50.515625 8.265625 \nQ 44.046875 -1.421875 31.78125 -1.421875 \nQ 19.53125 -1.421875 13.0625 8.265625 \nQ 6.59375 17.96875 6.59375 36.375 \nQ 6.59375 54.828125 13.0625 64.515625 \nQ 19.53125 74.21875 31.78125 74.21875 \nz\n\" id=\"DejaVuSans-48\"/>\n       <path d=\"M 33.015625 40.375 \nQ 26.375 40.375 22.484375 35.828125 \nQ 18.609375 31.296875 18.609375 23.390625 \nQ 18.609375 15.53125 22.484375 10.953125 \nQ 26.375 6.390625 33.015625 6.390625 \nQ 39.65625 6.390625 43.53125 10.953125 \nQ 47.40625 15.53125 47.40625 23.390625 \nQ 47.40625 31.296875 43.53125 35.828125 \nQ 39.65625 40.375 33.015625 40.375 \nz\nM 52.59375 71.296875 \nL 52.59375 62.3125 \nQ 48.875 64.0625 45.09375 64.984375 \nQ 41.3125 65.921875 37.59375 65.921875 \nQ 27.828125 65.921875 22.671875 59.328125 \nQ 17.53125 52.734375 16.796875 39.40625 \nQ 19.671875 43.65625 24.015625 45.921875 \nQ 28.375 48.1875 33.59375 48.1875 \nQ 44.578125 48.1875 50.953125 41.515625 \nQ 57.328125 34.859375 57.328125 23.390625 \nQ 57.328125 12.15625 50.6875 5.359375 \nQ 44.046875 -1.421875 33.015625 -1.421875 \nQ 20.359375 -1.421875 13.671875 8.265625 \nQ 6.984375 17.96875 6.984375 36.375 \nQ 6.984375 53.65625 15.1875 63.9375 \nQ 23.390625 74.21875 37.203125 74.21875 \nQ 40.921875 74.21875 44.703125 73.484375 \nQ 48.484375 72.75 52.59375 71.296875 \nz\n\" id=\"DejaVuSans-54\"/>\n      </defs>\n      <g transform=\"translate(60.217092 242.738437)scale(0.1 -0.1)\">\n       <use xlink:href=\"#DejaVuSans-49\"/>\n       <use x=\"63.623047\" xlink:href=\"#DejaVuSans-101\"/>\n       <use x=\"125.146484\" xlink:href=\"#DejaVuSans-45\"/>\n       <use x=\"161.230469\" xlink:href=\"#DejaVuSans-48\"/>\n       <use x=\"224.853516\" xlink:href=\"#DejaVuSans-54\"/>\n      </g>\n     </g>\n    </g>\n    <g id=\"xtick_2\">\n     <g id=\"line2d_2\">\n      <g>\n       <use style=\"stroke:#000000;stroke-width:0.8;\" x=\"121.038207\" xlink:href=\"#m8ca8198eac\" y=\"228.14\"/>\n      </g>\n     </g>\n     <g id=\"text_2\">\n      <!-- 1e-05 -->\n      <defs>\n       <path d=\"M 10.796875 72.90625 \nL 49.515625 72.90625 \nL 49.515625 64.59375 \nL 19.828125 64.59375 \nL 19.828125 46.734375 \nQ 21.96875 47.46875 24.109375 47.828125 \nQ 26.265625 48.1875 28.421875 48.1875 \nQ 40.625 48.1875 47.75 41.5 \nQ 54.890625 34.8125 54.890625 23.390625 \nQ 54.890625 11.625 47.5625 5.09375 \nQ 40.234375 -1.421875 26.90625 -1.421875 \nQ 22.3125 -1.421875 17.546875 -0.640625 \nQ 12.796875 0.140625 7.71875 1.703125 \nL 7.71875 11.625 \nQ 12.109375 9.234375 16.796875 8.0625 \nQ 21.484375 6.890625 26.703125 6.890625 \nQ 35.15625 6.890625 40.078125 11.328125 \nQ 45.015625 15.765625 45.015625 23.390625 \nQ 45.015625 31 40.078125 35.4375 \nQ 35.15625 39.890625 26.703125 39.890625 \nQ 22.75 39.890625 18.8125 39.015625 \nQ 14.890625 38.140625 10.796875 36.28125 \nz\n\" id=\"DejaVuSans-53\"/>\n      </defs>\n      <g transform=\"translate(106.613988 242.738437)scale(0.1 -0.1)\">\n       <use xlink:href=\"#DejaVuSans-49\"/>\n       <use x=\"63.623047\" xlink:href=\"#DejaVuSans-101\"/>\n       <use x=\"125.146484\" xlink:href=\"#DejaVuSans-45\"/>\n       <use x=\"161.230469\" xlink:href=\"#DejaVuSans-48\"/>\n       <use x=\"224.853516\" xlink:href=\"#DejaVuSans-53\"/>\n      </g>\n     </g>\n    </g>\n    <g id=\"xtick_3\">\n     <g id=\"line2d_3\">\n      <g>\n       <use style=\"stroke:#000000;stroke-width:0.8;\" x=\"167.435103\" xlink:href=\"#m8ca8198eac\" y=\"228.14\"/>\n      </g>\n     </g>\n     <g id=\"text_3\">\n      <!-- 1e-04 -->\n      <defs>\n       <path d=\"M 37.796875 64.3125 \nL 12.890625 25.390625 \nL 37.796875 25.390625 \nz\nM 35.203125 72.90625 \nL 47.609375 72.90625 \nL 47.609375 25.390625 \nL 58.015625 25.390625 \nL 58.015625 17.1875 \nL 47.609375 17.1875 \nL 47.609375 0 \nL 37.796875 0 \nL 37.796875 17.1875 \nL 4.890625 17.1875 \nL 4.890625 26.703125 \nz\n\" id=\"DejaVuSans-52\"/>\n      </defs>\n      <g transform=\"translate(153.010884 242.738437)scale(0.1 -0.1)\">\n       <use xlink:href=\"#DejaVuSans-49\"/>\n       <use x=\"63.623047\" xlink:href=\"#DejaVuSans-101\"/>\n       <use x=\"125.146484\" xlink:href=\"#DejaVuSans-45\"/>\n       <use x=\"161.230469\" xlink:href=\"#DejaVuSans-48\"/>\n       <use x=\"224.853516\" xlink:href=\"#DejaVuSans-52\"/>\n      </g>\n     </g>\n    </g>\n    <g id=\"xtick_4\">\n     <g id=\"line2d_4\">\n      <g>\n       <use style=\"stroke:#000000;stroke-width:0.8;\" x=\"213.831998\" xlink:href=\"#m8ca8198eac\" y=\"228.14\"/>\n      </g>\n     </g>\n     <g id=\"text_4\">\n      <!-- 1e-03 -->\n      <defs>\n       <path d=\"M 40.578125 39.3125 \nQ 47.65625 37.796875 51.625 33 \nQ 55.609375 28.21875 55.609375 21.1875 \nQ 55.609375 10.40625 48.1875 4.484375 \nQ 40.765625 -1.421875 27.09375 -1.421875 \nQ 22.515625 -1.421875 17.65625 -0.515625 \nQ 12.796875 0.390625 7.625 2.203125 \nL 7.625 11.71875 \nQ 11.71875 9.328125 16.59375 8.109375 \nQ 21.484375 6.890625 26.8125 6.890625 \nQ 36.078125 6.890625 40.9375 10.546875 \nQ 45.796875 14.203125 45.796875 21.1875 \nQ 45.796875 27.640625 41.28125 31.265625 \nQ 36.765625 34.90625 28.71875 34.90625 \nL 20.21875 34.90625 \nL 20.21875 43.015625 \nL 29.109375 43.015625 \nQ 36.375 43.015625 40.234375 45.921875 \nQ 44.09375 48.828125 44.09375 54.296875 \nQ 44.09375 59.90625 40.109375 62.90625 \nQ 36.140625 65.921875 28.71875 65.921875 \nQ 24.65625 65.921875 20.015625 65.03125 \nQ 15.375 64.15625 9.8125 62.3125 \nL 9.8125 71.09375 \nQ 15.4375 72.65625 20.34375 73.4375 \nQ 25.25 74.21875 29.59375 74.21875 \nQ 40.828125 74.21875 47.359375 69.109375 \nQ 53.90625 64.015625 53.90625 55.328125 \nQ 53.90625 49.265625 50.4375 45.09375 \nQ 46.96875 40.921875 40.578125 39.3125 \nz\n\" id=\"DejaVuSans-51\"/>\n      </defs>\n      <g transform=\"translate(199.40778 242.738437)scale(0.1 -0.1)\">\n       <use xlink:href=\"#DejaVuSans-49\"/>\n       <use x=\"63.623047\" xlink:href=\"#DejaVuSans-101\"/>\n       <use x=\"125.146484\" xlink:href=\"#DejaVuSans-45\"/>\n       <use x=\"161.230469\" xlink:href=\"#DejaVuSans-48\"/>\n       <use x=\"224.853516\" xlink:href=\"#DejaVuSans-51\"/>\n      </g>\n     </g>\n    </g>\n    <g id=\"xtick_5\">\n     <g id=\"line2d_5\">\n      <g>\n       <use style=\"stroke:#000000;stroke-width:0.8;\" x=\"260.228894\" xlink:href=\"#m8ca8198eac\" y=\"228.14\"/>\n      </g>\n     </g>\n     <g id=\"text_5\">\n      <!-- 1e-02 -->\n      <defs>\n       <path d=\"M 19.1875 8.296875 \nL 53.609375 8.296875 \nL 53.609375 0 \nL 7.328125 0 \nL 7.328125 8.296875 \nQ 12.9375 14.109375 22.625 23.890625 \nQ 32.328125 33.6875 34.8125 36.53125 \nQ 39.546875 41.84375 41.421875 45.53125 \nQ 43.3125 49.21875 43.3125 52.78125 \nQ 43.3125 58.59375 39.234375 62.25 \nQ 35.15625 65.921875 28.609375 65.921875 \nQ 23.96875 65.921875 18.8125 64.3125 \nQ 13.671875 62.703125 7.8125 59.421875 \nL 7.8125 69.390625 \nQ 13.765625 71.78125 18.9375 73 \nQ 24.125 74.21875 28.421875 74.21875 \nQ 39.75 74.21875 46.484375 68.546875 \nQ 53.21875 62.890625 53.21875 53.421875 \nQ 53.21875 48.921875 51.53125 44.890625 \nQ 49.859375 40.875 45.40625 35.40625 \nQ 44.1875 33.984375 37.640625 27.21875 \nQ 31.109375 20.453125 19.1875 8.296875 \nz\n\" id=\"DejaVuSans-50\"/>\n      </defs>\n      <g transform=\"translate(245.804675 242.738437)scale(0.1 -0.1)\">\n       <use xlink:href=\"#DejaVuSans-49\"/>\n       <use x=\"63.623047\" xlink:href=\"#DejaVuSans-101\"/>\n       <use x=\"125.146484\" xlink:href=\"#DejaVuSans-45\"/>\n       <use x=\"161.230469\" xlink:href=\"#DejaVuSans-48\"/>\n       <use x=\"224.853516\" xlink:href=\"#DejaVuSans-50\"/>\n      </g>\n     </g>\n    </g>\n    <g id=\"xtick_6\">\n     <g id=\"line2d_6\">\n      <g>\n       <use style=\"stroke:#000000;stroke-width:0.8;\" x=\"306.62579\" xlink:href=\"#m8ca8198eac\" y=\"228.14\"/>\n      </g>\n     </g>\n     <g id=\"text_6\">\n      <!-- 1e-01 -->\n      <g transform=\"translate(292.201571 242.738437)scale(0.1 -0.1)\">\n       <use xlink:href=\"#DejaVuSans-49\"/>\n       <use x=\"63.623047\" xlink:href=\"#DejaVuSans-101\"/>\n       <use x=\"125.146484\" xlink:href=\"#DejaVuSans-45\"/>\n       <use x=\"161.230469\" xlink:href=\"#DejaVuSans-48\"/>\n       <use x=\"224.853516\" xlink:href=\"#DejaVuSans-49\"/>\n      </g>\n     </g>\n    </g>\n    <g id=\"xtick_7\">\n     <g id=\"line2d_7\">\n      <g>\n       <use style=\"stroke:#000000;stroke-width:0.8;\" x=\"353.022686\" xlink:href=\"#m8ca8198eac\" y=\"228.14\"/>\n      </g>\n     </g>\n     <g id=\"text_7\">\n      <!-- 1e+00 -->\n      <defs>\n       <path d=\"M 46 62.703125 \nL 46 35.5 \nL 73.1875 35.5 \nL 73.1875 27.203125 \nL 46 27.203125 \nL 46 0 \nL 37.796875 0 \nL 37.796875 27.203125 \nL 10.59375 27.203125 \nL 10.59375 35.5 \nL 37.796875 35.5 \nL 37.796875 62.703125 \nz\n\" id=\"DejaVuSans-43\"/>\n      </defs>\n      <g transform=\"translate(336.212529 242.738437)scale(0.1 -0.1)\">\n       <use xlink:href=\"#DejaVuSans-49\"/>\n       <use x=\"63.623047\" xlink:href=\"#DejaVuSans-101\"/>\n       <use x=\"125.146484\" xlink:href=\"#DejaVuSans-43\"/>\n       <use x=\"208.935547\" xlink:href=\"#DejaVuSans-48\"/>\n       <use x=\"272.558594\" xlink:href=\"#DejaVuSans-48\"/>\n      </g>\n     </g>\n    </g>\n    <g id=\"xtick_8\">\n     <g id=\"line2d_8\">\n      <defs>\n       <path d=\"M 0 0 \nL 0 2 \n\" id=\"m5c8416237b\" style=\"stroke:#000000;stroke-width:0.6;\"/>\n      </defs>\n      <g>\n       <use style=\"stroke:#000000;stroke-width:0.6;\" x=\"50.38136\" xlink:href=\"#m5c8416237b\" y=\"228.14\"/>\n      </g>\n     </g>\n    </g>\n    <g id=\"xtick_9\">\n     <g id=\"line2d_9\">\n      <g>\n       <use style=\"stroke:#000000;stroke-width:0.6;\" x=\"56.17813\" xlink:href=\"#m5c8416237b\" y=\"228.14\"/>\n      </g>\n     </g>\n    </g>\n    <g id=\"xtick_10\">\n     <g id=\"line2d_10\">\n      <g>\n       <use style=\"stroke:#000000;stroke-width:0.6;\" x=\"60.674454\" xlink:href=\"#m5c8416237b\" y=\"228.14\"/>\n      </g>\n     </g>\n    </g>\n    <g id=\"xtick_11\">\n     <g id=\"line2d_11\">\n      <g>\n       <use style=\"stroke:#000000;stroke-width:0.6;\" x=\"64.348218\" xlink:href=\"#m5c8416237b\" y=\"228.14\"/>\n      </g>\n     </g>\n    </g>\n    <g id=\"xtick_12\">\n     <g id=\"line2d_12\">\n      <g>\n       <use style=\"stroke:#000000;stroke-width:0.6;\" x=\"67.454341\" xlink:href=\"#m5c8416237b\" y=\"228.14\"/>\n      </g>\n     </g>\n    </g>\n    <g id=\"xtick_13\">\n     <g id=\"line2d_13\">\n      <g>\n       <use style=\"stroke:#000000;stroke-width:0.6;\" x=\"70.144987\" xlink:href=\"#m5c8416237b\" y=\"228.14\"/>\n      </g>\n     </g>\n    </g>\n    <g id=\"xtick_14\">\n     <g id=\"line2d_14\">\n      <g>\n       <use style=\"stroke:#000000;stroke-width:0.6;\" x=\"72.518305\" xlink:href=\"#m5c8416237b\" y=\"228.14\"/>\n      </g>\n     </g>\n    </g>\n    <g id=\"xtick_15\">\n     <g id=\"line2d_15\">\n      <g>\n       <use style=\"stroke:#000000;stroke-width:0.6;\" x=\"88.608168\" xlink:href=\"#m5c8416237b\" y=\"228.14\"/>\n      </g>\n     </g>\n    </g>\n    <g id=\"xtick_16\">\n     <g id=\"line2d_16\">\n      <g>\n       <use style=\"stroke:#000000;stroke-width:0.6;\" x=\"96.778256\" xlink:href=\"#m5c8416237b\" y=\"228.14\"/>\n      </g>\n     </g>\n    </g>\n    <g id=\"xtick_17\">\n     <g id=\"line2d_17\">\n      <g>\n       <use style=\"stroke:#000000;stroke-width:0.6;\" x=\"102.575026\" xlink:href=\"#m5c8416237b\" y=\"228.14\"/>\n      </g>\n     </g>\n    </g>\n    <g id=\"xtick_18\">\n     <g id=\"line2d_18\">\n      <g>\n       <use style=\"stroke:#000000;stroke-width:0.6;\" x=\"107.071349\" xlink:href=\"#m5c8416237b\" y=\"228.14\"/>\n      </g>\n     </g>\n    </g>\n    <g id=\"xtick_19\">\n     <g id=\"line2d_19\">\n      <g>\n       <use style=\"stroke:#000000;stroke-width:0.6;\" x=\"110.745113\" xlink:href=\"#m5c8416237b\" y=\"228.14\"/>\n      </g>\n     </g>\n    </g>\n    <g id=\"xtick_20\">\n     <g id=\"line2d_20\">\n      <g>\n       <use style=\"stroke:#000000;stroke-width:0.6;\" x=\"113.851237\" xlink:href=\"#m5c8416237b\" y=\"228.14\"/>\n      </g>\n     </g>\n    </g>\n    <g id=\"xtick_21\">\n     <g id=\"line2d_21\">\n      <g>\n       <use style=\"stroke:#000000;stroke-width:0.6;\" x=\"116.541883\" xlink:href=\"#m5c8416237b\" y=\"228.14\"/>\n      </g>\n     </g>\n    </g>\n    <g id=\"xtick_22\">\n     <g id=\"line2d_22\">\n      <g>\n       <use style=\"stroke:#000000;stroke-width:0.6;\" x=\"118.915201\" xlink:href=\"#m5c8416237b\" y=\"228.14\"/>\n      </g>\n     </g>\n    </g>\n    <g id=\"xtick_23\">\n     <g id=\"line2d_23\">\n      <g>\n       <use style=\"stroke:#000000;stroke-width:0.6;\" x=\"135.005064\" xlink:href=\"#m5c8416237b\" y=\"228.14\"/>\n      </g>\n     </g>\n    </g>\n    <g id=\"xtick_24\">\n     <g id=\"line2d_24\">\n      <g>\n       <use style=\"stroke:#000000;stroke-width:0.6;\" x=\"143.175152\" xlink:href=\"#m5c8416237b\" y=\"228.14\"/>\n      </g>\n     </g>\n    </g>\n    <g id=\"xtick_25\">\n     <g id=\"line2d_25\">\n      <g>\n       <use style=\"stroke:#000000;stroke-width:0.6;\" x=\"148.971921\" xlink:href=\"#m5c8416237b\" y=\"228.14\"/>\n      </g>\n     </g>\n    </g>\n    <g id=\"xtick_26\">\n     <g id=\"line2d_26\">\n      <g>\n       <use style=\"stroke:#000000;stroke-width:0.6;\" x=\"153.468245\" xlink:href=\"#m5c8416237b\" y=\"228.14\"/>\n      </g>\n     </g>\n    </g>\n    <g id=\"xtick_27\">\n     <g id=\"line2d_27\">\n      <g>\n       <use style=\"stroke:#000000;stroke-width:0.6;\" x=\"157.142009\" xlink:href=\"#m5c8416237b\" y=\"228.14\"/>\n      </g>\n     </g>\n    </g>\n    <g id=\"xtick_28\">\n     <g id=\"line2d_28\">\n      <g>\n       <use style=\"stroke:#000000;stroke-width:0.6;\" x=\"160.248132\" xlink:href=\"#m5c8416237b\" y=\"228.14\"/>\n      </g>\n     </g>\n    </g>\n    <g id=\"xtick_29\">\n     <g id=\"line2d_29\">\n      <g>\n       <use style=\"stroke:#000000;stroke-width:0.6;\" x=\"162.938779\" xlink:href=\"#m5c8416237b\" y=\"228.14\"/>\n      </g>\n     </g>\n    </g>\n    <g id=\"xtick_30\">\n     <g id=\"line2d_30\">\n      <g>\n       <use style=\"stroke:#000000;stroke-width:0.6;\" x=\"165.312097\" xlink:href=\"#m5c8416237b\" y=\"228.14\"/>\n      </g>\n     </g>\n    </g>\n    <g id=\"xtick_31\">\n     <g id=\"line2d_31\">\n      <g>\n       <use style=\"stroke:#000000;stroke-width:0.6;\" x=\"181.40196\" xlink:href=\"#m5c8416237b\" y=\"228.14\"/>\n      </g>\n     </g>\n    </g>\n    <g id=\"xtick_32\">\n     <g id=\"line2d_32\">\n      <g>\n       <use style=\"stroke:#000000;stroke-width:0.6;\" x=\"189.572048\" xlink:href=\"#m5c8416237b\" y=\"228.14\"/>\n      </g>\n     </g>\n    </g>\n    <g id=\"xtick_33\">\n     <g id=\"line2d_33\">\n      <g>\n       <use style=\"stroke:#000000;stroke-width:0.6;\" x=\"195.368817\" xlink:href=\"#m5c8416237b\" y=\"228.14\"/>\n      </g>\n     </g>\n    </g>\n    <g id=\"xtick_34\">\n     <g id=\"line2d_34\">\n      <g>\n       <use style=\"stroke:#000000;stroke-width:0.6;\" x=\"199.865141\" xlink:href=\"#m5c8416237b\" y=\"228.14\"/>\n      </g>\n     </g>\n    </g>\n    <g id=\"xtick_35\">\n     <g id=\"line2d_35\">\n      <g>\n       <use style=\"stroke:#000000;stroke-width:0.6;\" x=\"203.538905\" xlink:href=\"#m5c8416237b\" y=\"228.14\"/>\n      </g>\n     </g>\n    </g>\n    <g id=\"xtick_36\">\n     <g id=\"line2d_36\">\n      <g>\n       <use style=\"stroke:#000000;stroke-width:0.6;\" x=\"206.645028\" xlink:href=\"#m5c8416237b\" y=\"228.14\"/>\n      </g>\n     </g>\n    </g>\n    <g id=\"xtick_37\">\n     <g id=\"line2d_37\">\n      <g>\n       <use style=\"stroke:#000000;stroke-width:0.6;\" x=\"209.335675\" xlink:href=\"#m5c8416237b\" y=\"228.14\"/>\n      </g>\n     </g>\n    </g>\n    <g id=\"xtick_38\">\n     <g id=\"line2d_38\">\n      <g>\n       <use style=\"stroke:#000000;stroke-width:0.6;\" x=\"211.708993\" xlink:href=\"#m5c8416237b\" y=\"228.14\"/>\n      </g>\n     </g>\n    </g>\n    <g id=\"xtick_39\">\n     <g id=\"line2d_39\">\n      <g>\n       <use style=\"stroke:#000000;stroke-width:0.6;\" x=\"227.798856\" xlink:href=\"#m5c8416237b\" y=\"228.14\"/>\n      </g>\n     </g>\n    </g>\n    <g id=\"xtick_40\">\n     <g id=\"line2d_40\">\n      <g>\n       <use style=\"stroke:#000000;stroke-width:0.6;\" x=\"235.968943\" xlink:href=\"#m5c8416237b\" y=\"228.14\"/>\n      </g>\n     </g>\n    </g>\n    <g id=\"xtick_41\">\n     <g id=\"line2d_41\">\n      <g>\n       <use style=\"stroke:#000000;stroke-width:0.6;\" x=\"241.765713\" xlink:href=\"#m5c8416237b\" y=\"228.14\"/>\n      </g>\n     </g>\n    </g>\n    <g id=\"xtick_42\">\n     <g id=\"line2d_42\">\n      <g>\n       <use style=\"stroke:#000000;stroke-width:0.6;\" x=\"246.262037\" xlink:href=\"#m5c8416237b\" y=\"228.14\"/>\n      </g>\n     </g>\n    </g>\n    <g id=\"xtick_43\">\n     <g id=\"line2d_43\">\n      <g>\n       <use style=\"stroke:#000000;stroke-width:0.6;\" x=\"249.935801\" xlink:href=\"#m5c8416237b\" y=\"228.14\"/>\n      </g>\n     </g>\n    </g>\n    <g id=\"xtick_44\">\n     <g id=\"line2d_44\">\n      <g>\n       <use style=\"stroke:#000000;stroke-width:0.6;\" x=\"253.041924\" xlink:href=\"#m5c8416237b\" y=\"228.14\"/>\n      </g>\n     </g>\n    </g>\n    <g id=\"xtick_45\">\n     <g id=\"line2d_45\">\n      <g>\n       <use style=\"stroke:#000000;stroke-width:0.6;\" x=\"255.73257\" xlink:href=\"#m5c8416237b\" y=\"228.14\"/>\n      </g>\n     </g>\n    </g>\n    <g id=\"xtick_46\">\n     <g id=\"line2d_46\">\n      <g>\n       <use style=\"stroke:#000000;stroke-width:0.6;\" x=\"258.105889\" xlink:href=\"#m5c8416237b\" y=\"228.14\"/>\n      </g>\n     </g>\n    </g>\n    <g id=\"xtick_47\">\n     <g id=\"line2d_47\">\n      <g>\n       <use style=\"stroke:#000000;stroke-width:0.6;\" x=\"274.195751\" xlink:href=\"#m5c8416237b\" y=\"228.14\"/>\n      </g>\n     </g>\n    </g>\n    <g id=\"xtick_48\">\n     <g id=\"line2d_48\">\n      <g>\n       <use style=\"stroke:#000000;stroke-width:0.6;\" x=\"282.365839\" xlink:href=\"#m5c8416237b\" y=\"228.14\"/>\n      </g>\n     </g>\n    </g>\n    <g id=\"xtick_49\">\n     <g id=\"line2d_49\">\n      <g>\n       <use style=\"stroke:#000000;stroke-width:0.6;\" x=\"288.162609\" xlink:href=\"#m5c8416237b\" y=\"228.14\"/>\n      </g>\n     </g>\n    </g>\n    <g id=\"xtick_50\">\n     <g id=\"line2d_50\">\n      <g>\n       <use style=\"stroke:#000000;stroke-width:0.6;\" x=\"292.658933\" xlink:href=\"#m5c8416237b\" y=\"228.14\"/>\n      </g>\n     </g>\n    </g>\n    <g id=\"xtick_51\">\n     <g id=\"line2d_51\">\n      <g>\n       <use style=\"stroke:#000000;stroke-width:0.6;\" x=\"296.332697\" xlink:href=\"#m5c8416237b\" y=\"228.14\"/>\n      </g>\n     </g>\n    </g>\n    <g id=\"xtick_52\">\n     <g id=\"line2d_52\">\n      <g>\n       <use style=\"stroke:#000000;stroke-width:0.6;\" x=\"299.43882\" xlink:href=\"#m5c8416237b\" y=\"228.14\"/>\n      </g>\n     </g>\n    </g>\n    <g id=\"xtick_53\">\n     <g id=\"line2d_53\">\n      <g>\n       <use style=\"stroke:#000000;stroke-width:0.6;\" x=\"302.129466\" xlink:href=\"#m5c8416237b\" y=\"228.14\"/>\n      </g>\n     </g>\n    </g>\n    <g id=\"xtick_54\">\n     <g id=\"line2d_54\">\n      <g>\n       <use style=\"stroke:#000000;stroke-width:0.6;\" x=\"304.502784\" xlink:href=\"#m5c8416237b\" y=\"228.14\"/>\n      </g>\n     </g>\n    </g>\n    <g id=\"xtick_55\">\n     <g id=\"line2d_55\">\n      <g>\n       <use style=\"stroke:#000000;stroke-width:0.6;\" x=\"320.592647\" xlink:href=\"#m5c8416237b\" y=\"228.14\"/>\n      </g>\n     </g>\n    </g>\n    <g id=\"xtick_56\">\n     <g id=\"line2d_56\">\n      <g>\n       <use style=\"stroke:#000000;stroke-width:0.6;\" x=\"328.762735\" xlink:href=\"#m5c8416237b\" y=\"228.14\"/>\n      </g>\n     </g>\n    </g>\n    <g id=\"xtick_57\">\n     <g id=\"line2d_57\">\n      <g>\n       <use style=\"stroke:#000000;stroke-width:0.6;\" x=\"334.559505\" xlink:href=\"#m5c8416237b\" y=\"228.14\"/>\n      </g>\n     </g>\n    </g>\n    <g id=\"xtick_58\">\n     <g id=\"line2d_58\">\n      <g>\n       <use style=\"stroke:#000000;stroke-width:0.6;\" x=\"339.055828\" xlink:href=\"#m5c8416237b\" y=\"228.14\"/>\n      </g>\n     </g>\n    </g>\n    <g id=\"xtick_59\">\n     <g id=\"line2d_59\">\n      <g>\n       <use style=\"stroke:#000000;stroke-width:0.6;\" x=\"342.729592\" xlink:href=\"#m5c8416237b\" y=\"228.14\"/>\n      </g>\n     </g>\n    </g>\n    <g id=\"xtick_60\">\n     <g id=\"line2d_60\">\n      <g>\n       <use style=\"stroke:#000000;stroke-width:0.6;\" x=\"345.835716\" xlink:href=\"#m5c8416237b\" y=\"228.14\"/>\n      </g>\n     </g>\n    </g>\n    <g id=\"xtick_61\">\n     <g id=\"line2d_61\">\n      <g>\n       <use style=\"stroke:#000000;stroke-width:0.6;\" x=\"348.526362\" xlink:href=\"#m5c8416237b\" y=\"228.14\"/>\n      </g>\n     </g>\n    </g>\n    <g id=\"xtick_62\">\n     <g id=\"line2d_62\">\n      <g>\n       <use style=\"stroke:#000000;stroke-width:0.6;\" x=\"350.89968\" xlink:href=\"#m5c8416237b\" y=\"228.14\"/>\n      </g>\n     </g>\n    </g>\n    <g id=\"xtick_63\">\n     <g id=\"line2d_63\">\n      <g>\n       <use style=\"stroke:#000000;stroke-width:0.6;\" x=\"366.989543\" xlink:href=\"#m5c8416237b\" y=\"228.14\"/>\n      </g>\n     </g>\n    </g>\n    <g id=\"xtick_64\">\n     <g id=\"line2d_64\">\n      <g>\n       <use style=\"stroke:#000000;stroke-width:0.6;\" x=\"375.159631\" xlink:href=\"#m5c8416237b\" y=\"228.14\"/>\n      </g>\n     </g>\n    </g>\n    <g id=\"xtick_65\">\n     <g id=\"line2d_65\">\n      <g>\n       <use style=\"stroke:#000000;stroke-width:0.6;\" x=\"380.9564\" xlink:href=\"#m5c8416237b\" y=\"228.14\"/>\n      </g>\n     </g>\n    </g>\n    <g id=\"text_8\">\n     <!-- Learning Rate -->\n     <defs>\n      <path d=\"M 9.8125 72.90625 \nL 19.671875 72.90625 \nL 19.671875 8.296875 \nL 55.171875 8.296875 \nL 55.171875 0 \nL 9.8125 0 \nz\n\" id=\"DejaVuSans-76\"/>\n      <path d=\"M 34.28125 27.484375 \nQ 23.390625 27.484375 19.1875 25 \nQ 14.984375 22.515625 14.984375 16.5 \nQ 14.984375 11.71875 18.140625 8.90625 \nQ 21.296875 6.109375 26.703125 6.109375 \nQ 34.1875 6.109375 38.703125 11.40625 \nQ 43.21875 16.703125 43.21875 25.484375 \nL 43.21875 27.484375 \nz\nM 52.203125 31.203125 \nL 52.203125 0 \nL 43.21875 0 \nL 43.21875 8.296875 \nQ 40.140625 3.328125 35.546875 0.953125 \nQ 30.953125 -1.421875 24.3125 -1.421875 \nQ 15.921875 -1.421875 10.953125 3.296875 \nQ 6 8.015625 6 15.921875 \nQ 6 25.140625 12.171875 29.828125 \nQ 18.359375 34.515625 30.609375 34.515625 \nL 43.21875 34.515625 \nL 43.21875 35.40625 \nQ 43.21875 41.609375 39.140625 45 \nQ 35.0625 48.390625 27.6875 48.390625 \nQ 23 48.390625 18.546875 47.265625 \nQ 14.109375 46.140625 10.015625 43.890625 \nL 10.015625 52.203125 \nQ 14.9375 54.109375 19.578125 55.046875 \nQ 24.21875 56 28.609375 56 \nQ 40.484375 56 46.34375 49.84375 \nQ 52.203125 43.703125 52.203125 31.203125 \nz\n\" id=\"DejaVuSans-97\"/>\n      <path d=\"M 41.109375 46.296875 \nQ 39.59375 47.171875 37.8125 47.578125 \nQ 36.03125 48 33.890625 48 \nQ 26.265625 48 22.1875 43.046875 \nQ 18.109375 38.09375 18.109375 28.8125 \nL 18.109375 0 \nL 9.078125 0 \nL 9.078125 54.6875 \nL 18.109375 54.6875 \nL 18.109375 46.1875 \nQ 20.953125 51.171875 25.484375 53.578125 \nQ 30.03125 56 36.53125 56 \nQ 37.453125 56 38.578125 55.875 \nQ 39.703125 55.765625 41.0625 55.515625 \nz\n\" id=\"DejaVuSans-114\"/>\n      <path d=\"M 54.890625 33.015625 \nL 54.890625 0 \nL 45.90625 0 \nL 45.90625 32.71875 \nQ 45.90625 40.484375 42.875 44.328125 \nQ 39.84375 48.1875 33.796875 48.1875 \nQ 26.515625 48.1875 22.3125 43.546875 \nQ 18.109375 38.921875 18.109375 30.90625 \nL 18.109375 0 \nL 9.078125 0 \nL 9.078125 54.6875 \nL 18.109375 54.6875 \nL 18.109375 46.1875 \nQ 21.34375 51.125 25.703125 53.5625 \nQ 30.078125 56 35.796875 56 \nQ 45.21875 56 50.046875 50.171875 \nQ 54.890625 44.34375 54.890625 33.015625 \nz\n\" id=\"DejaVuSans-110\"/>\n      <path d=\"M 9.421875 54.6875 \nL 18.40625 54.6875 \nL 18.40625 0 \nL 9.421875 0 \nz\nM 9.421875 75.984375 \nL 18.40625 75.984375 \nL 18.40625 64.59375 \nL 9.421875 64.59375 \nz\n\" id=\"DejaVuSans-105\"/>\n      <path d=\"M 45.40625 27.984375 \nQ 45.40625 37.75 41.375 43.109375 \nQ 37.359375 48.484375 30.078125 48.484375 \nQ 22.859375 48.484375 18.828125 43.109375 \nQ 14.796875 37.75 14.796875 27.984375 \nQ 14.796875 18.265625 18.828125 12.890625 \nQ 22.859375 7.515625 30.078125 7.515625 \nQ 37.359375 7.515625 41.375 12.890625 \nQ 45.40625 18.265625 45.40625 27.984375 \nz\nM 54.390625 6.78125 \nQ 54.390625 -7.171875 48.1875 -13.984375 \nQ 42 -20.796875 29.203125 -20.796875 \nQ 24.46875 -20.796875 20.265625 -20.09375 \nQ 16.0625 -19.390625 12.109375 -17.921875 \nL 12.109375 -9.1875 \nQ 16.0625 -11.328125 19.921875 -12.34375 \nQ 23.78125 -13.375 27.78125 -13.375 \nQ 36.625 -13.375 41.015625 -8.765625 \nQ 45.40625 -4.15625 45.40625 5.171875 \nL 45.40625 9.625 \nQ 42.625 4.78125 38.28125 2.390625 \nQ 33.9375 0 27.875 0 \nQ 17.828125 0 11.671875 7.65625 \nQ 5.515625 15.328125 5.515625 27.984375 \nQ 5.515625 40.671875 11.671875 48.328125 \nQ 17.828125 56 27.875 56 \nQ 33.9375 56 38.28125 53.609375 \nQ 42.625 51.21875 45.40625 46.390625 \nL 45.40625 54.6875 \nL 54.390625 54.6875 \nz\n\" id=\"DejaVuSans-103\"/>\n      <path id=\"DejaVuSans-32\"/>\n      <path d=\"M 44.390625 34.1875 \nQ 47.5625 33.109375 50.5625 29.59375 \nQ 53.5625 26.078125 56.59375 19.921875 \nL 66.609375 0 \nL 56 0 \nL 46.6875 18.703125 \nQ 43.0625 26.03125 39.671875 28.421875 \nQ 36.28125 30.8125 30.421875 30.8125 \nL 19.671875 30.8125 \nL 19.671875 0 \nL 9.8125 0 \nL 9.8125 72.90625 \nL 32.078125 72.90625 \nQ 44.578125 72.90625 50.734375 67.671875 \nQ 56.890625 62.453125 56.890625 51.90625 \nQ 56.890625 45.015625 53.6875 40.46875 \nQ 50.484375 35.9375 44.390625 34.1875 \nz\nM 19.671875 64.796875 \nL 19.671875 38.921875 \nL 32.078125 38.921875 \nQ 39.203125 38.921875 42.84375 42.21875 \nQ 46.484375 45.515625 46.484375 51.90625 \nQ 46.484375 58.296875 42.84375 61.546875 \nQ 39.203125 64.796875 32.078125 64.796875 \nz\n\" id=\"DejaVuSans-82\"/>\n      <path d=\"M 18.3125 70.21875 \nL 18.3125 54.6875 \nL 36.8125 54.6875 \nL 36.8125 47.703125 \nL 18.3125 47.703125 \nL 18.3125 18.015625 \nQ 18.3125 11.328125 20.140625 9.421875 \nQ 21.96875 7.515625 27.59375 7.515625 \nL 36.8125 7.515625 \nL 36.8125 0 \nL 27.59375 0 \nQ 17.1875 0 13.234375 3.875 \nQ 9.28125 7.765625 9.28125 18.015625 \nL 9.28125 47.703125 \nL 2.6875 47.703125 \nL 2.6875 54.6875 \nL 9.28125 54.6875 \nL 9.28125 70.21875 \nz\n\" id=\"DejaVuSans-116\"/>\n     </defs>\n     <g transform=\"translate(182.5 256.416562)scale(0.1 -0.1)\">\n      <use xlink:href=\"#DejaVuSans-76\"/>\n      <use x=\"55.697266\" xlink:href=\"#DejaVuSans-101\"/>\n      <use x=\"117.220703\" xlink:href=\"#DejaVuSans-97\"/>\n      <use x=\"178.5\" xlink:href=\"#DejaVuSans-114\"/>\n      <use x=\"219.597656\" xlink:href=\"#DejaVuSans-110\"/>\n      <use x=\"282.976562\" xlink:href=\"#DejaVuSans-105\"/>\n      <use x=\"310.759766\" xlink:href=\"#DejaVuSans-110\"/>\n      <use x=\"374.138672\" xlink:href=\"#DejaVuSans-103\"/>\n      <use x=\"437.615234\" xlink:href=\"#DejaVuSans-32\"/>\n      <use x=\"469.402344\" xlink:href=\"#DejaVuSans-82\"/>\n      <use x=\"538.853516\" xlink:href=\"#DejaVuSans-97\"/>\n      <use x=\"600.132812\" xlink:href=\"#DejaVuSans-116\"/>\n      <use x=\"639.341797\" xlink:href=\"#DejaVuSans-101\"/>\n     </g>\n    </g>\n   </g>\n   <g id=\"matplotlib.axis_2\">\n    <g id=\"ytick_1\">\n     <g id=\"line2d_66\">\n      <defs>\n       <path d=\"M 0 0 \nL -3.5 0 \n\" id=\"m02cda2ad32\" style=\"stroke:#000000;stroke-width:0.8;\"/>\n      </defs>\n      <g>\n       <use style=\"stroke:#000000;stroke-width:0.8;\" x=\"50.14375\" xlink:href=\"#m02cda2ad32\" y=\"225.95407\"/>\n      </g>\n     </g>\n     <g id=\"text_9\">\n      <!-- 0.60 -->\n      <defs>\n       <path d=\"M 10.6875 12.40625 \nL 21 12.40625 \nL 21 0 \nL 10.6875 0 \nz\n\" id=\"DejaVuSans-46\"/>\n      </defs>\n      <g transform=\"translate(20.878125 229.753289)scale(0.1 -0.1)\">\n       <use xlink:href=\"#DejaVuSans-48\"/>\n       <use x=\"63.623047\" xlink:href=\"#DejaVuSans-46\"/>\n       <use x=\"95.410156\" xlink:href=\"#DejaVuSans-54\"/>\n       <use x=\"159.033203\" xlink:href=\"#DejaVuSans-48\"/>\n      </g>\n     </g>\n    </g>\n    <g id=\"ytick_2\">\n     <g id=\"line2d_67\">\n      <g>\n       <use style=\"stroke:#000000;stroke-width:0.8;\" x=\"50.14375\" xlink:href=\"#m02cda2ad32\" y=\"179.48741\"/>\n      </g>\n     </g>\n     <g id=\"text_10\">\n      <!-- 0.65 -->\n      <g transform=\"translate(20.878125 183.286629)scale(0.1 -0.1)\">\n       <use xlink:href=\"#DejaVuSans-48\"/>\n       <use x=\"63.623047\" xlink:href=\"#DejaVuSans-46\"/>\n       <use x=\"95.410156\" xlink:href=\"#DejaVuSans-54\"/>\n       <use x=\"159.033203\" xlink:href=\"#DejaVuSans-53\"/>\n      </g>\n     </g>\n    </g>\n    <g id=\"ytick_3\">\n     <g id=\"line2d_68\">\n      <g>\n       <use style=\"stroke:#000000;stroke-width:0.8;\" x=\"50.14375\" xlink:href=\"#m02cda2ad32\" y=\"133.02075\"/>\n      </g>\n     </g>\n     <g id=\"text_11\">\n      <!-- 0.70 -->\n      <defs>\n       <path d=\"M 8.203125 72.90625 \nL 55.078125 72.90625 \nL 55.078125 68.703125 \nL 28.609375 0 \nL 18.3125 0 \nL 43.21875 64.59375 \nL 8.203125 64.59375 \nz\n\" id=\"DejaVuSans-55\"/>\n      </defs>\n      <g transform=\"translate(20.878125 136.819968)scale(0.1 -0.1)\">\n       <use xlink:href=\"#DejaVuSans-48\"/>\n       <use x=\"63.623047\" xlink:href=\"#DejaVuSans-46\"/>\n       <use x=\"95.410156\" xlink:href=\"#DejaVuSans-55\"/>\n       <use x=\"159.033203\" xlink:href=\"#DejaVuSans-48\"/>\n      </g>\n     </g>\n    </g>\n    <g id=\"ytick_4\">\n     <g id=\"line2d_69\">\n      <g>\n       <use style=\"stroke:#000000;stroke-width:0.8;\" x=\"50.14375\" xlink:href=\"#m02cda2ad32\" y=\"86.554089\"/>\n      </g>\n     </g>\n     <g id=\"text_12\">\n      <!-- 0.75 -->\n      <g transform=\"translate(20.878125 90.353308)scale(0.1 -0.1)\">\n       <use xlink:href=\"#DejaVuSans-48\"/>\n       <use x=\"63.623047\" xlink:href=\"#DejaVuSans-46\"/>\n       <use x=\"95.410156\" xlink:href=\"#DejaVuSans-55\"/>\n       <use x=\"159.033203\" xlink:href=\"#DejaVuSans-53\"/>\n      </g>\n     </g>\n    </g>\n    <g id=\"ytick_5\">\n     <g id=\"line2d_70\">\n      <g>\n       <use style=\"stroke:#000000;stroke-width:0.8;\" x=\"50.14375\" xlink:href=\"#m02cda2ad32\" y=\"40.087429\"/>\n      </g>\n     </g>\n     <g id=\"text_13\">\n      <!-- 0.80 -->\n      <defs>\n       <path d=\"M 31.78125 34.625 \nQ 24.75 34.625 20.71875 30.859375 \nQ 16.703125 27.09375 16.703125 20.515625 \nQ 16.703125 13.921875 20.71875 10.15625 \nQ 24.75 6.390625 31.78125 6.390625 \nQ 38.8125 6.390625 42.859375 10.171875 \nQ 46.921875 13.96875 46.921875 20.515625 \nQ 46.921875 27.09375 42.890625 30.859375 \nQ 38.875 34.625 31.78125 34.625 \nz\nM 21.921875 38.8125 \nQ 15.578125 40.375 12.03125 44.71875 \nQ 8.5 49.078125 8.5 55.328125 \nQ 8.5 64.0625 14.71875 69.140625 \nQ 20.953125 74.21875 31.78125 74.21875 \nQ 42.671875 74.21875 48.875 69.140625 \nQ 55.078125 64.0625 55.078125 55.328125 \nQ 55.078125 49.078125 51.53125 44.71875 \nQ 48 40.375 41.703125 38.8125 \nQ 48.828125 37.15625 52.796875 32.3125 \nQ 56.78125 27.484375 56.78125 20.515625 \nQ 56.78125 9.90625 50.3125 4.234375 \nQ 43.84375 -1.421875 31.78125 -1.421875 \nQ 19.734375 -1.421875 13.25 4.234375 \nQ 6.78125 9.90625 6.78125 20.515625 \nQ 6.78125 27.484375 10.78125 32.3125 \nQ 14.796875 37.15625 21.921875 38.8125 \nz\nM 18.3125 54.390625 \nQ 18.3125 48.734375 21.84375 45.5625 \nQ 25.390625 42.390625 31.78125 42.390625 \nQ 38.140625 42.390625 41.71875 45.5625 \nQ 45.3125 48.734375 45.3125 54.390625 \nQ 45.3125 60.0625 41.71875 63.234375 \nQ 38.140625 66.40625 31.78125 66.40625 \nQ 25.390625 66.40625 21.84375 63.234375 \nQ 18.3125 60.0625 18.3125 54.390625 \nz\n\" id=\"DejaVuSans-56\"/>\n      </defs>\n      <g transform=\"translate(20.878125 43.886648)scale(0.1 -0.1)\">\n       <use xlink:href=\"#DejaVuSans-48\"/>\n       <use x=\"63.623047\" xlink:href=\"#DejaVuSans-46\"/>\n       <use x=\"95.410156\" xlink:href=\"#DejaVuSans-56\"/>\n       <use x=\"159.033203\" xlink:href=\"#DejaVuSans-48\"/>\n      </g>\n     </g>\n    </g>\n    <g id=\"text_14\">\n     <!-- Loss -->\n     <defs>\n      <path d=\"M 30.609375 48.390625 \nQ 23.390625 48.390625 19.1875 42.75 \nQ 14.984375 37.109375 14.984375 27.296875 \nQ 14.984375 17.484375 19.15625 11.84375 \nQ 23.34375 6.203125 30.609375 6.203125 \nQ 37.796875 6.203125 41.984375 11.859375 \nQ 46.1875 17.53125 46.1875 27.296875 \nQ 46.1875 37.015625 41.984375 42.703125 \nQ 37.796875 48.390625 30.609375 48.390625 \nz\nM 30.609375 56 \nQ 42.328125 56 49.015625 48.375 \nQ 55.71875 40.765625 55.71875 27.296875 \nQ 55.71875 13.875 49.015625 6.21875 \nQ 42.328125 -1.421875 30.609375 -1.421875 \nQ 18.84375 -1.421875 12.171875 6.21875 \nQ 5.515625 13.875 5.515625 27.296875 \nQ 5.515625 40.765625 12.171875 48.375 \nQ 18.84375 56 30.609375 56 \nz\n\" id=\"DejaVuSans-111\"/>\n      <path d=\"M 44.28125 53.078125 \nL 44.28125 44.578125 \nQ 40.484375 46.53125 36.375 47.5 \nQ 32.28125 48.484375 27.875 48.484375 \nQ 21.1875 48.484375 17.84375 46.4375 \nQ 14.5 44.390625 14.5 40.28125 \nQ 14.5 37.15625 16.890625 35.375 \nQ 19.28125 33.59375 26.515625 31.984375 \nL 29.59375 31.296875 \nQ 39.15625 29.25 43.1875 25.515625 \nQ 47.21875 21.78125 47.21875 15.09375 \nQ 47.21875 7.46875 41.1875 3.015625 \nQ 35.15625 -1.421875 24.609375 -1.421875 \nQ 20.21875 -1.421875 15.453125 -0.5625 \nQ 10.6875 0.296875 5.421875 2 \nL 5.421875 11.28125 \nQ 10.40625 8.6875 15.234375 7.390625 \nQ 20.0625 6.109375 24.8125 6.109375 \nQ 31.15625 6.109375 34.5625 8.28125 \nQ 37.984375 10.453125 37.984375 14.40625 \nQ 37.984375 18.0625 35.515625 20.015625 \nQ 33.0625 21.96875 24.703125 23.78125 \nL 21.578125 24.515625 \nQ 13.234375 26.265625 9.515625 29.90625 \nQ 5.8125 33.546875 5.8125 39.890625 \nQ 5.8125 47.609375 11.28125 51.796875 \nQ 16.75 56 26.8125 56 \nQ 31.78125 56 36.171875 55.265625 \nQ 40.578125 54.546875 44.28125 53.078125 \nz\n\" id=\"DejaVuSans-115\"/>\n     </defs>\n     <g transform=\"translate(14.798438 130.473906)rotate(-90)scale(0.1 -0.1)\">\n      <use xlink:href=\"#DejaVuSans-76\"/>\n      <use x=\"55.697266\" xlink:href=\"#DejaVuSans-111\"/>\n      <use x=\"116.878906\" xlink:href=\"#DejaVuSans-115\"/>\n      <use x=\"168.978516\" xlink:href=\"#DejaVuSans-115\"/>\n     </g>\n    </g>\n   </g>\n   <g id=\"line2d_71\">\n    <path clip-path=\"url(#pb88c4d525c)\" d=\"M 65.361932 140.404093 \nL 69.073683 143.691531 \nL 72.785435 144.88009 \nL 76.497187 144.87588 \nL 80.208938 145.755735 \nL 83.92069 145.296254 \nL 87.632442 142.558753 \nL 91.344193 144.551556 \nL 95.055945 144.393577 \nL 98.767697 145.351591 \nL 102.479448 145.379454 \nL 106.1912 144.038787 \nL 109.902952 142.035625 \nL 113.614703 142.990095 \nL 117.326455 142.046759 \nL 121.038207 142.569278 \nL 124.749958 142.694022 \nL 128.46171 140.426803 \nL 132.173462 140.172995 \nL 135.885213 139.381379 \nL 139.596965 139.553706 \nL 143.308717 139.184016 \nL 147.020468 139.129122 \nL 150.73222 139.664934 \nL 154.443972 139.943946 \nL 158.155723 139.677287 \nL 161.867475 140.6507 \nL 165.579227 140.963225 \nL 169.290978 140.356012 \nL 173.00273 140.265168 \nL 176.714482 139.626492 \nL 180.426233 140.369306 \nL 184.137985 140.098492 \nL 187.849737 139.868059 \nL 191.561488 140.269433 \nL 195.27324 140.123474 \nL 198.984992 139.74686 \nL 202.696743 140.488289 \nL 206.408495 141.657682 \nL 210.120247 141.846681 \nL 213.831998 141.976466 \nL 217.54375 141.976355 \nL 221.255502 143.315139 \nL 224.967253 143.442818 \nL 228.679005 144.137497 \nL 232.390757 145.278085 \nL 236.102508 145.995364 \nL 239.81426 145.405876 \nL 243.526012 146.432411 \nL 247.237763 146.080945 \nL 250.949515 148.370874 \nL 254.661267 150.838614 \nL 258.373018 153.049885 \nL 262.08477 153.897281 \nL 265.796522 154.257111 \nL 269.508273 156.074985 \nL 273.220025 157.945038 \nL 276.931777 162.178637 \nL 280.643528 166.419659 \nL 284.35528 169.580027 \nL 288.067032 174.19301 \nL 291.778783 176.402398 \nL 295.490535 181.741522 \nL 299.202287 189.25907 \nL 302.914038 197.47318 \nL 306.62579 206.411104 \nL 310.337542 213.952471 \nL 314.049293 218.256364 \nL 317.761045 195.108028 \nL 321.472797 198.102938 \nL 325.184548 185.745131 \nL 328.8963 181.615172 \nL 332.608052 188.513375 \nL 336.319803 186.85614 \nL 340.031555 179.58869 \nL 343.743307 182.545878 \nL 347.455058 172.830408 \nL 351.16681 165.445027 \nL 354.878562 138.085249 \nL 358.590313 120.885134 \nL 362.302065 108.62515 \nL 366.013817 66.376125 \nL 369.725568 20.583636 \n\" style=\"fill:none;stroke:#1f77b4;stroke-linecap:square;stroke-width:1.5;\"/>\n   </g>\n   <g id=\"patch_3\">\n    <path d=\"M 50.14375 228.14 \nL 50.14375 10.7 \n\" style=\"fill:none;stroke:#000000;stroke-linecap:square;stroke-linejoin:miter;stroke-width:0.8;\"/>\n   </g>\n   <g id=\"patch_4\">\n    <path d=\"M 384.94375 228.14 \nL 384.94375 10.7 \n\" style=\"fill:none;stroke:#000000;stroke-linecap:square;stroke-linejoin:miter;stroke-width:0.8;\"/>\n   </g>\n   <g id=\"patch_5\">\n    <path d=\"M 50.14375 228.14 \nL 384.94375 228.14 \n\" style=\"fill:none;stroke:#000000;stroke-linecap:square;stroke-linejoin:miter;stroke-width:0.8;\"/>\n   </g>\n   <g id=\"patch_6\">\n    <path d=\"M 50.14375 10.7 \nL 384.94375 10.7 \n\" style=\"fill:none;stroke:#000000;stroke-linecap:square;stroke-linejoin:miter;stroke-width:0.8;\"/>\n   </g>\n  </g>\n </g>\n <defs>\n  <clipPath id=\"pb88c4d525c\">\n   <rect height=\"217.44\" width=\"334.8\" x=\"50.14375\" y=\"10.7\"/>\n  </clipPath>\n </defs>\n</svg>\n",
      "text/plain": "<Figure size 432x288 with 1 Axes>"
     },
     "metadata": {
      "needs_background": "light"
     },
     "output_type": "display_data"
    }
   ],
   "source": [
    "learn.recorder.plot()"
   ]
  },
  {
   "cell_type": "code",
   "execution_count": 47,
   "metadata": {},
   "outputs": [
    {
     "data": {
      "text/html": "Total time: 09:35 <p><table border=\"1\" class=\"dataframe\">\n  <thead>\n    <tr style=\"text-align: left;\">\n      <th>epoch</th>\n      <th>train_loss</th>\n      <th>valid_loss</th>\n      <th>time</th>\n    </tr>\n  </thead>\n  <tbody>\n    <tr>\n      <td>0</td>\n      <td>0.564726</td>\n      <td>0.474142</td>\n      <td>01:08</td>\n    </tr>\n    <tr>\n      <td>1</td>\n      <td>0.340683</td>\n      <td>0.311388</td>\n      <td>01:06</td>\n    </tr>\n    <tr>\n      <td>2</td>\n      <td>0.317562</td>\n      <td>0.285860</td>\n      <td>01:04</td>\n    </tr>\n    <tr>\n      <td>3</td>\n      <td>0.302688</td>\n      <td>0.289350</td>\n      <td>01:17</td>\n    </tr>\n    <tr>\n      <td>4</td>\n      <td>0.293736</td>\n      <td>0.273000</td>\n      <td>01:14</td>\n    </tr>\n    <tr>\n      <td>5</td>\n      <td>0.273558</td>\n      <td>0.269189</td>\n      <td>01:11</td>\n    </tr>\n    <tr>\n      <td>6</td>\n      <td>0.274932</td>\n      <td>0.280159</td>\n      <td>01:13</td>\n    </tr>\n    <tr>\n      <td>7</td>\n      <td>0.241156</td>\n      <td>0.266507</td>\n      <td>01:18</td>\n    </tr>\n  </tbody>\n</table>",
      "text/plain": "<IPython.core.display.HTML object>"
     },
     "metadata": {},
     "output_type": "display_data"
    }
   ],
   "source": [
    "learn.fit_one_cycle(8, 5e-3)"
   ]
  },
  {
   "cell_type": "code",
   "execution_count": 48,
   "metadata": {},
   "outputs": [],
   "source": [
    "learn.save('first')"
   ]
  },
  {
   "cell_type": "code",
   "execution_count": 49,
   "metadata": {},
   "outputs": [],
   "source": [
    "learn.load('first');"
   ]
  },
  {
   "cell_type": "code",
   "execution_count": 50,
   "metadata": {},
   "outputs": [
    {
     "data": {
      "text/html": "Total time: 05:00 <p><table border=\"1\" class=\"dataframe\">\n  <thead>\n    <tr style=\"text-align: left;\">\n      <th>epoch</th>\n      <th>train_loss</th>\n      <th>valid_loss</th>\n      <th>time</th>\n    </tr>\n  </thead>\n  <tbody>\n    <tr>\n      <td>0</td>\n      <td>0.285588</td>\n      <td>0.285163</td>\n      <td>01:19</td>\n    </tr>\n    <tr>\n      <td>1</td>\n      <td>0.294625</td>\n      <td>0.277652</td>\n      <td>01:09</td>\n    </tr>\n    <tr>\n      <td>2</td>\n      <td>0.247142</td>\n      <td>0.273046</td>\n      <td>01:10</td>\n    </tr>\n    <tr>\n      <td>3</td>\n      <td>0.226931</td>\n      <td>0.268599</td>\n      <td>01:21</td>\n    </tr>\n  </tbody>\n</table>",
      "text/plain": "<IPython.core.display.HTML object>"
     },
     "metadata": {},
     "output_type": "display_data"
    }
   ],
   "source": [
    "learn.freeze_to(-2)\n",
    "learn.fit_one_cycle(4, slice(5e-3/(2.6**4),5e-3))"
   ]
  },
  {
   "cell_type": "code",
   "execution_count": 51,
   "metadata": {},
   "outputs": [],
   "source": [
    "learn.save('second')"
   ]
  },
  {
   "cell_type": "code",
   "execution_count": 52,
   "metadata": {},
   "outputs": [],
   "source": [
    "learn.load('second');"
   ]
  },
  {
   "cell_type": "code",
   "execution_count": 53,
   "metadata": {},
   "outputs": [
    {
     "data": {
      "text/html": "Total time: 06:49 <p><table border=\"1\" class=\"dataframe\">\n  <thead>\n    <tr style=\"text-align: left;\">\n      <th>epoch</th>\n      <th>train_loss</th>\n      <th>valid_loss</th>\n      <th>time</th>\n    </tr>\n  </thead>\n  <tbody>\n    <tr>\n      <td>0</td>\n      <td>0.222928</td>\n      <td>0.267204</td>\n      <td>01:50</td>\n    </tr>\n    <tr>\n      <td>1</td>\n      <td>0.217052</td>\n      <td>0.261130</td>\n      <td>01:40</td>\n    </tr>\n    <tr>\n      <td>2</td>\n      <td>0.212952</td>\n      <td>0.266570</td>\n      <td>01:27</td>\n    </tr>\n    <tr>\n      <td>3</td>\n      <td>0.194621</td>\n      <td>0.262396</td>\n      <td>01:50</td>\n    </tr>\n  </tbody>\n</table>",
      "text/plain": "<IPython.core.display.HTML object>"
     },
     "metadata": {},
     "output_type": "display_data"
    }
   ],
   "source": [
    "learn.freeze_to(-3)\n",
    "learn.fit_one_cycle(4, slice(2e-4/(2.6**4),5e-4))"
   ]
  },
  {
   "cell_type": "code",
   "execution_count": 54,
   "metadata": {},
   "outputs": [],
   "source": [
    "learn.save('third')"
   ]
  },
  {
   "cell_type": "code",
   "execution_count": 55,
   "metadata": {},
   "outputs": [],
   "source": [
    "learn.load('third');"
   ]
  },
  {
   "cell_type": "code",
   "execution_count": 56,
   "metadata": {},
   "outputs": [
    {
     "data": {
      "text/html": "Total time: 35:35 <p><table border=\"1\" class=\"dataframe\">\n  <thead>\n    <tr style=\"text-align: left;\">\n      <th>epoch</th>\n      <th>train_loss</th>\n      <th>valid_loss</th>\n      <th>time</th>\n    </tr>\n  </thead>\n  <tbody>\n    <tr>\n      <td>0</td>\n      <td>0.213668</td>\n      <td>0.264270</td>\n      <td>01:56</td>\n    </tr>\n    <tr>\n      <td>1</td>\n      <td>0.195024</td>\n      <td>0.260681</td>\n      <td>02:13</td>\n    </tr>\n    <tr>\n      <td>2</td>\n      <td>0.213369</td>\n      <td>0.260868</td>\n      <td>02:10</td>\n    </tr>\n    <tr>\n      <td>3</td>\n      <td>0.202728</td>\n      <td>0.259587</td>\n      <td>02:29</td>\n    </tr>\n    <tr>\n      <td>4</td>\n      <td>0.205875</td>\n      <td>0.262099</td>\n      <td>02:22</td>\n    </tr>\n    <tr>\n      <td>5</td>\n      <td>0.193084</td>\n      <td>0.262562</td>\n      <td>02:24</td>\n    </tr>\n    <tr>\n      <td>6</td>\n      <td>0.200186</td>\n      <td>0.261734</td>\n      <td>02:14</td>\n    </tr>\n    <tr>\n      <td>7</td>\n      <td>0.195819</td>\n      <td>0.258929</td>\n      <td>01:59</td>\n    </tr>\n    <tr>\n      <td>8</td>\n      <td>0.190878</td>\n      <td>0.270190</td>\n      <td>02:08</td>\n    </tr>\n    <tr>\n      <td>9</td>\n      <td>0.186746</td>\n      <td>0.258725</td>\n      <td>02:06</td>\n    </tr>\n    <tr>\n      <td>10</td>\n      <td>0.190832</td>\n      <td>0.267619</td>\n      <td>02:19</td>\n    </tr>\n    <tr>\n      <td>11</td>\n      <td>0.192689</td>\n      <td>0.260091</td>\n      <td>02:15</td>\n    </tr>\n    <tr>\n      <td>12</td>\n      <td>0.198400</td>\n      <td>0.260138</td>\n      <td>02:15</td>\n    </tr>\n    <tr>\n      <td>13</td>\n      <td>0.201028</td>\n      <td>0.259387</td>\n      <td>02:31</td>\n    </tr>\n    <tr>\n      <td>14</td>\n      <td>0.190198</td>\n      <td>0.263930</td>\n      <td>01:55</td>\n    </tr>\n    <tr>\n      <td>15</td>\n      <td>0.189703</td>\n      <td>0.261059</td>\n      <td>02:12</td>\n    </tr>\n  </tbody>\n</table>",
      "text/plain": "<IPython.core.display.HTML object>"
     },
     "metadata": {},
     "output_type": "display_data"
    }
   ],
   "source": [
    "learn.unfreeze()\n",
    "learn.fit_one_cycle(16, slice(2e-4/(2.6**4),5e-5))"
   ]
  },
  {
   "cell_type": "code",
   "execution_count": 57,
   "metadata": {},
   "outputs": [],
   "source": [
    "learn.save('fourth')\n",
    ""
   ]
  },
  {
   "cell_type": "code",
   "execution_count": 58,
   "metadata": {},
   "outputs": [],
   "source": [
    "learn.load('fourth');"
   ]
  },
  {
   "cell_type": "code",
   "execution_count": 59,
   "metadata": {},
   "outputs": [
    {
     "data": {
      "text/plain": "(MultiCategory 1_6,\n tensor([0., 0., 0., 0., 1., 0.]),\n tensor([1.5431e-01, 4.5781e-04, 3.4647e-02, 1.3648e-03, 9.1237e-01, 8.8873e-03]))"
     },
     "execution_count": 59,
     "metadata": {},
     "output_type": "execute_result"
    }
   ],
   "source": [
    "learn.predict(\n",
    "    \"\"\"\n",
    "PRIVILEGED AND CONFIDENTIAL - Scott Jones Draft  Attached is the draft testimony of Scott Jones. Comments should be received no later than 3:00 PM EST on Sunday, August 26. All comments and suggestions need to be in writing and can be faxed (not E-mailed) to Dan Watkiss at 202-857-2131. Also, if your suggestion is a proposed addition, please write out the exact language you would propose we incorporate into the testimony and where you would place the addition. Donald A. Kaplan, Esq. Preston Gates Ellis & Rouvelas Meeds LLP Suite 500 1735 New York Avenue, N.W. Washington, D.C. 20006 Ph: (202) 662-8466 Fax: (202) 331-1024 donk@prestongates.com (See attached file: TFG SJones Draft 8-25-01.doc)(See attached file: Exhibit STJ-6.xls)(See attached file: Exhibit STJ-3.xls)(See attached file: Exhibit STJ-4.xls)(See attached file: Exhibit STJ-5.xls)(See attached file: Exhibit STJ-2.doc) CONFIDENTIALITY NOTE: This email message is intended solely for the individual or individuals named above. It may contain confidential attorney-client privileged information and/or attorney work product. If the reader of this message is not the intended recipient, you are requested not to read, copy or distribute it or any of the information it contains. Please delete it immediately and notify the sender by return email or by telephone. Thank you. <<TFG SJones Draft 8-25-01.doc>> <<Exhibit STJ-6.xls>> <<Exhibit STJ-3.xls>> <<Exhibit STJ-4.xls>> <<Exhibit STJ-5.xls>> <<Exhibit STJ-2.doc>> - TFG SJones Draft 8-25-01.doc - Exhibit STJ-6.xls - Exhibit STJ-3.xls - Exhibit STJ-4.xls - Exhibit STJ-5.xls - Exhibit STJ-2.doc\n",
    " \"\"\" \n",
    "  \n",
    ")"
   ]
  },
  {
   "cell_type": "code",
   "execution_count": 60,
   "metadata": {},
   "outputs": [
    {
     "data": {
      "text/plain": "(MultiCategory 1_4,\n tensor([0., 0., 1., 0., 0., 0.]),\n tensor([8.8050e-02, 9.8683e-03, 9.0593e-01, 3.9858e-02, 1.2736e-03, 5.4184e-04]))"
     },
     "execution_count": 60,
     "metadata": {},
     "output_type": "execute_result"
    }
   ],
   "source": [
    "learn.predict(\n",
    "    \"\"\"\n",
    "I got a voicemail fro Ken. He would be happy to meet with Freeman. He is willing to work on other times, but suggested the following After 3:00 on May 2nd (right after Ken's speech to the RGA) or late the day before or in the morning of the second (to do this though he would have to cancel his speech to the Texas Governor's business council but he is willing to do this if necessary) His least preferred alternative in this general time frame would be early morning on the third. Jeff -- could you coordinate with Rosie to get the time and place nailed down?\n",
    " \"\"\" \n",
    "  \n",
    ")"
   ]
  },
  {
   "cell_type": "code",
   "execution_count": 61,
   "metadata": {},
   "outputs": [
    {
     "data": {
      "text/plain": "(MultiCategory 1_6,\n tensor([0., 0., 0., 0., 1., 0.]),\n tensor([6.0054e-03, 1.5552e-02, 7.8041e-02, 4.3270e-04, 9.9931e-01, 6.1111e-03]))"
     },
     "execution_count": 61,
     "metadata": {},
     "output_type": "execute_result"
    }
   ],
   "source": [
    "learn.predict(\n",
    "    \"\"\"\n",
    "Letter for Lay Signature  Rosie - please print and have signed. (Note there is a typo in the second line of the last paragraph -- does should be \"do\"). thanks \n",
    "  \n",
    " \"\"\" \n",
    "  \n",
    ")"
   ]
  },
  {
   "cell_type": "markdown",
   "execution_count": null,
   "metadata": {},
   "outputs": [],
   "source": [
    "## Classification Verification"
   ]
  },
  {
   "cell_type": "code",
   "execution_count": 62,
   "metadata": {},
   "outputs": [],
   "source": [
    "data_clas = load_data(path, 'data_clas.pkl', bs=bs)\n",
    "learn = text_classifier_learner(data_clas, AWD_LSTM, drop_mult=0.5)\n",
    "learn.load('fourth');"
   ]
  },
  {
   "cell_type": "code",
   "execution_count": 63,
   "metadata": {},
   "outputs": [],
   "source": [
    "interp = ClassificationInterpretation.from_learner(learn = learn, ds_type=DatasetType.Valid)\n",
    "losses,idxs = interp.top_losses()\n",
    "#len(data_clas.train_ds)==len(losses)==len(idxs)"
   ]
  },
  {
   "cell_type": "code",
   "execution_count": 64,
   "metadata": {},
   "outputs": [
    {
     "data": {
      "text/plain": "1596"
     },
     "execution_count": 64,
     "metadata": {},
     "output_type": "execute_result"
    }
   ],
   "source": [
    "len(losses)"
   ]
  },
  {
   "cell_type": "code",
   "execution_count": 65,
   "metadata": {},
   "outputs": [
    {
     "data": {
      "text/plain": "tensor([707])"
     },
     "execution_count": 65,
     "metadata": {},
     "output_type": "execute_result"
    }
   ],
   "source": [
    "losses,idxs = interp.top_losses(k=1)\n",
    "idxs\n",
    ""
   ]
  },
  {
   "cell_type": "code",
   "execution_count": 66,
   "metadata": {},
   "outputs": [
    {
     "data": {
      "text/plain": "266"
     },
     "execution_count": 66,
     "metadata": {},
     "output_type": "execute_result"
    }
   ],
   "source": [
    "preds,y,losses = learn.get_preds(with_loss=True)\n",
    "interp = ClassificationInterpretation(learn, preds, y, losses)\n",
    "len(preds)"
   ]
  },
  {
   "cell_type": "code",
   "execution_count": 67,
   "metadata": {},
   "outputs": [
    {
     "ename": "RuntimeError",
     "evalue": "Expected object of scalar type Float but got scalar type Long for argument #2 'other'",
     "output_type": "error",
     "traceback": [
      "\u001b[0;31m---------------------------------------------------------------------------\u001b[0m",
      "\u001b[0;31mRuntimeError\u001b[0m                              Traceback (most recent call last)",
      "\u001b[0;32m<ipython-input-67-f05b1019acb7>\u001b[0m in \u001b[0;36m<module>\u001b[0;34m\u001b[0m\n\u001b[0;32m----> 1\u001b[0;31m \u001b[0minterp\u001b[0m\u001b[0;34m.\u001b[0m\u001b[0mconfusion_matrix\u001b[0m\u001b[0;34m(\u001b[0m\u001b[0;34m)\u001b[0m\u001b[0;34m\u001b[0m\u001b[0;34m\u001b[0m\u001b[0m\n\u001b[0m",
      "\u001b[0;32m~/anaconda3/envs/fastaiv3/lib/python3.7/site-packages/fastai/train.py\u001b[0m in \u001b[0;36mconfusion_matrix\u001b[0;34m(self, slice_size)\u001b[0m\n\u001b[1;32m    175\u001b[0m             \u001b[0;32mfor\u001b[0m \u001b[0mi\u001b[0m \u001b[0;32min\u001b[0m \u001b[0mrange\u001b[0m\u001b[0;34m(\u001b[0m\u001b[0;36m0\u001b[0m\u001b[0;34m,\u001b[0m \u001b[0mself\u001b[0m\u001b[0;34m.\u001b[0m\u001b[0my_true\u001b[0m\u001b[0;34m.\u001b[0m\u001b[0mshape\u001b[0m\u001b[0;34m[\u001b[0m\u001b[0;36m0\u001b[0m\u001b[0;34m]\u001b[0m\u001b[0;34m,\u001b[0m \u001b[0mslice_size\u001b[0m\u001b[0;34m)\u001b[0m\u001b[0;34m:\u001b[0m\u001b[0;34m\u001b[0m\u001b[0;34m\u001b[0m\u001b[0m\n\u001b[1;32m    176\u001b[0m                 cm_slice = ((self.pred_class[i:i+slice_size]==x[:,None])\n\u001b[0;32m--> 177\u001b[0;31m                             & (self.y_true[i:i+slice_size]==x[:,None,None])).sum(2)\n\u001b[0m\u001b[1;32m    178\u001b[0m                 \u001b[0mtorch\u001b[0m\u001b[0;34m.\u001b[0m\u001b[0madd\u001b[0m\u001b[0;34m(\u001b[0m\u001b[0mcm\u001b[0m\u001b[0;34m,\u001b[0m \u001b[0mcm_slice\u001b[0m\u001b[0;34m,\u001b[0m \u001b[0mout\u001b[0m\u001b[0;34m=\u001b[0m\u001b[0mcm\u001b[0m\u001b[0;34m)\u001b[0m\u001b[0;34m\u001b[0m\u001b[0;34m\u001b[0m\u001b[0m\n\u001b[1;32m    179\u001b[0m         \u001b[0;32mreturn\u001b[0m \u001b[0mto_np\u001b[0m\u001b[0;34m(\u001b[0m\u001b[0mcm\u001b[0m\u001b[0;34m)\u001b[0m\u001b[0;34m\u001b[0m\u001b[0;34m\u001b[0m\u001b[0m\n",
      "\u001b[0;31mRuntimeError\u001b[0m: Expected object of scalar type Float but got scalar type Long for argument #2 'other'"
     ]
    }
   ],
   "source": [
    "interp.confusion_matrix()"
   ]
  },
  {
   "cell_type": "code",
   "execution_count": 0,
   "metadata": {},
   "outputs": [],
   "source": [
    "losses,idxs"
   ]
  },
  {
   "cell_type": "code",
   "execution_count": 0,
   "metadata": {},
   "outputs": [],
   "source": [
    "interp.plot_confusion_matrix(figsize=(7,7), dpi=600)"
   ]
  },
  {
   "cell_type": "code",
   "execution_count": 0,
   "metadata": {},
   "outputs": [],
   "source": [
    "learn.model"
   ]
  },
  {
   "cell_type": "code",
   "execution_count": 0,
   "metadata": {},
   "outputs": [],
   "source": [
    "def list2arr(l):\n",
    "    \"Convert list into pytorch Variable.\"\n",
    "    return torch.LongTensor(np.expand_dims(np.array(l), -1)).cuda()\n",
    "\n",
    "def make_prediction_from_list(model, l):\n",
    "    \"\"\"\n",
    "    Encode a list of integers that represent a sequence of tokens.  The\n",
    "    purpose is to encode a sentence or phrase.\n",
    "\n",
    "    Parameters\n",
    "    -----------\n",
    "    model : fastai language model\n",
    "    l : list\n",
    "        list of integers, representing a sequence of tokens that you want to encode\n",
    "\n",
    "    \"\"\"\n",
    "    arr = list2arr(l)# turn list into pytorch Variable with bs=1\n",
    "    model.reset()  # language model is stateful, so you must reset upon each prediction\n",
    "    hidden_states = model(arr)[-1][-1] # RNN Hidden Layer output is last output, and only need the last layer\n",
    "\n",
    "    #return avg-pooling, max-pooling, and last hidden state\n",
    "    return hidden_states.mean(0), hidden_states.max(0)[0], hidden_states[-1]\n",
    "\n",
    "def getDocumentEmbedding(txt, model):\n",
    "    x,y = data_lm.one_item(txt)\n",
    "    avg_hs, max_hs, last_hs = make_prediction_from_list(model, x[0])\n",
    "    v_s = (avg_hs[0]).cpu().detach().numpy()\n",
    "    return (v_s)"
   ]
  },
  {
   "cell_type": "code",
   "execution_count": 0,
   "metadata": {},
   "outputs": [],
   "source": [
    "ds = [d[0].data for d in data_clas.train_ds]"
   ]
  },
  {
   "cell_type": "code",
   "execution_count": 0,
   "metadata": {},
   "outputs": [],
   "source": [
    "ds"
   ]
  },
  {
   "cell_type": "code",
   "execution_count": 0,
   "metadata": {},
   "outputs": [],
   "source": [
    "df_hs = []\n",
    "targets = []\n",
    "for d in ds:\n",
    "    avg_hs, max_hs, last_hs = make_prediction_from_list(learn.model, d)\n",
    "    df_hs.append(avg_hs.cpu().detach().numpy()[0].tolist())"
   ]
  },
  {
   "cell_type": "code",
   "execution_count": 0,
   "metadata": {},
   "outputs": [],
   "source": [
    "from sklearn.decomposition import PCA\n",
    "pca = PCA(n_components=2)\n",
    "principalComponents = pca.fit_transform(pd.DataFrame(df_hs))\n",
    "principalDf = pd.DataFrame(data = principalComponents\n",
    "             , columns = ['principal component 1', 'principal component 2'])"
   ]
  },
  {
   "cell_type": "code",
   "execution_count": 0,
   "metadata": {},
   "outputs": [],
   "source": [
    "principalDf"
   ]
  },
  {
   "cell_type": "code",
   "execution_count": 0,
   "metadata": {},
   "outputs": [],
   "source": [
    "fig = plt.figure(figsize = (8,8))\n",
    "ax = fig.add_subplot(1,1,1) \n",
    "ax.set_xlabel('Principal Component 1', fontsize = 15)\n",
    "ax.set_ylabel('Principal Component 2', fontsize = 15)\n",
    "ax.set_title('2 component PCA', fontsize = 20)\n",
    "ax.scatter(principalDf['principal component 1']\n",
    "               , principalDf['principal component 2']\n",
    "               , s = 50)\n",
    "ax.grid()"
   ]
  },
  {
   "cell_type": "code",
   "execution_count": 0,
   "metadata": {},
   "outputs": [],
   "source": [
    "from gensim.summarization.summarizer import summarize"
   ]
  },
  {
   "cell_type": "code",
   "execution_count": 0,
   "metadata": {},
   "outputs": [],
   "source": [
    "df.text[0]"
   ]
  },
  {
   "cell_type": "code",
   "execution_count": 0,
   "metadata": {},
   "outputs": [],
   "source": [
    "txt = df.text[5]\n",
    "print(txt)\n",
    "print(\"--------------------------------------------\")\n",
    "print(summarize(txt, word_count=50))"
   ]
  },
  {
   "cell_type": "code",
   "execution_count": 0,
   "metadata": {},
   "outputs": [],
   "source": [
    "text = \"\"\"\n",
    "\n",
    "\"\"\""
   ]
  },
  {
   "cell_type": "code",
   "execution_count": 0,
   "metadata": {},
   "outputs": [],
   "source": [
    "import re\n",
    "text = df.text[100]\n",
    "\n",
    "e = re.sub('\\n+','\\n',re.sub('\\.+','.',re.sub('[^A-Za-z0-9;:. \\n\\']+', '', text)))\n",
    "print(summarize(e, word_count=50))"
   ]
  },
  {
   "cell_type": "markdown",
   "execution_count": null,
   "metadata": {},
   "outputs": [],
   "source": [
    "## Create vector files"
   ]
  },
  {
   "cell_type": "markdown",
   "execution_count": null,
   "metadata": {},
   "outputs": [],
   "source": [
    "### "
   ]
  },
  {
   "cell_type": "code",
   "execution_count": 0,
   "metadata": {},
   "outputs": [],
   "source": [
    "import pandas as pd\n",
    "from fastai.text import *\n",
    "from pathlib import Path\n",
    "import numpy as np, pandas as pd\n",
    "import chardet\n",
    "import random\n",
    "import torch\n",
    "import logging"
   ]
  },
  {
   "cell_type": "code",
   "execution_count": 0,
   "metadata": {},
   "outputs": [],
   "source": [
    "nm_dataset = \"Enron_emails\"\n",
    "nm_content = \"email_rec_vec.csv\"\n",
    "nm_contact = \"contacts.csv\"\n",
    "path = Path(\"../data\")"
   ]
  },
  {
   "cell_type": "code",
   "execution_count": 0,
   "metadata": {},
   "outputs": [],
   "source": [
    "df = pd.read_csv(path.joinpath(\"Enron_emails\").joinpath(nm_content))\n",
    "df.head(1)"
   ]
  },
  {
   "cell_type": "code",
   "execution_count": 0,
   "metadata": {},
   "outputs": [],
   "source": [
    "def list2arr(l):\n",
    "    \"Convert list into pytorch Variable.\"\n",
    "    return torch.LongTensor(np.expand_dims(np.array(l), -1)).cuda()\n",
    "\n",
    "def make_prediction_from_list(model, l):\n",
    "    \"\"\"\n",
    "    Encode a list of integers that represent a sequence of tokens.  The\n",
    "    purpose is to encode a sentence or phrase.\n",
    "\n",
    "    Parameters\n",
    "    -----------\n",
    "    model : fastai language model\n",
    "    l : list\n",
    "        list of integers, representing a sequence of tokens that you want to encode\n",
    "\n",
    "    \"\"\"\n",
    "    arr = list2arr(l)# turn list into pytorch Variable with bs=1\n",
    "    model.reset()  # language model is stateful, so you must reset upon each prediction\n",
    "    hidden_states = model(arr)[-1][-1] # RNN Hidden Layer output is last output, and only need the last layer\n",
    "\n",
    "    #return avg-pooling, max-pooling, and last hidden state\n",
    "    return hidden_states.mean(0), hidden_states.max(0)[0], hidden_states[-1]\n",
    "\n",
    "def getDocumentEmbedding(txt, model, data_lm):\n",
    "    x,y = data_lm.one_item(txt)\n",
    "    avg_hs, max_hs, last_hs = make_prediction_from_list(model, x[0])\n",
    "    v_s = (avg_hs[0]).cpu().detach().numpy()\n",
    "    return (v_s)"
   ]
  },
  {
   "cell_type": "code",
   "execution_count": 0,
   "metadata": {},
   "outputs": [],
   "source": [
    "bs=8\n",
    "path.joinpath(\"tmp\").ls()"
   ]
  },
  {
   "cell_type": "code",
   "execution_count": 0,
   "metadata": {},
   "outputs": [],
   "source": [
    "data_clas = load_data(path.joinpath(\"tmp\"), 'data_clas.pkl', bs=bs)\n",
    "learn = text_classifier_learner(data_clas, AWD_LSTM, drop_mult=0.6)\n",
    "learn.load('fourth');"
   ]
  },
  {
   "cell_type": "code",
   "execution_count": 0,
   "metadata": {},
   "outputs": [],
   "source": [
    "len(df.text.iloc[156])"
   ]
  },
  {
   "cell_type": "code",
   "execution_count": 0,
   "metadata": {},
   "outputs": [],
   "source": [
    "g = [getDocumentEmbedding(e[:5000], learn.model,  data_clas) for e in df.text]\n",
    "df_vec = pd.DataFrame(g)\n",
    "df1 = pd.merge(df,df_vec, left_index = True, right_index=True)"
   ]
  },
  {
   "cell_type": "code",
   "execution_count": 0,
   "metadata": {},
   "outputs": [],
   "source": [
    "import re\n",
    "import math\n",
    "rrly = []\n",
    "for e in df1.reply:    \n",
    "    if (str(e)==\"nan\"):\n",
    "        rrly.append(\"\")\n",
    "    else:\n",
    "        rrly.append(re.sub(r'\\n+', '\\n', str(e)).strip())\n",
    "df1.reply = rrly\n",
    "df1.to_csv(path.joinpath(\"Enron_emails\").joinpath(\"email_rec_vec.csv\"), index=False)"
   ]
  },
  {
   "cell_type": "code",
   "execution_count": 0,
   "metadata": {},
   "outputs": [],
   "source": [
    "path.joinpath(\"Enron_emails\").joinpath(\"email_rec_vec.csv\")\n",
    ""
   ]
  },
  {
   "cell_type": "code",
   "execution_count": 0,
   "metadata": {},
   "outputs": [],
   "source": [
    "df_tmp"
   ]
  },
  {
   "cell_type": "code",
   "execution_count": 0,
   "metadata": {},
   "outputs": [],
   "source": [
    "lbl_unique"
   ]
  }
 ],
 "metadata": {
  "kernelspec": {
   "display_name": "Python (fastai)",
   "language": "python",
   "name": "wsfastai"
  },
  "language_info": {
   "codemirror_mode": {
    "name": "ipython",
    "version": 3
   },
   "file_extension": ".py",
   "mimetype": "text/x-python",
   "name": "python",
   "nbconvert_exporter": "python",
   "pygments_lexer": "ipython3",
   "version": "3.6.7-final"
  }
 },
 "nbformat": 4,
 "nbformat_minor": 2
}