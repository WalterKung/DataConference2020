{
 "nbformat": 4,
 "nbformat_minor": 2,
 "metadata": {
  "language_info": {
   "name": "python",
   "codemirror_mode": {
    "name": "ipython",
    "version": 3
   },
   "version": "3.7.3-final"
  },
  "orig_nbformat": 2,
  "file_extension": ".py",
  "mimetype": "text/x-python",
  "name": "python",
  "npconvert_exporter": "python",
  "pygments_lexer": "ipython3",
  "version": 3,
  "kernelspec": {
   "name": "python37364bitfastaiv3condaefaa6efe6d6a4eb7a2b01d782df4d431",
   "display_name": "Python 3.7.3 64-bit ('fastaiv3': conda)"
  }
 },
 "cells": [
  {
   "cell_type": "code",
   "execution_count": 2,
   "metadata": {},
   "outputs": [
    {
     "data": {
      "text/html": "<div>\n<style scoped>\n    .dataframe tbody tr th:only-of-type {\n        vertical-align: middle;\n    }\n\n    .dataframe tbody tr th {\n        vertical-align: top;\n    }\n\n    .dataframe thead th {\n        text-align: right;\n    }\n</style>\n<table border=\"1\" class=\"dataframe\">\n  <thead>\n    <tr style=\"text-align: right;\">\n      <th></th>\n      <th>ID</th>\n      <th>symbol</th>\n      <th>descript</th>\n      <th>exchange</th>\n    </tr>\n  </thead>\n  <tbody>\n    <tr>\n      <th>0</th>\n      <td>21480311</td>\n      <td>A</td>\n      <td>ARMOR MINERALS INC.</td>\n      <td>TOR-V</td>\n    </tr>\n    <tr>\n      <th>1</th>\n      <td>96768</td>\n      <td>AC</td>\n      <td>AIR CANADA</td>\n      <td>TOR</td>\n    </tr>\n    <tr>\n      <th>2</th>\n      <td>26050555</td>\n      <td>AD</td>\n      <td>ALARIS ROYALTY CORP</td>\n      <td>TOR</td>\n    </tr>\n    <tr>\n      <th>3</th>\n      <td>31349</td>\n      <td>AF</td>\n      <td>ALARMFORCE</td>\n      <td>TOR</td>\n    </tr>\n    <tr>\n      <th>4</th>\n      <td>69675825</td>\n      <td>AI</td>\n      <td>ATRIUM MORTGAGE INVESTMENT CORPORATION</td>\n      <td>TOR</td>\n    </tr>\n  </tbody>\n</table>\n</div>",
      "text/plain": "         ID symbol                                descript exchange\n0  21480311      A                     ARMOR MINERALS INC.    TOR-V\n1     96768     AC                              AIR CANADA      TOR\n2  26050555     AD                     ALARIS ROYALTY CORP      TOR\n3     31349     AF                              ALARMFORCE      TOR\n4  69675825     AI  ATRIUM MORTGAGE INVESTMENT CORPORATION      TOR"
     },
     "execution_count": 2,
     "metadata": {},
     "output_type": "execute_result"
    }
   ],
   "source": [
    "import sqlite3\n",
    "import pandas as pd\n",
    "\n",
    "def create_connection(db_file):\n",
    "    \"\"\" create a database connection to the SQLite database\n",
    "        specified by the db_file\n",
    "    :param db_file: database file\n",
    "    :return: Connection object or None\n",
    "    \"\"\"\n",
    "    conn = None\n",
    "    try:\n",
    "        conn = sqlite3.connect(db_file)\n",
    "    except Error as e:\n",
    "        print(e)\n",
    " \n",
    "    return conn\n",
    "\n",
    "def getNews(conn):\n",
    "    \"\"\"\n",
    "    :param conn: the Connection object\n",
    "    :tablename\n",
    "    :return: df\n",
    "    \"\"\"\n",
    "    query = '''\n",
    "    select \n",
    "        a.id,\n",
    "\t    a.symbol, \n",
    "\t    a.descript, \n",
    "        a.exchange\n",
    "    from \n",
    "\t    stock_master as a\n",
    "    '''\n",
    "    return pd.read_sql_query(query, conn)\n",
    "\n",
    "conn = create_connection(\"./data/test.db\")\n",
    "df = getNews(conn)\n",
    "df.head()"
   ]
  },
  {
   "cell_type": "code",
   "execution_count": 3,
   "metadata": {},
   "outputs": [
    {
     "data": {
      "text/plain": "{'TOR', 'TOR-V'}"
     },
     "execution_count": 3,
     "metadata": {},
     "output_type": "execute_result"
    }
   ],
   "source": [
    "set(df.exchange)"
   ]
  },
  {
   "cell_type": "code",
   "execution_count": 4,
   "metadata": {},
   "outputs": [
    {
     "data": {
      "text/html": "<div>\n<style scoped>\n    .dataframe tbody tr th:only-of-type {\n        vertical-align: middle;\n    }\n\n    .dataframe tbody tr th {\n        vertical-align: top;\n    }\n\n    .dataframe thead th {\n        text-align: right;\n    }\n</style>\n<table border=\"1\" class=\"dataframe\">\n  <thead>\n    <tr style=\"text-align: right;\">\n      <th></th>\n      <th>ID</th>\n      <th>symbol</th>\n      <th>descript</th>\n      <th>exchange</th>\n      <th>ticket</th>\n    </tr>\n  </thead>\n  <tbody>\n    <tr>\n      <th>0</th>\n      <td>21480311</td>\n      <td>A</td>\n      <td>ARMOR MINERALS INC.</td>\n      <td>TOR-V</td>\n      <td>A.V</td>\n    </tr>\n    <tr>\n      <th>1</th>\n      <td>96768</td>\n      <td>AC</td>\n      <td>AIR CANADA</td>\n      <td>TOR</td>\n      <td>AC.TO</td>\n    </tr>\n    <tr>\n      <th>2</th>\n      <td>26050555</td>\n      <td>AD</td>\n      <td>ALARIS ROYALTY CORP</td>\n      <td>TOR</td>\n      <td>AD.TO</td>\n    </tr>\n    <tr>\n      <th>3</th>\n      <td>31349</td>\n      <td>AF</td>\n      <td>ALARMFORCE</td>\n      <td>TOR</td>\n      <td>AF.TO</td>\n    </tr>\n    <tr>\n      <th>4</th>\n      <td>69675825</td>\n      <td>AI</td>\n      <td>ATRIUM MORTGAGE INVESTMENT CORPORATION</td>\n      <td>TOR</td>\n      <td>AI.TO</td>\n    </tr>\n    <tr>\n      <th>5</th>\n      <td>32660811</td>\n      <td>AR</td>\n      <td>ARGONAUT GOLD LTD</td>\n      <td>TOR</td>\n      <td>AR.TO</td>\n    </tr>\n    <tr>\n      <th>6</th>\n      <td>24512696</td>\n      <td>AZ</td>\n      <td>ARIZONA MINING INC</td>\n      <td>TOR</td>\n      <td>AZ.TO</td>\n    </tr>\n    <tr>\n      <th>7</th>\n      <td>21503032</td>\n      <td>AAB</td>\n      <td>ABERDEEN INTL INC</td>\n      <td>TOR</td>\n      <td>AAB.TO</td>\n    </tr>\n    <tr>\n      <th>8</th>\n      <td>29945393</td>\n      <td>AAV</td>\n      <td>ADVANTAGE OIL &amp; GAS LTD</td>\n      <td>TOR</td>\n      <td>AAV.TO</td>\n    </tr>\n    <tr>\n      <th>9</th>\n      <td>13481030</td>\n      <td>ABT</td>\n      <td>ABSOLUTE SOFTWARE</td>\n      <td>TOR</td>\n      <td>ABT.TO</td>\n    </tr>\n  </tbody>\n</table>\n</div>",
      "text/plain": "         ID symbol                                descript exchange  ticket\n0  21480311      A                     ARMOR MINERALS INC.    TOR-V     A.V\n1     96768     AC                              AIR CANADA      TOR   AC.TO\n2  26050555     AD                     ALARIS ROYALTY CORP      TOR   AD.TO\n3     31349     AF                              ALARMFORCE      TOR   AF.TO\n4  69675825     AI  ATRIUM MORTGAGE INVESTMENT CORPORATION      TOR   AI.TO\n5  32660811     AR                       ARGONAUT GOLD LTD      TOR   AR.TO\n6  24512696     AZ                      ARIZONA MINING INC      TOR   AZ.TO\n7  21503032    AAB                       ABERDEEN INTL INC      TOR  AAB.TO\n8  29945393    AAV                 ADVANTAGE OIL & GAS LTD      TOR  AAV.TO\n9  13481030    ABT                       ABSOLUTE SOFTWARE      TOR  ABT.TO"
     },
     "execution_count": 4,
     "metadata": {},
     "output_type": "execute_result"
    }
   ],
   "source": [
    "def get_ticket(symbol, exchange):\n",
    "    ticket = ''\n",
    "    if not ('.' in symbol):\n",
    "        if exchange == \"TOR-V\":\n",
    "            ticket = symbol + \".V\"\n",
    "        else:\n",
    "            ticket = symbol + \".TO\"\n",
    "    return ticket\n",
    "\n",
    "ticket = [get_ticket(s,x) for (s,x) in zip(df.symbol, df.exchange)]\n",
    "df['ticket'] = ticket\n",
    "df.head(10)"
   ]
  },
  {
   "cell_type": "code",
   "execution_count": 12,
   "metadata": {},
   "outputs": [
    {
     "name": "stdout",
     "output_type": "stream",
     "text": "& Mining:Basic Materials\nNGH.V::\n::\nTTR.V:Integrated Freight & Logistics:Industrials\nCPA.V::\n::\n::\nTVR.V::\nCXV.V::\nXI.V::\n::\nIMT.V:Other Industrial Metals & Mining:Basic Materials\nMON.V:Other Industrial Metals & Mining:Basic Materials\nSDZ.V::\n::\nEHT.V:Solar:Technology\n::\n::\nGBD.V::\nBUS.V:Auto Manufacturers:Consumer Cyclical\n::\nNOU.V:Other Industrial Metals & Mining:Basic Materials\nSGB.V::\n::\nQXP.V::\nGAR.V::\nKWA.V::\nSME.V:Other Industrial Metals & Mining:Basic Materials\n::\n::\nEEN.V::\n::\nTWM.V::\n::\nBEE.V:Agricultural Inputs:Basic Materials\n::\n::\n::\n::\n::\n::\n::\n::\n::\nSYN.V::\nISSUV.V::\nISSUH.V::\nB.V:Other Industrial Metals & Mining:Basic Materials\nBR.TO:Beverages—Brewers:Consumer Defensive\nBX.TO::\nBCB.TO:Beverages—Non-Alcoholic:Consumer Defensive\nBCE.TO:Telecom Services:Communication Services\nBDT.TO:Engineering & Construction:Industrials\nBIR.TO:Oil & Gas E&P:Energy\nBKX.TO:Oil & Gas E&P:Energy\nBRB.TO::\nBRY.TO:Oil & Gas Equipment & Services:Energy\nBSC.TO::\nBSX.TO:Gold:Basic Materials\nBTO.TO:Gold:Basic Materials\nBUI.TO:Farm & Heavy Construction Machinery:Industrials\nBXO.TO::\n::\n::\n::\n::\n::\n::\n::\n::\n::\n::\n::\n::\n::\n::\n::\n::\n::\n::\n::\n::\n::\n::\n::\n::\n::\n::\n::\n::\n::\n::\n::\n::\n::\n::\n::\n::\n::\n::\nTMB.TO::\n::\nENB.TO:Oil & Gas Midstream:Energy\n::\nPFB.TO:Building Products & Equipment:Industrials\n::\n::\nGBT.TO:Specialty Retail:Consumer Cyclical\nDOO.TO:Recreational Vehicles:Consumer Cyclical\nNBD.TO::\nORL.TO:Other Industrial Metals & Mining:Basic Materials\nIBG.TO:Engineering & Construction:Industrials\nONC.TO:Biotechnology:Healthcare\nMBX.TO:Biotechnology:Healthcare\n::\nKBL.TO:Specialty Business Services:Industrials\nDBO.TO:Consumer Electronics:Technology\nGEI.TO:Oil & Gas Midstream:Energy\nCFF.TO:Lumber & Wood Production:Basic Materials\nGPS.TO::\nENF.TO::\n::\n::\n::\n::\n::\n::\n::\n::\n::\n::\n::\nTBE.TO::\n::\n::\n::\nORT.TO::\n::\nSGQ.TO:Thermal Coal:Energy\nSVB.TO:Other Industrial Metals & Mining:Basic Materials\n::\nLCS.TO:Asset Management:Financial Services\n::\n::\n::\n::\n::\n::\n::\n::\nGMX.TO:Other Industrial Metals & Mining:Basic Materials\n::\n::\n::\n::\n::\n::\n::\n::\n::\n::\n::\n::\n::\n::\n::\n::\n::\n::\n::\n::\n::\n::\n::\n::\n::\nBM.V::\nBZ.V:Other Industrial Metals & Mining:Basic Materials\nBCG.V::\nBCK.V:Other Industrial Metals & Mining:Basic Materials\nBEA.V:Other Industrial Metals & Mining:Basic Materials\nBEL.V::\nBER.V::\nBEW.V:Communication Equipment:Technology\nBEX.V:Other Industrial Metals & Mining:Basic Materials\nBFM.V::\nBGD.V::\nBHK.V::\nBIO.V::\nBKR.V:Other Industrial Metals & Mining:Basic Materials\nBOL.V:Other Industrial Metals & Mining:Basic Materials\nBOR.V::\nBPE.V::\nBQE.V:Waste Management:Industrials\nBRM.V:Pollution & Treatment Controls:Industrials\nBRS.V:Oil & Gas E&P:Energy\nBRU.V:Other Industrial Metals & Mining:Basic Materials\nBSP.V::\nBSR.V:Other Industrial Metals & Mining:Basic Materials\nBTL.V::\nBTT.V:Other Industrial Metals & Mining:Basic Materials\nBVE.V::\nBXR.V:Copper:Basic Materials\n::\n::\n::\n::\n::\nSGW.V::\n::\n::\nGB.V:Restaurants:Consumer Cyclical\nGMN.V:Asset Management:Financial Services\nGDN.V::\nRX.V:Drug Manufacturers—Specialty & Generic:Healthcare\nXAU.V::\nCBJ.V::\nMTC.V:Gold:Basic Materials\nTRB.V::\n::\nMCC.V::\n::\nKUB.V:Oil & Gas E&P:Energy\nRBX.V:Gold:Basic Materials\nTEM.V:Gold:Basic Materials\nEXG.V:Other Industrial Metals & Mining:Basic Materials\nEBN.V::\nCMX.V:Other Industrial Metals & Mining:Basic Materials\nJFI.V::\nMBI.V::\nRUG.V:Other Industrial Metals & Mining:Basic Materials\nNSC.V::\nNBU.V::\n::\nVGD.V:Gold:Basic Materials\nWCB.V::\n::\n::\nCBI.V:Other Industrial Metals & Mining:Basic Materials\nHPI.V:Other Industrial Metals & Mining:Basic Materials\nMOC.V::\n::\nFIX.V:Gold:Basic Materials\nIBT.V:Biotechnology:Healthcare\nRB.V::\nWEB.V::\nMBO.V:Software—Application:Technology\nSY.V::\nOBN.V::\n::\n::\nRBE.V::\nTBR.V:Gold:Basic Materials\nWBE.V:Paper & Paper Products:Basic Materials\nIMU.V::\nCBX.V::\nGBB.V::\nCNU.TO:Oil & Gas E&P:Energy\nMRU.TO:Grocery Stores:Consumer Defensive\nUWE.TO:Other Industrial Metals & Mining:Basic Materials\n::\n::\n::\n::\nFTS.TO:Utilities—Regulated Electric:Utilities\nMCB.TO:Oil & Gas Equipment & Services:Energy\n::\n::\nENT.TO:Trucking:Industrials\nNLN.TO::\nCGX.TO:Entertainment:Communication Services\nEFX.TO:Oil & Gas Equipment & Services:Energy\nNGD.TO:Gold:Basic Materials\nPER.TO::\nSXP.TO:Packaging & Containers:Consumer Cyclical\nKPT.TO:Household & Personal Products:Consumer Defensive\nSQP.TO:Industrial Distribution:Industrials\nLMP.TO::\nRMP.TO::\nGCT.TO:Publishing:Communication Services\n::\nLUG.TO:Gold:Basic Materials\nMEG.TO:Oil & Gas E&P:Energy\nSHR.TO::\nECO.TO:Specialty Chemicals:Basic Materials\nEFR.TO:Uranium:Energy\nNXJ.TO:Software—Application:Technology\nSGY.TO:Oil & Gas E&P:Energy\nVXS.TO::\nK.TO:Gold:Basic Materials\nMUX.TO:Other Precious Metals & Mining:Basic Materials\nOMI.TO:Gold:Basic Materials\nTMM.TO::\nEPS.TO::\nJOY.TO:Oil & Gas E&P:Energy\nPRU.TO:Gold:Basic Materials\nSCU.TO:Restaurants:Consumer Cyclical\nSEN.TO::\nSPB.TO:Utilities—Regulated Gas:Utilities\nLVN.TO::\nTET.TO::\nCPI.TO:Oil & Gas E&P:Energy\n::\n::\nGGD.TO:Other Precious Metals & Mining:Basic Materials\nJE.TO:Utilities—Diversified:Utilities\nPGF.TO::\nPVG.TO:Gold:Basic Materials\nCNT.TO:Other Industrial Metals & Mining:Basic Materials\nNFI.TO:Auto Manufacturers:Consumer Cyclical\n::\n::\n::\nSES.TO:Oil & Gas Equipment & Services:Energy\nHNL.TO:Specialty Business Services:Industrials\nNPS.TO::\nOXC.TO:Oil & Gas E&P:Energy\n::\n::\n::\n::\nRFP.TO:Paper & Paper Products:Basic Materials\nTRQ.TO:Copper:Basic Materials\n::\nDS.TO:Asset Management:Financial Services\n::\n::\n::\nUS.TO::\nEQ.V:Advertising Agencies:Communication Services\nLRN.V::\nEXO.V::\nOEE.V:Software—Application:Technology\nGOK.V:Telecom Services:Communication Services\nNOV.V::\nOPS.V::\nSLC.V::\nVGO.V::\nTIN.V::\n::\nSYD.V::\nUGD.V:Gold:Basic Materials\nLTV.V:Software—Application:Technology\nNXG.V:Healthcare Plans:Healthcare\nMFS.V:Biotechnology:Healthcare\n::\nSYI.V::\n::\nSCR.V:Electronic Gaming & Multimedia:Communication Services\nIOT.V:Biotechnology:Healthcare\nNQ.V::\n::\nOOO.V:Gold:Basic Materials\nPRD.V::\nSCG.V::\nTMV.V::\nECC.V:Gold:Basic Materials\nIFD.V::\nMXI.V::\nPCQ.V:Oil & Gas E&P:Energy\nSDC.V:Other Precious Metals & Mining:Basic Materials\nFUU.V:Other Industrial Metals & Mining:Basic Materials\nHXC.V:Other Industrial Metals & Mining:Basic Materials\nHMX.V::\nKGC.V:Gold:Basic Materials\n::\nCRX.V::\nCWM.V:Other Industrial Metals & Mining:Basic Materials\nEV.V:Other Industrial Metals & Mining:Basic Materials\nKR.V::\n::\nPJX.V:Other Industrial Metals & Mining:Basic Materials\nPGX.V:Other Industrial Metals & Mining:Basic Materials\nRML.V:Gold:Basic Materials\nSXR.V::\nUTY.V::\nWPQ.V::\nXIM.V:Gold:Basic Materials\nIRI.V:Other Industrial Metals & Mining:Basic Materials\nIGD.V::\n::\nLVL.V::\nNFE.V::\nRER.V::\nCOQ.V::\nSG.V::\n::\n::\nGRM.V::\nMAN.V::\nMMY.V:Gold:Basic Materials\nNVO.V:Gold:Basic Materials\nOCO.V:Other Industrial Metals & Mining:Basic Materials\n::\n::\nRRK.V::\n::\n::\nTWR.V:Other Industrial Metals & Mining:Basic Materials\nTGX.V:Other Precious Metals & Mining:Basic Materials\nWTR.V:Oil & Gas E&P:Energy\n::\n::\nGXR.V::\nGLD.V:Other Precious Metals & Mining:Basic Materials\nHIT.V:Leisure:Consumer Cyclical\nIVS.V:Gold:Basic Materials\nLET.V::\nOLV.V:Other Precious Metals & Mining:Basic Materials\nORS.V:Other Industrial Metals & Mining:Basic Materials\nPGV.V:Information Technology Services:Technology\nPSL.V:Other Precious Metals & Mining:Basic Materials\nRMN.V::\n::\nSZM.V:Other Industrial Metals & Mining:Basic Materials\nSOJ.V::\n::\nSS.V::\nTIR.V::\nTWY.V:Other Industrial Metals & Mining:Basic Materials\n::\nWIL.V:Oil & Gas E&P:Energy\nYVI.V:Oil & Gas E&P:Energy\nTTM.V::\n::\nDVR.V::\nEIL.V:Metal Fabrication:Industrials\nMIN.V::\nGUG.V:Gold:Basic Materials\nIRR.V:Other Industrial Metals & Mining:Basic Materials\n::\nKS.V:Silver:Basic Materials\nLIX.V::\nMPT.V:Capital Markets:Financial Services\nMSR.V:Other Industrial Metals & Mining:Basic Materials\nMOX.V:Thermal Coal:Energy\nPTC.V:Oil & Gas E&P:Energy\n::\n::\n::\nREZ.V::\n::\nROM.V::\nWEY.V::\nFNR.V:Asset Management:Financial Services\nOY.V::\nDVN.V::\nDSF.V::\n::\n::\nFV.V:Other Industrial Metals & Mining:Basic Materials\nFDR.V::\nIGO.V:Gold:Basic Materials\nIRC.V::\nMED.V:Other Precious Metals & Mining:Basic Materials\nMI.V::\nFFF.V::\n::\nRPN.V::\nRYE.V:Gold:Basic Materials\n::\nSKK.V:Oil & Gas E&P:Energy\n::\nVDR.V::\n::\n::\n::\nDLC.V:Packaged Foods:Consumer Defensive\n::\nHRH.V:Oil & Gas E&P:Energy\nKES.V:Gold:Basic Materials\n::\nPCR.V:Gold:Basic Materials\nRGM.V::\nRRI.V:Other Precious Metals & Mining:Basic Materials\nSIO.V::\n::\nWST.V::\nCHC.V:Real Estate Services:Real Estate\nCOL.V:Copper:Basic Materials\nCWC.V:Oil & Gas Equipment & Services:Energy\nORX.V:Gold:Basic Materials\nRRL.V::\nLAB.V:Gold:Basic Materials\nON.V::\nVRY.V:Oil & Gas E&P:Energy\nSSV.V:Other Precious Metals & Mining:Basic Materials\nFSW.V::\nGRR.V::\nIGX.V:Biotechnology:Healthcare\nNDR.V:Other Precious Metals & Mining:Basic Materials\nNEE.V:Other Precious Metals & Mining:Basic Materials\nPXA.V::\nPTF.V:Asset Management:Financial Services\nIES.V::\nPTG.V::\nNFR.V::\nWHY.V:Other Industrial Metals & Mining:Basic Materials\nCR.TO:Oil & Gas E&P:Energy\nCDH.TO:Oil & Gas E&P:Energy\nCGO.TO:Telecom Services:Communication Services\nCHW.TO:Credit Services:Financial Services\nCIC.TO::\nCMG.TO:Software—Application:Technology\nCOP.TO:Other Industrial Metals & Mining:Basic Materials\nCPG.TO:Oil & Gas E&P:Energy\nCQE.TO:Oil & Gas E&P:Energy\nCVE.TO:Oil & Gas Integrated:Energy\nCVL.TO::\n::\n::\n::\n::\n::\n::\n::\nMRD.TO:Real Estate—Development:Real Estate\nTCS.TO:Software—Application:Technology\nTC.TO:Software—Infrastructure:Technology\nG.TO::\n::\n::\nNKO.TO::\nVCM.TO:Communication Equipment:Technology\nXTC.TO:Auto Parts:Consumer Cyclical\nKLS.TO:Railroads:Industrials\nNSU.TO::\nSII.TO:Asset Management:Financial Services\nT.TO:Telecom Services:Communication Services\nUNS.TO:Auto Parts:Consumer Cyclical\nVNP.TO:Specialty Chemicals:Basic Materials\nGEN.TO::\nKOR.TO:Gold:Basic Materials\nDPM.TO:Gold:Basic Materials\nETX.TO:Utilities—Renewable:Utilities\nHYG.TO::\n::\n::\n::\n::\nSH.TO::\nVSN.TO::\nSCB.TO::\nEVT.TO::\n::\n::\n::\n::\n::\nUNC.TO:Asset Management:Financial Services\n::\n::\n::\n::\nMMM.TO::\nNTB.TO::\nTLB.TO::\nPLI.TO::\nSU.TO:Oil & Gas Integrated:Energy\nX.TO:Financial Data & Stock Exchanges:Financial Services\nURE.TO:Uranium:Energy\n::\nDXI.TO:Oil & Gas E&P:Energy\nGXI.TO::\nKER.TO:Gold:Basic Materials\nPLG.TO::\nRCH.TO:Furnishings, Fixtures & Appliances:Consumer Cyclical\nRIC.TO::\n::\n::\nWEQ.TO::\nZCL.TO::\nLII.TO::\n::\n::\nHER.TO::\nRE.TO::\nEXF.TO:Communication Equipment:Technology\nPUR.TO::\nRVX.TO:Biotechnology:Healthcare\nHRX.TO:Aerospace & Defense:Industrials\nSVL.TO::\nTPH.TO:Lodging:Consumer Cyclical\nDEE.TO:Oil & Gas E&P:Energy\n::\nEXN.TO:Other Industrial Metals & Mining:Basic Materials\nGLG.TO:Farm Products:Consumer Defensive\nLUN.TO:Copper:Basic Materials\nMTY.TO:Restaurants:Consumer Cyclical\nNI.TO::\n::\n::\nYCM.TO:Asset Management:Financial Services\nMNW.TO::\n::\nPDV.TO:Asset Management:Financial Services\nP.TO::\nE.TO:Engineering & Construction:Industrials\nLN.TO:Gold:Basic Materials\nNCF.TO:Other Industrial Metals & Mining:Basic Materials\nPMN.TO:Biotechnology:Healthcare\nSCP.TO::\nTRI.TO:Consulting Services:Industrials\nXDC.TO::\nFSV.TO:Real Estate Services:Real Estate\n::\n::\nRKN.TO::\nDFN.TO:Asset Management:Financial Services\n::\nEGZ.TO::\n::\nNB.TO:Other Industrial Metals & Mining:Basic Materials\nPHX.TO:Oil & Gas Drilling:Energy\nTXG.TO:Gold:Basic Materials\nDF.TO:Asset Management:Financial Services\n::\nPCY.TO:Other Industrial Metals & Mining:Basic Materials\nDGS.TO:Asset Management:Financial Services\nESI.TO:Oil & Gas Drilling:Energy\nWRN.TO:Other Industrial Metals & Mining:Basic Materials\nWTE.TO:Marine Shipping:Industrials\nET.TO:Communication Equipment:Technology\nITC.TO:Software—Application:Technology\n::\nWEF.TO:Lumber & Wood Production:Basic Materials\n::\n::\n::\n::\n::\n::\nCN.V:Other Precious Metals & Mining:Basic Materials\nCCE.V:Other Industrial Metals & Mining:Basic Materials\nCEA.V::\nCFL.V::\nCKK.V:Engineering & Construction:Industrials\nCMU.V:Other Industrial Metals & Mining:Basic Materials\nCNA.V::\nCNZ.V::\nCPV.V::\nCQR.V:Gold:Basic Materials\nCST.V::\nCTZ.V:Software—Application:Technology\nCUC.V:Other Industrial Metals & Mining:Basic Materials\nCUG.V::\nCUI.V:Other Industrial Metals & Mining:Basic Materials\nCWV.V:Oil & Gas E&P:Energy\nCXB.V::\nCYP.V:Other Industrial Metals & Mining:Basic Materials\n::\n::\n::\n::\n::\n::\nRFC.V:Credit Services:Financial Services\nJTC.V:Scientific & Technical Instruments:Technology\nMIX.V::\n::\nKFG.V:Oil & Gas E&P:Energy\nDVI.V:Other Precious Metals & Mining:Basic Materials\nKEK.V::\nMPH.V:Biotechnology:Healthcare\nXME.V::\nPYT.V::\nMTH.V:Other Precious Metals & Mining:Basic Materials\nOYL.V:Oil & Gas E&P:Energy\nOEG.V:Utilities—Diversified:Utilities\nMCS.V:Other Industrial Metals & Mining:Basic Materials\n::\nROI.V:Software—Application:Technology\nRUP.V:Gold:Basic Materials\nSTT.V::\nSOI.V:Other Industrial Metals & Mining:Basic Materials\n::\nVID.V::\nDXX.V:Software—Application:Technology\nESU.V:Electrical Equipment & Parts:Industrials\nEUO.V::\nHUD.V:Other Industrial Metals & Mining:Basic Materials\nMCX.V:Software—Application:Technology\nMKR.V:Other Industrial Metals & Mining:Basic Materials\nMCA.V::\nMIO.V::\n::\nORE.V:Gold:Basic Materials\n::\nROG.V::\nZMD.V::\nDVT.V::\nEVR.V:Gold:Basic Materials\nFRI.V:Other Industrial Metals & Mining:Basic Materials\nFTI.V:Specialty Retail:Consumer Cyclical\nIVX.V:Metal Fabrication:Industrials\nKLM.V:Gold:Basic Materials\n::\nQST.V:Pollution & Treatment Controls:Industrials\nSLG.V::\nTRS.V:Other Precious Metals & Mining:Basic Materials\n::\nNKW.V:Utilities—Renewable:Utilities\nONE.V:Software—Application:Technology\nDEX.V:Gold:Basic Materials\nENG.V::\n::\nESE.V::\nFCV.V::\n::\nGCN.V:Gold:Basic Materials\nGWQ.V::\n::\nIZN.V:Other Industrial Metals & Mining:Basic Materials\nJAU.V::\n::\nPTR.V::\n::\nTNR.V:Other Industrial Metals & Mining:Basic Materials\nHEM.V:Biotechnology:Healthcare\nPTE.V:Security & Protection Services:Industrials\nPHO.V::\n::\nRYO.V:Other Industrial Metals & Mining:Basic Materials\n::\nSDX.V::\nSIR.V:Other Industrial Metals & Mining:Basic Materials\n::\nHOP.V::\nTGR.V:Other Industrial Metals & Mining:Basic Materials\nELO.V:Gold:Basic Materials\nSV.V::\nINX.V:Software—Application:Technology\nGV.V:Gold:Basic Materials\nIRO.V:Packaged Foods:Consumer Defensive\nMCE.V::\nNXS.V:Gold:Basic Materials\nNVT.V:Other Industrial Metals & Mining:Basic Materials\nRVL.V:Other Industrial Metals & Mining:Basic Materials\nSRX.V::\nTXX.V::\nDEQ.V::\nDCY.V:Other Precious Metals & Mining:Basic Materials\nGTC.V:Other Industrial Metals & Mining:Basic Materials\n::\nZIM.V::\nMTV.V::\nORO.V:Other Industrial Metals & Mining:Basic Materials\nNNP.V:Real Estate—Development:Real Estate\nRRE.V::\nSN.V::\n::\nSHL.V:Other Industrial Metals & Mining:Basic Materials\nSDR.V:Gold:Basic Materials\nTUO.V:Other Precious Metals & Mining:Basic Materials\nNTY.V::\n::\nLA.V:Other Industrial Metals & Mining:Basic Materials\nHTC.V:Oil & Gas Equipment & Services:Energy\n::\n::\nMPS.V::\n::\n::\nRGD.V:Gold:Basic Materials\nSGN.V:Gold:Basic Materials\nSKX.V::\nTNC.V::\nTSD.V:Other Industrial Metals & Mining:Basic Materials\nVQS.V:Software—Application:Technology\nGTP.V::\nRSV.V:Other Industrial Metals & Mining:Basic Materials\nEDE.V::\nEU.V:Uranium:Energy\nGGL.V:Other Precious Metals & Mining:Basic Materials\nKG.V:Gold:Basic Materials\nMZI.V::\nMNP.V::\nMUN.V:Other Industrial Metals & Mining:Basic Materials\nPFC.V::\nRJ.V::\nVRD.V::\nYO.V::\nLMG.V:Gold:Basic Materials\n::\n::\nPRO.V:Other Industrial Metals & Mining:Basic Materials\n::\nRRS.V:Other Industrial Metals & Mining:Basic Materials\nROU.V::\n::\nXCX.V::\nELN.V:Other Industrial Metals & Mining:Basic Materials\nEET.V::\nEVM.V:Gold:Basic Materials\nEXS.V::\nGXS.V:Gold:Basic Materials\nLMR.V:Other Industrial Metals & Mining:Basic Materials\nMVM.V::\nMIT.V:Credit Services:Financial Services\nPTP.V::\nPGM.V:Gold:Basic Materials\nQGR.V:Other Precious Metals & Mining:Basic Materials\nSFX.V:Other Industrial Metals & Mining:Basic Materials\n::\nTSN.V:Other Industrial Metals & Mining:Basic Materials\nTGM.V::\nVVV.V::\nVVN.V::\nOSS.V:Software—Application:Technology\nPOP.V::\nPNE.V::\nPTK.V:Semiconductors:Technology\nREG.V:Other Industrial Metals & Mining:Basic Materials\nRCK.V:Other Industrial Metals & Mining:Basic Materials\nZMS.V:Medical Devices:Healthcare\n::\nEGD.V::\nMRO.V:Other Industrial Metals & Mining:Basic Materials\nRHR.V::\nRZ.V::\n::\nNED.V:Other Industrial Metals & Mining:Basic Materials\nNW.V:Other Industrial Metals & Mining:Basic Materials\n::\nRCT.V:Gold:Basic Materials\nDAU.V:Other Industrial Metals & Mining:Basic Materials\nGOE.V:Oil & Gas E&P:Energy\nGSR.V:Gold:Basic Materials\n::\nLPS.V:Electrical Equipment & Parts:Industrials\nSFD.V::\nWPR.V::\nTRU.V::\nEPT.V::\nNM.V::\n::\nRG.V:Gold:Basic Materials\nWMR.V:Other Industrial Metals & Mining:Basic Materials\nSIC.V:Gold:Basic Materials\nMCW.V::\nRP.V:Biotechnology:Healthcare\nNR.V::\nSSE.V:Other Industrial Metals & Mining:Basic Materials\nSPF.V::\nDVG.V::\nSUP.V:Gold:Basic Materials\nDGC.TO:Gold:Basic Materials\nDML.TO:Uranium:Energy\nRC.TO::\nGDS.TO::\nSGF.TO::\nETG.TO:Other Industrial Metals & Mining:Basic Materials\nGEO.TO:Other Industrial Metals & Mining:Basic Materials\nGQM.TO::\nHYD.TO::\nKDX.TO::\nTIH.TO:Industrial Distribution:Industrials\n::\nFVL.TO:Other Industrial Metals & Mining:Basic Materials\nGGA.TO:Gold:Basic Materials\nHLF.TO:Packaged Foods:Consumer Defensive\nMDN.TO::\nMTL.TO:Oil & Gas Equipment & Services:Energy\nTD.TO:Banks—Diversified:Financial Services\nGDL.TO:Lumber & Wood Production:Basic Materials\nH.TO:Utilities—Regulated Electric:Utilities\nIPL.TO:Oil & Gas Midstream:Energy\nWDO.TO:Gold:Basic Materials\n::\nTPL.TO::\n::\n::\n::\n::\nWN.TO:Grocery Stores:Consumer Defensive\nPG.TO:Gold:Basic Materials\n::\nPUD.TO::\n::\nDNX.V::\nDOS.V:Other Precious Metals & Mining:Basic Materials\n::\n::\n::\nNXX.V::\nLES.V::\nLEN.V::\nTGK.V::\nIMR.V:Other Industrial Metals & Mining:Basic Materials\nLGN.V::\nGRZ.V:Gold:Basic Materials\nGR.V:Other Industrial Metals & Mining:Basic Materials\n::\nSTE.V:Other Industrial Metals & Mining:Basic Materials\n::\nSGG.V::\n::\nEMR.V:Gold:Basic Materials\nFDC.V::\n::\nSGC.V:Gold:Basic Materials\n::\nGZZ.V:Other Industrial Metals & Mining:Basic Materials\nGVG.V::\nIDM.V::\nKGL.V:Gold:Basic Materials\nNOX.V::\nOML.V:Metal Fabrication:Industrials\nSOF.V::\nTHM.V::\nKLE.V::\nNRN.V:Other Industrial Metals & Mining:Basic Materials\nODN.V::\nROC.V::\nEEL.V::\nGQC.V:Other Industrial Metals & Mining:Basic Materials\nPGK.V::\nKWF.V::\n::\nFEN.V::\nGNH.V::\nQI.V::\nZEE.V:Oil & Gas E&P:Energy\nSGM.V::\nTTD.V:Computer Hardware:Technology\n::\nESL.TO::\n::\nUEX.TO:Other Industrial Metals & Mining:Basic Materials\nOCX.TO::\n::\n::\nOTC.TO::\nTEL.TO::\nQEC.TO:Oil & Gas E&P:Energy\nMGT.TO::\nSXI.TO:Utilities—Regulated Electric:Utilities\nIFP.TO:Lumber & Wood Production:Basic Materials\nHSE.TO:Oil & Gas Integrated:Energy\nGIX.TO::\n::\nS.TO:Other Industrial Metals & Mining:Basic Materials\nPOM.TO:Other Industrial Metals & Mining:Basic Materials\nWRG.TO:Oil & Gas Drilling:Energy\nWPT.TO::\nITH.TO:Gold:Basic Materials\nLNF.TO:Specialty Retail:Consumer Cyclical\nVET.TO:Oil & Gas E&P:Energy\nPWT.TO::\n::\nES.V::\nEEV.V::\nESV.V::\nJNX.V::\nGKX.V::\nIVI.V:Software—Application:Technology\nGNT.V:Other Industrial Metals & Mining:Basic Materials\n::\nFTR.V::\nREK.V::\nTHX.V:Gold:Basic Materials\n::\nGUL.V::\nKGF.V::\nPYR.V:Specialty Industrial Machinery:Industrials\nXL.V:Oil & Gas E&P:Energy\nHJI.V::\nHRL.V:Other Industrial Metals & Mining:Basic Materials\nIGP.V:Farm Products:Consumer Defensive\nIFR.V:Oil & Gas E&P:Energy\nNXE.V::\nSNV.V:Oil & Gas E&P:Energy\nZUM.V:Entertainment:Communication Services\nFRN.V:Farm Products:Consumer Defensive\nGIT.V:Other Precious Metals & Mining:Basic Materials\nMVW.V::\n::\nNWX.V:Other Industrial Metals & Mining:Basic Materials\nNIK.V::\n::\nRUN.V::\nHEI.V:Oil & Gas E&P:Energy\nSHJ.V::\nHME.V:Oil & Gas E&P:Energy\nPEH.V:Oil & Gas E&P:Energy\nRW.V:Software—Application:Technology\nPTS.TO:Internet Content & Information:Communication Services\nFTT.TO:Industrial Distribution:Industrials\nFPX.TO::\n::\n::\nITT.V:Software—Application:Technology\nVIO.V:Other Industrial Metals & Mining:Basic Materials\nSYZ.V:Software—Application:Technology\nTOE.V:Gold:Basic Materials\nQIS.V:Software—Application:Technology\nSGZ.V:Other Industrial Metals & Mining:Basic Materials\nTOS.TO::\n::\nNOT.V:Other Industrial Metals & Mining:Basic Materials\n"
    }
   ],
   "source": [
    "import requests\n",
    "json_txts = []\n",
    "sectors = []\n",
    "industrys = []\n",
    "for ticket in df.ticket:\n",
    "    json_txt = ''\n",
    "    sector = ''\n",
    "    industry = ''\n",
    "    if len(ticket) > 0:\n",
    "        try:\n",
    "            r = requests.get(\"https://query1.finance.yahoo.com/v10/finance/quoteSummary/\" + ticket + \"?lang=en-US&region=US&modules=assetProfile&corsDomain=finance.yahoo.com\")\n",
    "            json_txt = r.content\n",
    "            try:\n",
    "                sector = r.json()['quoteSummary']['result'][0]['assetProfile']['sector']\n",
    "            except:\n",
    "                pass\n",
    "            try:\n",
    "                industry = r.json()['quoteSummary']['result'][0]['assetProfile']['industry']\n",
    "            except:\n",
    "                pass\n",
    "        except:\n",
    "            pass    \n",
    "    print(ticket + ':' + industry + \":\" + sector)\n",
    "    json_txts.append(json_txt)\n",
    "    sectors.append(sector)\n",
    "    industrys.append(industry)\n"
   ]
  },
  {
   "cell_type": "code",
   "execution_count": 16,
   "metadata": {},
   "outputs": [],
   "source": [
    "df['industry']=industrys\n",
    "df['sector'] = sectors\n",
    "df['json'] = json_txt"
   ]
  },
  {
   "cell_type": "code",
   "execution_count": 18,
   "metadata": {},
   "outputs": [
    {
     "name": "stdout",
     "output_type": "stream",
     "text": "125\n13\n"
    },
    {
     "data": {
      "text/html": "<div>\n<style scoped>\n    .dataframe tbody tr th:only-of-type {\n        vertical-align: middle;\n    }\n\n    .dataframe tbody tr th {\n        vertical-align: top;\n    }\n\n    .dataframe thead th {\n        text-align: right;\n    }\n</style>\n<table border=\"1\" class=\"dataframe\">\n  <thead>\n    <tr style=\"text-align: right;\">\n      <th></th>\n      <th>ID</th>\n      <th>symbol</th>\n      <th>descript</th>\n      <th>exchange</th>\n      <th>ticket</th>\n      <th>industry</th>\n      <th>sector</th>\n      <th>json</th>\n    </tr>\n  </thead>\n  <tbody>\n    <tr>\n      <th>0</th>\n      <td>21480311</td>\n      <td>A</td>\n      <td>ARMOR MINERALS INC.</td>\n      <td>TOR-V</td>\n      <td>A.V</td>\n      <td>Other Industrial Metals &amp; Mining</td>\n      <td>Basic Materials</td>\n      <td>b'{\"quoteSummary\":{\"result\":[{\"assetProfile\":{...</td>\n    </tr>\n    <tr>\n      <th>1</th>\n      <td>96768</td>\n      <td>AC</td>\n      <td>AIR CANADA</td>\n      <td>TOR</td>\n      <td>AC.TO</td>\n      <td>Airlines</td>\n      <td>Industrials</td>\n      <td>b'{\"quoteSummary\":{\"result\":[{\"assetProfile\":{...</td>\n    </tr>\n    <tr>\n      <th>2</th>\n      <td>26050555</td>\n      <td>AD</td>\n      <td>ALARIS ROYALTY CORP</td>\n      <td>TOR</td>\n      <td>AD.TO</td>\n      <td>Conglomerates</td>\n      <td>Industrials</td>\n      <td>b'{\"quoteSummary\":{\"result\":[{\"assetProfile\":{...</td>\n    </tr>\n    <tr>\n      <th>3</th>\n      <td>31349</td>\n      <td>AF</td>\n      <td>ALARMFORCE</td>\n      <td>TOR</td>\n      <td>AF.TO</td>\n      <td></td>\n      <td></td>\n      <td>b'{\"quoteSummary\":{\"result\":[{\"assetProfile\":{...</td>\n    </tr>\n    <tr>\n      <th>4</th>\n      <td>69675825</td>\n      <td>AI</td>\n      <td>ATRIUM MORTGAGE INVESTMENT CORPORATION</td>\n      <td>TOR</td>\n      <td>AI.TO</td>\n      <td>Mortgage Finance</td>\n      <td>Financial Services</td>\n      <td>b'{\"quoteSummary\":{\"result\":[{\"assetProfile\":{...</td>\n    </tr>\n  </tbody>\n</table>\n</div>",
      "text/plain": "         ID symbol                                descript exchange ticket  \\\n0  21480311      A                     ARMOR MINERALS INC.    TOR-V    A.V   \n1     96768     AC                              AIR CANADA      TOR  AC.TO   \n2  26050555     AD                     ALARIS ROYALTY CORP      TOR  AD.TO   \n3     31349     AF                              ALARMFORCE      TOR  AF.TO   \n4  69675825     AI  ATRIUM MORTGAGE INVESTMENT CORPORATION      TOR  AI.TO   \n\n                           industry              sector  \\\n0  Other Industrial Metals & Mining     Basic Materials   \n1                          Airlines         Industrials   \n2                     Conglomerates         Industrials   \n3                                                         \n4                  Mortgage Finance  Financial Services   \n\n                                                json  \n0  b'{\"quoteSummary\":{\"result\":[{\"assetProfile\":{...  \n1  b'{\"quoteSummary\":{\"result\":[{\"assetProfile\":{...  \n2  b'{\"quoteSummary\":{\"result\":[{\"assetProfile\":{...  \n3  b'{\"quoteSummary\":{\"result\":[{\"assetProfile\":{...  \n4  b'{\"quoteSummary\":{\"result\":[{\"assetProfile\":{...  "
     },
     "execution_count": 18,
     "metadata": {},
     "output_type": "execute_result"
    }
   ],
   "source": [
    "print(len(set(industrys)))\n",
    "print(len(set(sectors)))\n",
    "df.head()"
   ]
  },
  {
   "cell_type": "code",
   "execution_count": 19,
   "metadata": {},
   "outputs": [],
   "source": [
    "df.to_sql('master_ext', con = conn)"
   ]
  }
 ]
}